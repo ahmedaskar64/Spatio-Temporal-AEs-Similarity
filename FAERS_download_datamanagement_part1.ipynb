{
 "cells": [
  {
   "cell_type": "markdown",
   "metadata": {
    "id": "2LwbkF1GMdSo"
   },
   "source": [
    "# FAERS Public dataset download"
   ]
  },
  {
   "cell_type": "markdown",
   "metadata": {
    "id": "hcTIxUDKMdSy"
   },
   "source": [
    "### Importing all the necessary libraries"
   ]
  },
  {
   "cell_type": "code",
   "execution_count": 1,
   "metadata": {
    "colab": {
     "base_uri": "https://localhost:8080/"
    },
    "id": "36dTcFUpMdS1",
    "outputId": "821af63d-370a-4df5-dcdd-7561dce7ce78"
   },
   "outputs": [],
   "source": [
    "\n",
    "import geopandas as gpd\n",
    "\n",
    "import pandas as pd\n",
    "#import vaex as vd\n",
    "import numpy as np\n",
    "from shapely.geometry import Point\n",
    "\n",
    "#For data handling and munging. This is an extremely powerful tool\n",
    "#for working with data in a spreadsheet-like format. If you’re familiar with R data.frames, then you’ll love pandas.\n",
    "import fiona\n",
    "#fiona - For making it easy to read/write geospatial data formats\n",
    "\n",
    "import matplotlib.pyplot as plt\n",
    "%matplotlib inline\n",
    "import seaborn as sns\n",
    "#for plotting\n",
    "\n",
    "import os\n",
    "#sys library\n",
    "\n",
    "from functools import reduce"
   ]
  },
  {
   "cell_type": "code",
   "execution_count": 2,
   "metadata": {
    "id": "f4SObKK2MdS3"
   },
   "outputs": [],
   "source": [
    "#importing\n",
    "#requesting files over the internet\n",
    "#import requests\n",
    "import urllib.request\n",
    "\n",
    "#unpacking zipfiles\n",
    "import zipfile\n",
    "import tarfile\n",
    "import urllib.request, shutil\n"
   ]
  },
  {
   "cell_type": "markdown",
   "metadata": {
    "id": "7BI5L0qiNiQn"
   },
   "source": [
    "###mounting drive**"
   ]
  },
  {
   "cell_type": "code",
   "execution_count": 6,
   "metadata": {
    "colab": {
     "base_uri": "https://localhost:8080/"
    },
    "id": "ut_EGOgENi20",
    "outputId": "7fe459a5-0dfd-4de3-c7d7-cd8be6c80295"
   },
   "outputs": [
    {
     "name": "stdout",
     "output_type": "stream",
     "text": [
      "/content/drive\n",
      "Drive already mounted at /content/drive; to attempt to forcibly remount, call drive.mount(\"/content/drive\", force_remount=True).\n"
     ]
    }
   ],
   "source": [
    "# Mount Google Drive\n",
    "from google.colab import drive # import drive from google colab\n",
    "\n",
    "ROOT = \"/content/drive\"     # default location for the drive\n",
    "print(ROOT)                 # print content of ROOT (Optional)\n",
    "\n",
    "drive.mount(ROOT)"
   ]
  },
  {
   "cell_type": "code",
   "execution_count": 3,
   "metadata": {
    "id": "jcbGnE-kUl39"
   },
   "outputs": [],
   "source": [
    "os.chdir(r\"D:\\Research\\FAERS_Public_Similarity\\Data\\zip\")"
   ]
  },
  {
   "cell_type": "markdown",
   "metadata": {
    "id": "lAHnp3LuMdS6"
   },
   "source": [
    "## Importing latest FAERS dataset from openFDA api\n"
   ]
  },
  {
   "cell_type": "markdown",
   "metadata": {
    "id": "m--N-9QYMdS7"
   },
   "source": [
    "#### brute force download (use 1 only)\n"
   ]
  },
  {
   "cell_type": "code",
   "execution_count": 4,
   "metadata": {
    "colab": {
     "base_uri": "https://localhost:8080/",
     "height": 508
    },
    "id": "yDFIqsfMMdS8",
    "outputId": "c4d5301d-3513-4304-c360-7f4deb4af7e2"
   },
   "outputs": [
    {
     "name": "stdout",
     "output_type": "stream",
     "text": [
      "https://fis.fda.gov/content/Exports/faers_ascii_2013q1.zip\n",
      "https://fis.fda.gov/content/Exports/faers_ascii_2013q2.zip\n",
      "https://fis.fda.gov/content/Exports/faers_ascii_2013q3.zip\n",
      "https://fis.fda.gov/content/Exports/faers_ascii_2013q4.zip\n",
      "https://fis.fda.gov/content/Exports/faers_ascii_2014q1.zip\n",
      "https://fis.fda.gov/content/Exports/faers_ascii_2014q2.zip\n",
      "https://fis.fda.gov/content/Exports/faers_ascii_2014q3.zip\n",
      "https://fis.fda.gov/content/Exports/faers_ascii_2014q4.zip\n",
      "https://fis.fda.gov/content/Exports/faers_ascii_2015q1.zip\n",
      "https://fis.fda.gov/content/Exports/faers_ascii_2015q2.zip\n",
      "https://fis.fda.gov/content/Exports/faers_ascii_2015q3.zip\n",
      "https://fis.fda.gov/content/Exports/faers_ascii_2015q4.zip\n",
      "https://fis.fda.gov/content/Exports/faers_ascii_2016q1.zip\n",
      "https://fis.fda.gov/content/Exports/faers_ascii_2016q2.zip\n",
      "https://fis.fda.gov/content/Exports/faers_ascii_2016q3.zip\n",
      "https://fis.fda.gov/content/Exports/faers_ascii_2016q4.zip\n",
      "https://fis.fda.gov/content/Exports/faers_ascii_2017q1.zip\n",
      "https://fis.fda.gov/content/Exports/faers_ascii_2017q2.zip\n",
      "https://fis.fda.gov/content/Exports/faers_ascii_2017q3.zip\n",
      "https://fis.fda.gov/content/Exports/faers_ascii_2017q4.zip\n",
      "https://fis.fda.gov/content/Exports/faers_ascii_2018q1.zip\n",
      "https://fis.fda.gov/content/Exports/faers_ascii_2018q2.zip\n",
      "https://fis.fda.gov/content/Exports/faers_ascii_2018q3.zip\n",
      "https://fis.fda.gov/content/Exports/faers_ascii_2018q4.zip\n",
      "https://fis.fda.gov/content/Exports/faers_ascii_2019q1.zip\n",
      "https://fis.fda.gov/content/Exports/faers_ascii_2019q2.zip\n",
      "https://fis.fda.gov/content/Exports/faers_ascii_2019q3.zip\n",
      "https://fis.fda.gov/content/Exports/faers_ascii_2019q4.zip\n",
      "https://fis.fda.gov/content/Exports/faers_ascii_2020q1.zip\n",
      "https://fis.fda.gov/content/Exports/faers_ascii_2020q2.zip\n",
      "https://fis.fda.gov/content/Exports/faers_ascii_2020q3.zip\n",
      "https://fis.fda.gov/content/Exports/faers_ascii_2020q4.zip\n",
      "zipfile download complete\n"
     ]
    }
   ],
   "source": [
    "#brute force download\n",
    "for i in range(2013,2021):\n",
    "    for j in range (1,5):\n",
    "        url = \"https://fis.fda.gov/content/Exports/faers_ascii_\"+str(i)+\"q\"+str(j)+\".zip\"#2013 and up\n",
    "        #url = \"https://fis.fda.gov/content/Exports/aers_ascii_\"+str(i)+\"q\"+str(j)+\".zip\" #earlier database\n",
    "\n",
    "        #print(i,\"_\",j)\n",
    "        print(url)\n",
    "        file_name = 'FAERS_'+str(i)+'q'+str(j)+'.zip'\n",
    "\n",
    "        with urllib.request.urlopen(url) as response, open(file_name, 'wb') as out_file:\n",
    "            shutil.copyfileobj(response, out_file)\n",
    "print('zipfile download complete')"
   ]
  },
  {
   "cell_type": "markdown",
   "metadata": {
    "id": "CwKjPVdsMdS-"
   },
   "source": [
    "#### piece meal download (use 1 only)"
   ]
  },
  {
   "cell_type": "code",
   "execution_count": null,
   "metadata": {
    "id": "VZTJTNxBMdS_"
   },
   "outputs": [],
   "source": [
    "###use one or the other\n",
    "###what year do you want to download\n",
    "###data starts from year 2004\n",
    "i= 2020\n",
    "###what quarter do you want to download (4 options q1, q2, q3, q4)\n",
    "j = 1#quarter\n",
    "url = \"https://fis.fda.gov/content/Exports/faers_ascii_\"+str(i)+\"q\"+str(j)+\".zip\"#2013 and up\n",
    "#url_ = \"https://fis.fda.gov/content/Exports/aers_ascii_\"+str(i_)+\"q\"+str(j_)+\".zip\" #earlier databaseprint(url_)\n",
    "file_name = 'FAERS_'+str(i)+'q'+str(j)+'.zip'\n",
    "#file_name = 'FLOODOUTLOOK_LATEST_simp_wgs84.zip'\n",
    "\n",
    "with urllib.request.urlopen(url) as response, open(file_name, 'wb') as out_file:\n",
    "  shutil.copyfileobj(response, out_file)\n",
    "\n",
    "print('zipfile download complete')"
   ]
  },
  {
   "cell_type": "markdown",
   "metadata": {
    "id": "xyYAkabXMdTD"
   },
   "source": [
    "### unzip  dataset"
   ]
  },
  {
   "cell_type": "markdown",
   "metadata": {
    "id": "qAQhh6eGMdTF"
   },
   "source": [
    "#### one folder at a time "
   ]
  },
  {
   "cell_type": "code",
   "execution_count": 18,
   "metadata": {
    "id": "XgZuXq0rMdTG"
   },
   "outputs": [
    {
     "name": "stdout",
     "output_type": "stream",
     "text": [
      "FAERS_2013q1.zip\n",
      "zipfile unzip complete\n"
     ]
    }
   ],
   "source": [
    "i_= 2013 #year\n",
    "###what quarter do you want to download (4 options q1, q2, q3, q4)\n",
    "j_ =1 #quarter\n",
    "file_name = 'FAERS_'+str(i_)+'q'+str(j_)+'.zip'\n",
    "print(file_name)\n",
    "\n",
    "zip_path=r\"D:\\Research\\FAERS_Public_Similarity\\Data\\zip\"\n",
    "unzip_path=r\"D:\\Research\\FAERS_Public_Similarity\\Data\\unzip\"\n",
    "os.chdir(zip_path)\n",
    "import zipfile\n",
    "zip_ref = zipfile.ZipFile(file_name)\n",
    "#zip_ref.printdir() \n",
    "os.chdir(unzip_path)\n",
    "zip_ref.extractall('FAERS_'+str(i_)+'q'+str(j_))\n",
    "zip_ref.close()\n",
    "print('zipfile unzip complete')\n"
   ]
  },
  {
   "cell_type": "markdown",
   "metadata": {
    "id": "L_kH3-SeMdTI"
   },
   "source": [
    "#### batch unzip folders "
   ]
  },
  {
   "cell_type": "code",
   "execution_count": 6,
   "metadata": {
    "id": "ZuNGbSZgMdTJ"
   },
   "outputs": [
    {
     "name": "stdout",
     "output_type": "stream",
     "text": [
      "FAERS_2013q1.zip\n",
      "zipfile unzip complete\n",
      "FAERS_2013q2.zip\n",
      "zipfile unzip complete\n",
      "FAERS_2013q3.zip\n",
      "zipfile unzip complete\n",
      "FAERS_2013q4.zip\n",
      "zipfile unzip complete\n",
      "FAERS_2014q1.zip\n",
      "zipfile unzip complete\n",
      "FAERS_2014q2.zip\n",
      "zipfile unzip complete\n",
      "FAERS_2014q3.zip\n",
      "zipfile unzip complete\n",
      "FAERS_2014q4.zip\n",
      "zipfile unzip complete\n",
      "FAERS_2015q1.zip\n",
      "zipfile unzip complete\n",
      "FAERS_2015q2.zip\n",
      "zipfile unzip complete\n",
      "FAERS_2015q3.zip\n",
      "zipfile unzip complete\n",
      "FAERS_2015q4.zip\n",
      "zipfile unzip complete\n",
      "FAERS_2016q1.zip\n",
      "zipfile unzip complete\n",
      "FAERS_2016q2.zip\n",
      "zipfile unzip complete\n",
      "FAERS_2016q3.zip\n",
      "zipfile unzip complete\n",
      "FAERS_2016q4.zip\n",
      "zipfile unzip complete\n",
      "FAERS_2017q1.zip\n",
      "zipfile unzip complete\n",
      "FAERS_2017q2.zip\n",
      "zipfile unzip complete\n",
      "FAERS_2017q3.zip\n",
      "zipfile unzip complete\n",
      "FAERS_2017q4.zip\n",
      "zipfile unzip complete\n",
      "FAERS_2018q1.zip\n",
      "zipfile unzip complete\n",
      "FAERS_2018q2.zip\n",
      "zipfile unzip complete\n",
      "FAERS_2018q3.zip\n",
      "zipfile unzip complete\n",
      "FAERS_2018q4.zip\n",
      "zipfile unzip complete\n",
      "FAERS_2019q1.zip\n",
      "zipfile unzip complete\n",
      "FAERS_2019q2.zip\n",
      "zipfile unzip complete\n",
      "FAERS_2019q3.zip\n",
      "zipfile unzip complete\n",
      "FAERS_2019q4.zip\n",
      "zipfile unzip complete\n",
      "FAERS_2020q1.zip\n",
      "zipfile unzip complete\n",
      "FAERS_2020q2.zip\n",
      "zipfile unzip complete\n",
      "FAERS_2020q3.zip\n",
      "zipfile unzip complete\n",
      "FAERS_2020q4.zip\n",
      "zipfile unzip complete\n"
     ]
    }
   ],
   "source": [
    "import zipfile\n",
    "\n",
    "for i_ in range(2013, 2021):\n",
    "    for j_ in range (1,5):\n",
    "        zip_path=r\"D:\\Research\\FAERS_Public_Similarity\\Data\\zip\"\n",
    "        unzip_path=r\"D:\\Research\\FAERS_Public_Similarity\\Data\\unzip\"\n",
    "\n",
    "        #zip_path = r\"D:\\Research\\FAERS_Public\\Data_20210222\\Orignal_data\\zipfile_data\"\n",
    "       # unzip_path = r\"D:\\Research\\FAERS_Public\\Data_20210222\\Orignal_data\\unzipped_data\"\n",
    "        os.chdir(zip_path)\n",
    "        file_name = 'FAERS_'+str(i_)+'q'+str(j_)+'.zip'\n",
    "        print(file_name)\n",
    "        zip_ref = zipfile.ZipFile(file_name)\n",
    "#zip_ref.printdir() \n",
    "        os.chdir(unzip_path)\n",
    "        zip_ref.extractall('FAERS_'+str(i_)+'q'+str(j_))\n",
    "        zip_ref.close()\n",
    "        print('zipfile unzip complete')"
   ]
  },
  {
   "cell_type": "markdown",
   "metadata": {
    "id": "PAkrdbMegPpj"
   },
   "source": [
    "#####change files names here and column names\n"
   ]
  },
  {
   "cell_type": "code",
   "execution_count": 15,
   "metadata": {},
   "outputs": [
    {
     "data": {
      "text/html": [
       "<div>\n",
       "<style scoped>\n",
       "    .dataframe tbody tr th:only-of-type {\n",
       "        vertical-align: middle;\n",
       "    }\n",
       "\n",
       "    .dataframe tbody tr th {\n",
       "        vertical-align: top;\n",
       "    }\n",
       "\n",
       "    .dataframe thead th {\n",
       "        text-align: right;\n",
       "    }\n",
       "</style>\n",
       "<table border=\"1\" class=\"dataframe\">\n",
       "  <thead>\n",
       "    <tr style=\"text-align: right;\">\n",
       "      <th></th>\n",
       "      <th>,primaryid,caseid,caseversion,i_f_code,event_dt,mfr_dt,init_fda_dt,fda_dt,rept_cod,mfr_num,mfr_sndr,age,age_cod,sex,e_sub,wt,wt_cod,rept_dt,to_mfr,occp_cod,reporter_country,occr_country</th>\n",
       "    </tr>\n",
       "  </thead>\n",
       "  <tbody>\n",
       "    <tr>\n",
       "      <th>0</th>\n",
       "      <td>0,30375293,3037529,3,F,199706.0,20130212.0,199...</td>\n",
       "    </tr>\n",
       "    <tr>\n",
       "      <th>1</th>\n",
       "      <td>1,30936912,3093691,2,F,199610.0,20130115.0,199...</td>\n",
       "    </tr>\n",
       "    <tr>\n",
       "      <th>2</th>\n",
       "      <td>2,32481334,3248133,4,F,1996.0,20130228.0,19980...</td>\n",
       "    </tr>\n",
       "    <tr>\n",
       "      <th>3</th>\n",
       "      <td>3,35865322,3586532,2,F,20000627.0,20130228.0,2...</td>\n",
       "    </tr>\n",
       "    <tr>\n",
       "      <th>4</th>\n",
       "      <td>4,37005182,3700518,2,F,200101.0,20010206.0,200...</td>\n",
       "    </tr>\n",
       "  </tbody>\n",
       "</table>\n",
       "</div>"
      ],
      "text/plain": [
       "  ,primaryid,caseid,caseversion,i_f_code,event_dt,mfr_dt,init_fda_dt,fda_dt,rept_cod,mfr_num,mfr_sndr,age,age_cod,sex,e_sub,wt,wt_cod,rept_dt,to_mfr,occp_cod,reporter_country,occr_country\n",
       "0  0,30375293,3037529,3,F,199706.0,20130212.0,199...                                                                                                                                       \n",
       "1  1,30936912,3093691,2,F,199610.0,20130115.0,199...                                                                                                                                       \n",
       "2  2,32481334,3248133,4,F,1996.0,20130228.0,19980...                                                                                                                                       \n",
       "3  3,35865322,3586532,2,F,20000627.0,20130228.0,2...                                                                                                                                       \n",
       "4  4,37005182,3700518,2,F,200101.0,20010206.0,200...                                                                                                                                       "
      ]
     },
     "execution_count": 15,
     "metadata": {},
     "output_type": "execute_result"
    }
   ],
   "source": [
    "d = pd.read_csv(r\"D:\\Research\\FAERS_Public_Similarity\\Data\\unzip\\FAERS_2013q1\\ascii\\DEMO13Q1.txt\",delimiter=\"$\",error_bad_lines=False, encoding='utf-8')\n",
    "d.head()     "
   ]
  },
  {
   "cell_type": "code",
   "execution_count": 25,
   "metadata": {
    "id": "_3UOcFEtgPTI"
   },
   "outputs": [
    {
     "name": "stdout",
     "output_type": "stream",
     "text": [
      "The File has been successfully renamed!\n"
     ]
    }
   ],
   "source": [
    "#os.chdir('/content/drive/MyDrive/colab_faers_data/Data/zip')\n",
    " \n",
    "#os.rename(r\"D:\\Research\\FAERS_Public_Similarity\\Data\\unzip\\FAERS_2018q1\\ascii\\DEMO18Q1_new.txt\",\n",
    "   #       r\"D:\\Research\\FAERS_Public_Similarity\\Data\\unzip\\FAERS_2018q1\\ascii\\DEMO18Q1.txt\")\n",
    "os.rename(r\"D:\\Research\\FAERS_Public_Similarity\\Data\\unzip\\FAERS_2013q3\\ASCII\",r\"D:\\Research\\FAERS_Public_Similarity\\Data\\unzip\\FAERS_2013q3\\ascii\")\n",
    "os.rename(r\"D:\\Research\\FAERS_Public_Similarity\\Data\\unzip\\FAERS_2020q1\\ASCII\",r\"D:\\Research\\FAERS_Public_Similarity\\Data\\unzip\\FAERS_2020q1\\ascii\")\n",
    "os.rename(r\"D:\\Research\\FAERS_Public_Similarity\\Data\\unzip\\FAERS_2020q2\\ASCII\",r\"D:\\Research\\FAERS_Public_Similarity\\Data\\unzip\\FAERS_2020q2\\ascii\")\n",
    "os.rename(r\"D:\\Research\\FAERS_Public_Similarity\\Data\\unzip\\FAERS_2020q3\\ASCII\",r\"D:\\Research\\FAERS_Public_Similarity\\Data\\unzip\\FAERS_2020q3\\ascii\")\n",
    "os.rename(r\"D:\\Research\\FAERS_Public_Similarity\\Data\\unzip\\FAERS_2020q4\\ASCII\",r\"D:\\Research\\FAERS_Public_Similarity\\Data\\unzip\\FAERS_2020q4\\ascii\")\n",
    "\n",
    "#for i_ in range(2020, 2021):\n",
    "  #  for j_ in range (1,5):\n",
    "   #     os.rename(r\"D:\\Research\\FAERS_Public_Similarity\\Data\\unzip\\FAERS_\"+str(i_)+\"q\"+str(j_)+\"\\ASCII\",r\"D:\\Research\\FAERS_Public_Similarity\\Data\\unzip\\FAERS_\"+str(i_)+\"q\"+str(j_)+\"\\ascii\")\n",
    "   #     print(i_,j_)\n",
    "\n",
    "print(\"The File has been successfully renamed!\")"
   ]
  },
  {
   "cell_type": "markdown",
   "metadata": {
    "id": "lerpIYVnssEH"
   },
   "source": [
    "#####change column names here"
   ]
  },
  {
   "cell_type": "markdown",
   "metadata": {
    "id": "c4wWQHrWi1pv"
   },
   "source": [
    "###Reading files \n"
   ]
  },
  {
   "cell_type": "markdown",
   "metadata": {
    "id": "ndnldy9me4Sc"
   },
   "source": [
    "after **2018** "
   ]
  },
  {
   "cell_type": "code",
   "execution_count": 28,
   "metadata": {
    "colab": {
     "base_uri": "https://localhost:8080/"
    },
    "id": "c1YmzQioj0WI",
    "outputId": "47300f16-db47-45ca-e7c1-6d19e120f7c2"
   },
   "outputs": [
    {
     "name": "stdout",
     "output_type": "stream",
     "text": [
      "20\n",
      "1\n",
      "20\n",
      "2\n",
      "20\n",
      "3\n",
      "20\n",
      "4\n",
      "done\n"
     ]
    }
   ],
   "source": [
    "df1_appended_data0 = []\n",
    "df2_appended_data0 = []\n",
    "df3_appended_data0 = []\n",
    "#df4_appended_data0 = []\n",
    "df5_appended_data0 = []\n",
    "#df6_appended_data0 = []\n",
    "#df7_appended_data0 = []\n",
    "chunk_size=5000\n",
    "for i in range(2020,2021):\n",
    "    for j in range (1,5):\n",
    "        ii = str(i)\n",
    "        ii =(ii[-2:])\n",
    "        print(ii)\n",
    "        print(j)\n",
    "      \n",
    "        df1_filepath =  r\"D:\\Research\\FAERS_Public_Similarity\\Data\\unzip\\FAERS_\"+str(i)+'q'+str(j)+'\\\\'+'ascii'+'\\\\'+'DEMO'+str(ii)+'Q'+str(j)+'.txt'\n",
    "        df2_filepath =  r\"D:\\Research\\FAERS_Public_Similarity\\Data\\unzip\\FAERS_\"+str(i)+'q'+str(j)+'\\\\'+'ascii'+'\\\\'+'DRUG'+str(ii)+'Q'+str(j)+'.txt'\n",
    "        df3_filepath =  r\"D:\\Research\\FAERS_Public_Similarity\\Data\\unzip\\FAERS_\"+str(i)+'q'+str(j)+'\\\\'+'ascii'+'\\\\'+'INDI'+str(ii)+'Q'+str(j)+'.txt'\n",
    "        #df4_filepath =  '/content/drive/MyDrive/colab_faers_data/Data/unzip/FAERS_'+str(i)+'q'+str(j)+'/'+'ascii'+'/'+'OUTC'+str(ii)+'Q'+str(j)+'.txt'\n",
    "        df5_filepath =  r\"D:\\Research\\FAERS_Public_Similarity\\Data\\unzip\\FAERS_\"+str(i)+'q'+str(j)+'\\\\'+'ascii'+'\\\\'+'REAC'+str(ii)+'Q'+str(j)+'.txt'\n",
    "\n",
    "        #df6_filepath =  '/content/drive/MyDrive/colab_faers_data/Data/unzip/FAERS_'+str(i)+'q'+str(j)+'/'+'ascii'+'/'+'RPSR'+str(ii)+'Q'+str(j)+'.txt'\n",
    "        #df7_filepath =  '/content/drive/MyDrive/colab_faers_data/Data/unzip/FAERS_'+str(i)+'q'+str(j)+'/'+'ascii'+'/'+'THER'+str(ii)+'Q'+str(j)+'.txt'\n",
    "        usecols1=[\"primaryid\",\"caseid\", \"event_dt\",\"occr_country\", 'age', 'sex' ]\n",
    "        usecols2=[\"primaryid\",\"caseid\", \"drugname\",\"prod_ai\"]\n",
    "        usecols3=[\"primaryid\",\"caseid\", \"indi_pt\"]\n",
    "        usecols5=[\"primaryid\",\"caseid\", \"pt\"]\n",
    "\n",
    "        df1 = pd.read_csv(df1_filepath,delimiter=\"$\",error_bad_lines=False, encoding='utf-8', usecols=usecols1)\n",
    "        df2 = pd.read_csv(df2_filepath,delimiter=\"$\",error_bad_lines=False, encoding=\"cp1252\", usecols=usecols2)\n",
    "        df3 = pd.read_csv(df3_filepath,delimiter=\"$\", usecols=usecols3)\n",
    "        #df4 = pd.read_csv(df4_filepath,delimiter=\"$\")\n",
    "        df5 = pd.read_csv(df5_filepath,delimiter=\"$\",error_bad_lines=False, encoding='utf-8', usecols=usecols5)\n",
    "        #df6 = pd.read_csv(df6_filepath,delimiter=\"$\")\n",
    "        #df7 = pd.read_csv(df7_filepath,delimiter=\"$\")\n",
    "       # print(df2.columns)\n",
    "        df1.columns = df1.columns.str.lower()  \n",
    "        df2.columns = df2.columns.str.lower()  \n",
    "        df3.columns = df3.columns.str.lower()  \n",
    "        #df4.columns = df4.columns.str.lower()  \n",
    "        df5.columns = df5.columns.str.lower() \n",
    "        #df6.columns = df6.columns.str.lower()  \n",
    "        #df7.columns = df7.columns.str.lower() \n",
    "\n",
    "\n",
    "        df1_appended_data0.append(df1)\n",
    "        df2_appended_data0.append(df2)\n",
    "        df3_appended_data0.append(df3)\n",
    "        #df4_appended_data0.append(df4)\n",
    "        df5_appended_data0.append(df5)\n",
    "        #df6_appended_data0.append(df6)\n",
    "        #df7_appended_data0.append(df7)\n",
    "\n",
    "# see pd.concat documentation for more info\n",
    "df1_appended_data0 = pd.concat(df1_appended_data0, axis=0)\n",
    "df2_appended_data0 = pd.concat(df2_appended_data0, axis=0)\n",
    "df3_appended_data0 = pd.concat(df3_appended_data0, axis=0)\n",
    "#df4_appended_data0 = pd.concat(df4_appended_data0, axis=0)\n",
    "df5_appended_data0 = pd.concat(df5_appended_data0, axis=0)\n",
    "#df6_appended_data0 = pd.concat(df6_appended_data0, axis=0)\n",
    "#df7_appended_data0 = pd.concat(df7_appended_data0, axis=0)\n",
    "print('done')"
   ]
  },
  {
   "cell_type": "code",
   "execution_count": 29,
   "metadata": {
    "colab": {
     "base_uri": "https://localhost:8080/"
    },
    "id": "I6WoG5Wgiymd",
    "outputId": "c8199ed3-10d5-4bcb-e6f9-0f48eee4fe9d"
   },
   "outputs": [
    {
     "name": "stdout",
     "output_type": "stream",
     "text": [
      "19\n",
      "1\n",
      "19\n",
      "2\n",
      "19\n",
      "3\n",
      "19\n",
      "4\n",
      "done\n"
     ]
    }
   ],
   "source": [
    "df1_appended_data0b = []\n",
    "df2_appended_data0b = []\n",
    "df3_appended_data0b = []\n",
    "#df4_appended_data0b = []\n",
    "df5_appended_data0b = []\n",
    "#df6_appended_data0b = []\n",
    "#df7_appended_data0b = []\n",
    "\n",
    "for i in range(2019,2020):\n",
    "    for j in range (1,5):\n",
    "        ii = str(i)\n",
    "        ii =(ii[-2:])\n",
    "        print(ii)\n",
    "        print(j)\n",
    "      \n",
    "        df1_filepath =  r\"D:\\Research\\FAERS_Public_Similarity\\Data\\unzip\\FAERS_\"+str(i)+'q'+str(j)+'\\\\'+'ascii'+'\\\\'+'DEMO'+str(ii)+'Q'+str(j)+'.txt'\n",
    "        df2_filepath =  r\"D:\\Research\\FAERS_Public_Similarity\\Data\\unzip\\FAERS_\"+str(i)+'q'+str(j)+'\\\\'+'ascii'+'\\\\'+'DRUG'+str(ii)+'Q'+str(j)+'.txt'\n",
    "        df3_filepath =  r\"D:\\Research\\FAERS_Public_Similarity\\Data\\unzip\\FAERS_\"+str(i)+'q'+str(j)+'\\\\'+'ascii'+'\\\\'+'INDI'+str(ii)+'Q'+str(j)+'.txt'\n",
    "        #df4_filepath =  '/content/drive/MyDrive/colab_faers_data/Data/unzip/FAERS_'+str(i)+'q'+str(j)+'/'+'ascii'+'/'+'OUTC'+str(ii)+'Q'+str(j)+'.txt'\n",
    "        df5_filepath =  r\"D:\\Research\\FAERS_Public_Similarity\\Data\\unzip\\FAERS_\"+str(i)+'q'+str(j)+'\\\\'+'ascii'+'\\\\'+'REAC'+str(ii)+'Q'+str(j)+'.txt'\n",
    "\n",
    "        #df6_filepath =  '/content/drive/MyDrive/colab_faers_data/Data/unzip/FAERS_'+str(i)+'q'+str(j)+'/'+'ascii'+'/'+'RPSR'+str(ii)+'Q'+str(j)+'.txt'\n",
    "        #df7_filepath =  '/content/drive/MyDrive/colab_faers_data/Data/unzip/FAERS_'+str(i)+'q'+str(j)+'/'+'ascii'+'/'+'THER'+str(ii)+'Q'+str(j)+'.txt'\n",
    "        usecols1=[\"primaryid\",\"caseid\", \"event_dt\",\"occr_country\", 'age', 'sex' ]\n",
    "        usecols2=[\"primaryid\",\"caseid\", \"drugname\",\"prod_ai\"]\n",
    "        usecols3=[\"primaryid\",\"caseid\", \"indi_pt\"]\n",
    "        usecols5=[\"primaryid\",\"caseid\", \"pt\"]\n",
    "\n",
    "        df1 = pd.read_csv(df1_filepath,delimiter=\"$\",error_bad_lines=False, encoding='utf-8', usecols=usecols1)\n",
    "        df2 = pd.read_csv(df2_filepath,delimiter=\"$\",error_bad_lines=False, encoding=\"cp1252\", usecols=usecols2)\n",
    "        df3 = pd.read_csv(df3_filepath,delimiter=\"$\", usecols=usecols3)\n",
    "        #df4 = pd.read_csv(df4_filepath,delimiter=\"$\")\n",
    "        df5 = pd.read_csv(df5_filepath,delimiter=\"$\",error_bad_lines=False, encoding='utf-8', usecols=usecols5)\n",
    "        #df6 = pd.read_csv(df6_filepath,delimiter=\"$\")\n",
    "        #df7 = pd.read_csv(df7_filepath,delimiter=\"$\")\n",
    "       # print(df2.columns)\n",
    "        df1.columns = df1.columns.str.lower()  \n",
    "        df2.columns = df2.columns.str.lower()  \n",
    "        df3.columns = df3.columns.str.lower()  \n",
    "        #df4.columns = df4.columns.str.lower()  \n",
    "        df5.columns = df5.columns.str.lower() \n",
    "        #df6.columns = df6.columns.str.lower()  \n",
    "        #df7.columns = df7.columns.str.lower() \n",
    "\n",
    "\n",
    "        df1_appended_data0b.append(df1)\n",
    "        df2_appended_data0b.append(df2)\n",
    "        df3_appended_data0b.append(df3)\n",
    "        #df4_appended_data0b.append(df4)\n",
    "        df5_appended_data0b.append(df5)\n",
    "        #df6_appended_data0b.append(df6)\n",
    "        #df7_appended_data0b.append(df7)\n",
    "\n",
    "# see pd.concat documentation for more info\n",
    "df1_appended_data0b = pd.concat(df1_appended_data0b, axis=0)\n",
    "df2_appended_data0b = pd.concat(df2_appended_data0b, axis=0)\n",
    "df3_appended_data0b = pd.concat(df3_appended_data0b, axis=0)\n",
    "#df4_appended_data0b = pd.concat(df4_appended_data0b, axis=0)\n",
    "df5_appended_data0b = pd.concat(df5_appended_data0b, axis=0)\n",
    "#df6_appended_data0b = pd.concat(df6_appended_data0b, axis=0)\n",
    "#df7_appended_data0b = pd.concat(df7_appended_data0b, axis=0)\n",
    "print('done')"
   ]
  },
  {
   "cell_type": "code",
   "execution_count": 30,
   "metadata": {
    "colab": {
     "base_uri": "https://localhost:8080/"
    },
    "id": "xJqXfhcMYyiX",
    "outputId": "d6b8e852-ac33-4a3a-938b-a7d4df0fca6f"
   },
   "outputs": [
    {
     "name": "stdout",
     "output_type": "stream",
     "text": [
      "18\n",
      "1\n",
      "18\n",
      "2\n",
      "18\n",
      "3\n",
      "18\n",
      "4\n",
      "done\n"
     ]
    }
   ],
   "source": [
    "df1_appended_data0c = []\n",
    "df2_appended_data0c = []\n",
    "df3_appended_data0c = []\n",
    "#df4_appended_data0c = []\n",
    "df5_appended_data0c = []\n",
    "#df6_appended_data0c = []\n",
    "#df7_appended_data0c = []\n",
    "\n",
    "for i in range(2018,2019):\n",
    "    for j in range (1,5):\n",
    "        ii = str(i)\n",
    "        ii =(ii[-2:])\n",
    "        print(ii)\n",
    "        print(j)\n",
    "      \n",
    "        df1_filepath =  r\"D:\\Research\\FAERS_Public_Similarity\\Data\\unzip\\FAERS_\"+str(i)+'q'+str(j)+'\\\\'+'ascii'+'\\\\'+'DEMO'+str(ii)+'Q'+str(j)+'.txt'\n",
    "        df2_filepath =  r\"D:\\Research\\FAERS_Public_Similarity\\Data\\unzip\\FAERS_\"+str(i)+'q'+str(j)+'\\\\'+'ascii'+'\\\\'+'DRUG'+str(ii)+'Q'+str(j)+'.txt'\n",
    "        df3_filepath =  r\"D:\\Research\\FAERS_Public_Similarity\\Data\\unzip\\FAERS_\"+str(i)+'q'+str(j)+'\\\\'+'ascii'+'\\\\'+'INDI'+str(ii)+'Q'+str(j)+'.txt'\n",
    "        #df4_filepath =  '/content/drive/MyDrive/colab_faers_data/Data/unzip/FAERS_'+str(i)+'q'+str(j)+'/'+'ascii'+'/'+'OUTC'+str(ii)+'Q'+str(j)+'.txt'\n",
    "        df5_filepath =  r\"D:\\Research\\FAERS_Public_Similarity\\Data\\unzip\\FAERS_\"+str(i)+'q'+str(j)+'\\\\'+'ascii'+'\\\\'+'REAC'+str(ii)+'Q'+str(j)+'.txt'\n",
    "\n",
    "        #df6_filepath =  '/content/drive/MyDrive/colab_faers_data/Data/unzip/FAERS_'+str(i)+'q'+str(j)+'/'+'ascii'+'/'+'RPSR'+str(ii)+'Q'+str(j)+'.txt'\n",
    "        #df7_filepath =  '/content/drive/MyDrive/colab_faers_data/Data/unzip/FAERS_'+str(i)+'q'+str(j)+'/'+'ascii'+'/'+'THER'+str(ii)+'Q'+str(j)+'.txt'\n",
    "        usecols1=[\"primaryid\",\"caseid\", \"event_dt\",\"occr_country\", 'age', 'sex' ]\n",
    "        usecols2=[\"primaryid\",\"caseid\", \"drugname\",\"prod_ai\"]\n",
    "        usecols3=[\"primaryid\",\"caseid\", \"indi_pt\"]\n",
    "        usecols5=[\"primaryid\",\"caseid\", \"pt\"]\n",
    "\n",
    "        df1 = pd.read_csv(df1_filepath,delimiter=\"$\",error_bad_lines=False, encoding='utf-8', usecols=usecols1)\n",
    "        df2 = pd.read_csv(df2_filepath,delimiter=\"$\",error_bad_lines=False, encoding=\"cp1252\", usecols=usecols2)\n",
    "        df3 = pd.read_csv(df3_filepath,delimiter=\"$\", usecols=usecols3)\n",
    "        #df4 = pd.read_csv(df4_filepath,delimiter=\"$\")\n",
    "        df5 = pd.read_csv(df5_filepath,delimiter=\"$\",error_bad_lines=False, encoding='utf-8', usecols=usecols5)\n",
    "        #df6 = pd.read_csv(df6_filepath,delimiter=\"$\")\n",
    "        #df7 = pd.read_csv(df7_filepath,delimiter=\"$\")\n",
    "       # print(df2.columns)\n",
    "        df1.columns = df1.columns.str.lower()  \n",
    "        df2.columns = df2.columns.str.lower()  \n",
    "        df3.columns = df3.columns.str.lower()  \n",
    "        #df4.columns = df4.columns.str.lower()  \n",
    "        df5.columns = df5.columns.str.lower() \n",
    "        #df6.columns = df6.columns.str.lower()  \n",
    "        #df7.columns = df7.columns.str.lower() \n",
    "\n",
    "\n",
    "        df1_appended_data0c.append(df1)\n",
    "        df2_appended_data0c.append(df2)\n",
    "        df3_appended_data0c.append(df3)\n",
    "        #df4_appended_data0c.append(df4)\n",
    "        df5_appended_data0c.append(df5)\n",
    "        #df6_appended_data0c.append(df6)\n",
    "        #df7_appended_data0c.append(df7)\n",
    "\n",
    "# see pd.concat documentation for more info\n",
    "df1_appended_data0c = pd.concat(df1_appended_data0c, axis=0)\n",
    "df2_appended_data0c = pd.concat(df2_appended_data0c, axis=0)\n",
    "df3_appended_data0c = pd.concat(df3_appended_data0c, axis=0)\n",
    "#df4_appended_data0c = pd.concat(df4_appended_data0c, axis=0)\n",
    "df5_appended_data0c = pd.concat(df5_appended_data0c, axis=0)\n",
    "#df6_appended_data0c = pd.concat(df6_appended_data0c, axis=0)\n",
    "#df7_appended_data0c = pd.concat(df7_appended_data0c, axis=0)\n",
    "print('done')"
   ]
  },
  {
   "cell_type": "markdown",
   "metadata": {
    "id": "pHYJbvriejnE"
   },
   "source": [
    "2015 to **2017**"
   ]
  },
  {
   "cell_type": "code",
   "execution_count": 31,
   "metadata": {
    "colab": {
     "base_uri": "https://localhost:8080/"
    },
    "id": "c41anGkEMdTN",
    "outputId": "bf3db06a-96eb-46df-bd3e-74c359ba610e"
   },
   "outputs": [
    {
     "name": "stdout",
     "output_type": "stream",
     "text": [
      "17\n",
      "1\n",
      "17\n",
      "2\n",
      "17\n",
      "3\n",
      "17\n",
      "4\n",
      "done\n"
     ]
    }
   ],
   "source": [
    "df1_appended_data1a = []\n",
    "df2_appended_data1a = []\n",
    "df3_appended_data1a = []\n",
    "#df4_appended_data1a = []\n",
    "df5_appended_data1a = []\n",
    "#df6_appended_data1a = []\n",
    "#df7_appended_data1a = []\n",
    "\n",
    "for i in range(2017,2018):\n",
    "    for j in range (1,5):\n",
    "        ii = str(i)\n",
    "        ii =(ii[-2:])\n",
    "        print(ii)\n",
    "        print(j)\n",
    "        df1_filepath =  r\"D:\\Research\\FAERS_Public_Similarity\\Data\\unzip\\FAERS_\"+str(i)+'q'+str(j)+'\\\\'+'ascii'+'\\\\'+'DEMO'+str(ii)+'Q'+str(j)+'.txt'\n",
    "        df2_filepath =  r\"D:\\Research\\FAERS_Public_Similarity\\Data\\unzip\\FAERS_\"+str(i)+'q'+str(j)+'\\\\'+'ascii'+'\\\\'+'DRUG'+str(ii)+'Q'+str(j)+'.txt'\n",
    "        df3_filepath =  r\"D:\\Research\\FAERS_Public_Similarity\\Data\\unzip\\FAERS_\"+str(i)+'q'+str(j)+'\\\\'+'ascii'+'\\\\'+'INDI'+str(ii)+'Q'+str(j)+'.txt'\n",
    "        #df4_filepath =  '/content/drive/MyDrive/colab_faers_data/Data/unzip/FAERS_'+str(i)+'q'+str(j)+'/'+'ascii'+'/'+'OUTC'+str(ii)+'Q'+str(j)+'.txt'\n",
    "        df5_filepath =  r\"D:\\Research\\FAERS_Public_Similarity\\Data\\unzip\\FAERS_\"+str(i)+'q'+str(j)+'\\\\'+'ascii'+'\\\\'+'REAC'+str(ii)+'Q'+str(j)+'.txt'\n",
    "\n",
    "        #df6_filepath =  '/content/drive/MyDrive/colab_faers_data/Data/unzip/FAERS_'+str(i)+'q'+str(j)+'/'+'ascii'+'/'+'RPSR'+str(ii)+'Q'+str(j)+'.txt'\n",
    "        #df7_filepath =  '/content/drive/MyDrive/colab_faers_data/Data/unzip/FAERS_'+str(i)+'q'+str(j)+'/'+'ascii'+'/'+'THER'+str(ii)+'Q'+str(j)+'.txt'\n",
    "        usecols1=[\"primaryid\",\"caseid\", \"event_dt\",\"occr_country\", 'age', 'sex' ]\n",
    "        usecols2=[\"primaryid\",\"caseid\", \"drugname\",\"prod_ai\"]\n",
    "        usecols3=[\"primaryid\",\"caseid\", \"indi_pt\"]\n",
    "        usecols5=[\"primaryid\",\"caseid\", \"pt\"]\n",
    "\n",
    "        df1 = pd.read_csv(df1_filepath,delimiter=\"$\",error_bad_lines=False, encoding='utf-8', usecols=usecols1)\n",
    "        df2 = pd.read_csv(df2_filepath,delimiter=\"$\",error_bad_lines=False, encoding=\"cp1252\", usecols=usecols2)\n",
    "        df3 = pd.read_csv(df3_filepath,delimiter=\"$\", usecols=usecols3)\n",
    "        #df4 = pd.read_csv(df4_filepath,delimiter=\"$\")\n",
    "        df5 = pd.read_csv(df5_filepath,delimiter=\"$\",error_bad_lines=False, encoding='utf-8', usecols=usecols5)\n",
    "        #df6 = pd.read_csv(df6_filepath,delimiter=\"$\")\n",
    "        #df7 = pd.read_csv(df7_filepath,delimiter=\"$\")\n",
    "       # print(df2.columns)\n",
    "        df1.columns = df1.columns.str.lower()  \n",
    "        df2.columns = df2.columns.str.lower()  \n",
    "        df3.columns = df3.columns.str.lower()  \n",
    "        #df4.columns = df4.columns.str.lower()  \n",
    "        df5.columns = df5.columns.str.lower() \n",
    "        #df6.columns = df6.columns.str.lower()  \n",
    "        #df7.columns = df7.columns.str.lower() \n",
    "\n",
    "\n",
    "        df1_appended_data1a.append(df1)\n",
    "        df2_appended_data1a.append(df2)\n",
    "        df3_appended_data1a.append(df3)\n",
    "        #df4_appended_data1a.append(df4)\n",
    "        df5_appended_data1a.append(df5)\n",
    "        #df6_appended_data1a.append(df6)\n",
    "        #df7_appended_data1a.append(df7)\n",
    "\n",
    "# see pd.concat documentation for more info\n",
    "df1_appended_data1a = pd.concat(df1_appended_data1a, axis=0)\n",
    "df2_appended_data1a = pd.concat(df2_appended_data1a, axis=0)\n",
    "df3_appended_data1a = pd.concat(df3_appended_data1a, axis=0)\n",
    "#df4_appended_data1a = pd.concat(df4_appended_data1a, axis=0)\n",
    "df5_appended_data1a = pd.concat(df5_appended_data1a, axis=0)\n",
    "#df6_appended_data1a = pd.concat(df6_appended_data1a, axis=0)\n",
    "#df7_appended_data1a = pd.concat(df7_appended_data1a, axis=0)\n",
    "print('done')"
   ]
  },
  {
   "cell_type": "code",
   "execution_count": 32,
   "metadata": {
    "colab": {
     "base_uri": "https://localhost:8080/"
    },
    "id": "4FVkn__3m4Y6",
    "outputId": "308923d1-0b59-4a32-ffa6-865ebfff93c0"
   },
   "outputs": [
    {
     "name": "stdout",
     "output_type": "stream",
     "text": [
      "16\n",
      "1\n",
      "16\n",
      "2\n",
      "16\n",
      "3\n",
      "16\n",
      "4\n",
      "done\n"
     ]
    }
   ],
   "source": [
    "df1_appended_data1b = []\n",
    "df2_appended_data1b = []\n",
    "df3_appended_data1b = []\n",
    "#df4_appended_data1b = []\n",
    "df5_appended_data1b = []\n",
    "#df6_appended_data1b = []\n",
    "#df7_appended_data1b = []\n",
    "\n",
    "for i in range(2016,2017):\n",
    "    for j in range (1,5):\n",
    "        ii = str(i)\n",
    "        ii =(ii[-2:])\n",
    "        print(ii)\n",
    "        print(j)\n",
    "        df1_filepath =  r\"D:\\Research\\FAERS_Public_Similarity\\Data\\unzip\\FAERS_\"+str(i)+'q'+str(j)+'\\\\'+'ascii'+'\\\\'+'DEMO'+str(ii)+'Q'+str(j)+'.txt'\n",
    "        df2_filepath =  r\"D:\\Research\\FAERS_Public_Similarity\\Data\\unzip\\FAERS_\"+str(i)+'q'+str(j)+'\\\\'+'ascii'+'\\\\'+'DRUG'+str(ii)+'Q'+str(j)+'.txt'\n",
    "        df3_filepath =  r\"D:\\Research\\FAERS_Public_Similarity\\Data\\unzip\\FAERS_\"+str(i)+'q'+str(j)+'\\\\'+'ascii'+'\\\\'+'INDI'+str(ii)+'Q'+str(j)+'.txt'\n",
    "        #df4_filepath =  '/content/drive/MyDrive/colab_faers_data/Data/unzip/FAERS_'+str(i)+'q'+str(j)+'/'+'ascii'+'/'+'OUTC'+str(ii)+'Q'+str(j)+'.txt'\n",
    "        df5_filepath =  r\"D:\\Research\\FAERS_Public_Similarity\\Data\\unzip\\FAERS_\"+str(i)+'q'+str(j)+'\\\\'+'ascii'+'\\\\'+'REAC'+str(ii)+'Q'+str(j)+'.txt'\n",
    "\n",
    "        #df6_filepath =  '/content/drive/MyDrive/colab_faers_data/Data/unzip/FAERS_'+str(i)+'q'+str(j)+'/'+'ascii'+'/'+'RPSR'+str(ii)+'Q'+str(j)+'.txt'\n",
    "        #df7_filepath =  '/content/drive/MyDrive/colab_faers_data/Data/unzip/FAERS_'+str(i)+'q'+str(j)+'/'+'ascii'+'/'+'THER'+str(ii)+'Q'+str(j)+'.txt'\n",
    "        usecols1=[\"primaryid\",\"caseid\", \"event_dt\",\"occr_country\", 'age', 'sex' ]\n",
    "        usecols2=[\"primaryid\",\"caseid\", \"drugname\",\"prod_ai\"]\n",
    "        usecols3=[\"primaryid\",\"caseid\", \"indi_pt\"]\n",
    "        usecols5=[\"primaryid\",\"caseid\", \"pt\"]\n",
    "\n",
    "        df1 = pd.read_csv(df1_filepath,delimiter=\"$\",error_bad_lines=False, encoding='utf-8', usecols=usecols1)\n",
    "        df2 = pd.read_csv(df2_filepath,delimiter=\"$\",error_bad_lines=False, encoding=\"cp1252\", usecols=usecols2)\n",
    "        df3 = pd.read_csv(df3_filepath,delimiter=\"$\", usecols=usecols3)\n",
    "        #df4 = pd.read_csv(df4_filepath,delimiter=\"$\")\n",
    "        df5 = pd.read_csv(df5_filepath,delimiter=\"$\",error_bad_lines=False, encoding='utf-8', usecols=usecols5)\n",
    "        #df6 = pd.read_csv(df6_filepath,delimiter=\"$\")\n",
    "        #df7 = pd.read_csv(df7_filepath,delimiter=\"$\")\n",
    "       # print(df2.columns)\n",
    "        df1.columns = df1.columns.str.lower()  \n",
    "        df2.columns = df2.columns.str.lower()  \n",
    "        df3.columns = df3.columns.str.lower()  \n",
    "        #df4.columns = df4.columns.str.lower()  \n",
    "        df5.columns = df5.columns.str.lower() \n",
    "        #df6.columns = df6.columns.str.lower()  \n",
    "        #df7.columns = df7.columns.str.lower() \n",
    "\n",
    "\n",
    "        df1_appended_data1b.append(df1)\n",
    "        df2_appended_data1b.append(df2)\n",
    "        df3_appended_data1b.append(df3)\n",
    "        #df4_appended_data1b.append(df4)\n",
    "        df5_appended_data1b.append(df5)\n",
    "        #df6_appended_data1b.append(df6)\n",
    "        #df7_appended_data1b.append(df7)\n",
    "\n",
    "# see pd.concat documentation for more info\n",
    "df1_appended_data1b = pd.concat(df1_appended_data1b, axis=0)\n",
    "df2_appended_data1b = pd.concat(df2_appended_data1b, axis=0)\n",
    "df3_appended_data1b = pd.concat(df3_appended_data1b, axis=0)\n",
    "#df4_appended_data1b = pd.concat(df4_appended_data1b, axis=0)\n",
    "df5_appended_data1b = pd.concat(df5_appended_data1b, axis=0)\n",
    "#df6_appended_data1b = pd.concat(df6_appended_data1b, axis=0)\n",
    "#df7_appended_data1b = pd.concat(df7_appended_data1b, axis=0)\n",
    "print('done')"
   ]
  },
  {
   "cell_type": "code",
   "execution_count": 33,
   "metadata": {
    "colab": {
     "base_uri": "https://localhost:8080/"
    },
    "id": "3cwX9_d2m42k",
    "outputId": "a48d9239-cfa6-411f-ebf4-1cf52a77ab53"
   },
   "outputs": [
    {
     "name": "stdout",
     "output_type": "stream",
     "text": [
      "15\n",
      "1\n",
      "15\n",
      "2\n",
      "15\n",
      "3\n",
      "15\n",
      "4\n",
      "done\n"
     ]
    }
   ],
   "source": [
    "df1_appended_data1c = []\n",
    "df2_appended_data1c = []\n",
    "df3_appended_data1c = []\n",
    "#df4_appended_data1c = []\n",
    "df5_appended_data1c = []\n",
    "#df6_appended_data1c = []\n",
    "#df7_appended_data1c = []\n",
    "\n",
    "for i in range(2015,2016):\n",
    "    for j in range (1,5):\n",
    "        ii = str(i)\n",
    "        ii =(ii[-2:])\n",
    "        print(ii)\n",
    "        print(j)\n",
    "        df1_filepath =  r\"D:\\Research\\FAERS_Public_Similarity\\Data\\unzip\\FAERS_\"+str(i)+'q'+str(j)+'\\\\'+'ascii'+'\\\\'+'DEMO'+str(ii)+'Q'+str(j)+'.txt'\n",
    "        df2_filepath =  r\"D:\\Research\\FAERS_Public_Similarity\\Data\\unzip\\FAERS_\"+str(i)+'q'+str(j)+'\\\\'+'ascii'+'\\\\'+'DRUG'+str(ii)+'Q'+str(j)+'.txt'\n",
    "        df3_filepath =  r\"D:\\Research\\FAERS_Public_Similarity\\Data\\unzip\\FAERS_\"+str(i)+'q'+str(j)+'\\\\'+'ascii'+'\\\\'+'INDI'+str(ii)+'Q'+str(j)+'.txt'\n",
    "        #df4_filepath =  '/content/drive/MyDrive/colab_faers_data/Data/unzip/FAERS_'+str(i)+'q'+str(j)+'/'+'ascii'+'/'+'OUTC'+str(ii)+'Q'+str(j)+'.txt'\n",
    "        df5_filepath =  r\"D:\\Research\\FAERS_Public_Similarity\\Data\\unzip\\FAERS_\"+str(i)+'q'+str(j)+'\\\\'+'ascii'+'\\\\'+'REAC'+str(ii)+'Q'+str(j)+'.txt'\n",
    "\n",
    "        #df6_filepath =  '/content/drive/MyDrive/colab_faers_data/Data/unzip/FAERS_'+str(i)+'q'+str(j)+'/'+'ascii'+'/'+'RPSR'+str(ii)+'Q'+str(j)+'.txt'\n",
    "        #df7_filepath =  '/content/drive/MyDrive/colab_faers_data/Data/unzip/FAERS_'+str(i)+'q'+str(j)+'/'+'ascii'+'/'+'THER'+str(ii)+'Q'+str(j)+'.txt'\n",
    "        usecols1=[\"primaryid\",\"caseid\", \"event_dt\",\"occr_country\", 'age', 'sex' ]\n",
    "        usecols2=[\"primaryid\",\"caseid\", \"drugname\",\"prod_ai\"]\n",
    "        usecols3=[\"primaryid\",\"caseid\", \"indi_pt\"]\n",
    "        usecols5=[\"primaryid\",\"caseid\", \"pt\"]\n",
    "\n",
    "        df1 = pd.read_csv(df1_filepath,delimiter=\"$\",error_bad_lines=False, encoding='utf-8', usecols=usecols1)\n",
    "        df2 = pd.read_csv(df2_filepath,delimiter=\"$\",error_bad_lines=False, encoding=\"cp1252\", usecols=usecols2)\n",
    "        df3 = pd.read_csv(df3_filepath,delimiter=\"$\", usecols=usecols3)\n",
    "        #df4 = pd.read_csv(df4_filepath,delimiter=\"$\")\n",
    "        df5 = pd.read_csv(df5_filepath,delimiter=\"$\",error_bad_lines=False, encoding='utf-8', usecols=usecols5)\n",
    "        #df6 = pd.read_csv(df6_filepath,delimiter=\"$\")\n",
    "        #df7 = pd.read_csv(df7_filepath,delimiter=\"$\")\n",
    "       # print(df2.columns)\n",
    "        df1.columns = df1.columns.str.lower()  \n",
    "        df2.columns = df2.columns.str.lower()  \n",
    "        df3.columns = df3.columns.str.lower()  \n",
    "        #df4.columns = df4.columns.str.lower()  \n",
    "        df5.columns = df5.columns.str.lower() \n",
    "        #df6.columns = df6.columns.str.lower()  \n",
    "        #df7.columns = df7.columns.str.lower() \n",
    "\n",
    "\n",
    "        df1_appended_data1c.append(df1)\n",
    "        df2_appended_data1c.append(df2)\n",
    "        df3_appended_data1c.append(df3)\n",
    "        #df4_appended_data1c.append(df4)\n",
    "        df5_appended_data1c.append(df5)\n",
    "        #df6_appended_data1c.append(df6)\n",
    "        #df7_appended_data1c.append(df7)\n",
    "\n",
    "# see pd.concat documentation for more info\n",
    "df1_appended_data1c = pd.concat(df1_appended_data1c, axis=0)\n",
    "df2_appended_data1c = pd.concat(df2_appended_data1c, axis=0)\n",
    "df3_appended_data1c = pd.concat(df3_appended_data1c, axis=0)\n",
    "#df4_appended_data1c = pd.concat(df4_appended_data1c, axis=0)\n",
    "df5_appended_data1c = pd.concat(df5_appended_data1c, axis=0)\n",
    "#df6_appended_data1c = pd.concat(df6_appended_data1c, axis=0)\n",
    "#df7_appended_data1c = pd.concat(df7_appended_data1c, axis=0)\n",
    "print('done')"
   ]
  },
  {
   "cell_type": "markdown",
   "metadata": {
    "id": "Z9N6JO9tV7J1"
   },
   "source": [
    "2013 and 2014"
   ]
  },
  {
   "cell_type": "code",
   "execution_count": 88,
   "metadata": {
    "colab": {
     "base_uri": "https://localhost:8080/"
    },
    "id": "sycs8ENIMdTQ",
    "outputId": "ca9647ac-b48f-4b04-9d2b-ac0f66ccd360"
   },
   "outputs": [
    {
     "name": "stdout",
     "output_type": "stream",
     "text": [
      "14\n",
      "1\n"
     ]
    },
    {
     "name": "stderr",
     "output_type": "stream",
     "text": [
      "C:\\Users\\Ahmed.Askar\\Anaconda3\\lib\\site-packages\\IPython\\core\\interactiveshell.py:3146: DtypeWarning: Columns (13) have mixed types.Specify dtype option on import or set low_memory=False.\n",
      "  has_raised = await self.run_ast_nodes(code_ast.body, cell_name,\n"
     ]
    },
    {
     "name": "stdout",
     "output_type": "stream",
     "text": [
      "14\n",
      "2\n"
     ]
    },
    {
     "name": "stderr",
     "output_type": "stream",
     "text": [
      "C:\\Users\\Ahmed.Askar\\Anaconda3\\lib\\site-packages\\IPython\\core\\interactiveshell.py:3146: DtypeWarning: Columns (13,14) have mixed types.Specify dtype option on import or set low_memory=False.\n",
      "  has_raised = await self.run_ast_nodes(code_ast.body, cell_name,\n"
     ]
    },
    {
     "name": "stdout",
     "output_type": "stream",
     "text": [
      "14\n",
      "3\n"
     ]
    },
    {
     "name": "stderr",
     "output_type": "stream",
     "text": [
      "C:\\Users\\Ahmed.Askar\\Anaconda3\\lib\\site-packages\\IPython\\core\\interactiveshell.py:3146: DtypeWarning: Columns (10,11,14,15,16) have mixed types.Specify dtype option on import or set low_memory=False.\n",
      "  has_raised = await self.run_ast_nodes(code_ast.body, cell_name,\n"
     ]
    },
    {
     "name": "stdout",
     "output_type": "stream",
     "text": [
      "14\n",
      "4\n"
     ]
    },
    {
     "name": "stderr",
     "output_type": "stream",
     "text": [
      "C:\\Users\\Ahmed.Askar\\Anaconda3\\lib\\site-packages\\IPython\\core\\interactiveshell.py:3146: DtypeWarning: Columns (14,15) have mixed types.Specify dtype option on import or set low_memory=False.\n",
      "  has_raised = await self.run_ast_nodes(code_ast.body, cell_name,\n"
     ]
    },
    {
     "name": "stdout",
     "output_type": "stream",
     "text": [
      "done\n"
     ]
    }
   ],
   "source": [
    "df1_appended_data2a = []\n",
    "df2_appended_data2a = []\n",
    "df3_appended_data2a = []\n",
    "#df4_appended_data2a = []\n",
    "df5_appended_data2a = []\n",
    "#df6_appended_data2a = []\n",
    "#df7_appended_data2a = []\n",
    "\n",
    "for i in range(2014,2015):\n",
    "    for j in range (1,5):\n",
    "        ii = str(i)\n",
    "        ii =(ii[-2:])\n",
    "        print(ii)\n",
    "        print(j)\n",
    "        df1_filepath =  r\"D:\\Research\\FAERS_Public_Similarity\\Data\\unzip\\FAERS_\"+str(i)+'q'+str(j)+'\\\\'+'ascii'+'\\\\'+'DEMO'+str(ii)+'Q'+str(j)+'.txt'\n",
    "        df2_filepath =  r\"D:\\Research\\FAERS_Public_Similarity\\Data\\unzip\\FAERS_\"+str(i)+'q'+str(j)+'\\\\'+'ascii'+'\\\\'+'DRUG'+str(ii)+'Q'+str(j)+'.txt'\n",
    "        df3_filepath =  r\"D:\\Research\\FAERS_Public_Similarity\\Data\\unzip\\FAERS_\"+str(i)+'q'+str(j)+'\\\\'+'ascii'+'\\\\'+'INDI'+str(ii)+'Q'+str(j)+'.txt'\n",
    "        #df4_filepath =  '/content/drive/MyDrive/colab_faers_data/Data/unzip/FAERS_'+str(i)+'q'+str(j)+'/'+'ascii'+'/'+'OUTC'+str(ii)+'Q'+str(j)+'.txt'\n",
    "        df5_filepath =  r\"D:\\Research\\FAERS_Public_Similarity\\Data\\unzip\\FAERS_\"+str(i)+'q'+str(j)+'\\\\'+'ascii'+'\\\\'+'REAC'+str(ii)+'Q'+str(j)+'.txt'\n",
    "\n",
    "        #df6_filepath =  '/content/drive/MyDrive/colab_faers_data/Data/unzip/FAERS_'+str(i)+'q'+str(j)+'/'+'ascii'+'/'+'RPSR'+str(ii)+'Q'+str(j)+'.txt'\n",
    "        #df7_filepath =  '/content/drive/MyDrive/colab_faers_data/Data/unzip/FAERS_'+str(i)+'q'+str(j)+'/'+'ascii'+'/'+'THER'+str(ii)+'Q'+str(j)+'.txt'\n",
    "        usecols1=[\"primaryid\",\"caseid\", \"event_dt\",\"occr_country\", 'age', 'sex' ]\n",
    "        usecols2=[\"primaryid\",\"caseid\", \"drugname\",\"prod_ai\"]\n",
    "        usecols3=[\"primaryid\",\"caseid\", \"indi_pt\"]\n",
    "        usecols5=[\"primaryid\",\"caseid\", \"pt\"]\n",
    "\n",
    "\n",
    "        df1 = pd.read_csv(df1_filepath,error_bad_lines=False,delimiter=\"$\" ,encoding='utf-8', usecols=usecols1)\n",
    "        df2 = pd.read_csv(df2_filepath,error_bad_lines=False,delimiter=\"$\" ,encoding=\"cp1252\")\n",
    "        df2 =df2[df2.columns[[0,1,4,-1]]]\n",
    "        df3 = pd.read_csv(df3_filepath,delimiter=\"$\" ,usecols=usecols3)\n",
    "        #df4 = pd.read_csv(df4_filepath,delimiter=\"$\")\n",
    "        df5 = pd.read_csv(df5_filepath,error_bad_lines=False,delimiter=\"$\" ,encoding='utf-8', usecols=usecols5)\n",
    "        #df6 = pd.read_csv(df6_filepath,delimiter=\"$\")\n",
    "        #df7 = pd.read_csv(df7_filepath,delimiter=\"$\")\n",
    "\n",
    "        df1.columns = df1.columns.str.lower()  \n",
    "        df2.columns = df2.columns.str.lower()  \n",
    "        df3.columns = df3.columns.str.lower()  \n",
    "        #df4.columns = df4.columns.str.lower()  \n",
    "        df5.columns = df5.columns.str.lower() \n",
    "        #df6.columns = df6.columns.str.lower()  \n",
    "        #df7.columns = df7.columns.str.lower() \n",
    "\n",
    "        df1_appended_data2a.append(df1)\n",
    "        df2_appended_data2a.append(df2)\n",
    "        df3_appended_data2a.append(df3)\n",
    "      #  df4_appended_data2a.append(df4)\n",
    "        df5_appended_data2a.append(df5)\n",
    "      #  df6_appended_data2a.append(df6)\n",
    "       # df7_appended_data2a.append(df7)\n",
    "\n",
    "# see pd.concat documentation for more info\n",
    "df1_appended_data2a = pd.concat(df1_appended_data2a, axis=0)\n",
    "df2_appended_data2a = pd.concat(df2_appended_data2a, axis=0)\n",
    "\n",
    "df3_appended_data2a = pd.concat(df3_appended_data2a, axis=0)\n",
    "#df4_appended_data2a = pd.concat(df4_appended_data2a, axis=0)\n",
    "df5_appended_data2a = pd.concat(df5_appended_data2a, axis=0)\n",
    "#df6_appended_data2a = pd.concat(df6_appended_data2a, axis=0)\n",
    "#df7_appended_data2a = pd.concat(df7_appended_data2a, axis=0)\n",
    "print('done')"
   ]
  },
  {
   "cell_type": "code",
   "execution_count": 89,
   "metadata": {},
   "outputs": [
    {
     "data": {
      "text/html": [
       "<div>\n",
       "<style scoped>\n",
       "    .dataframe tbody tr th:only-of-type {\n",
       "        vertical-align: middle;\n",
       "    }\n",
       "\n",
       "    .dataframe tbody tr th {\n",
       "        vertical-align: top;\n",
       "    }\n",
       "\n",
       "    .dataframe thead th {\n",
       "        text-align: right;\n",
       "    }\n",
       "</style>\n",
       "<table border=\"1\" class=\"dataframe\">\n",
       "  <thead>\n",
       "    <tr style=\"text-align: right;\">\n",
       "      <th></th>\n",
       "      <th>primaryid</th>\n",
       "      <th>caseid</th>\n",
       "      <th>drugname</th>\n",
       "      <th>dose_freq</th>\n",
       "    </tr>\n",
       "  </thead>\n",
       "  <tbody>\n",
       "    <tr>\n",
       "      <th>0</th>\n",
       "      <td>100033001</td>\n",
       "      <td>10003300</td>\n",
       "      <td>BONIVA</td>\n",
       "      <td>NaN</td>\n",
       "    </tr>\n",
       "    <tr>\n",
       "      <th>1</th>\n",
       "      <td>100033011</td>\n",
       "      <td>10003301</td>\n",
       "      <td>IBUPROFEN</td>\n",
       "      <td>NaN</td>\n",
       "    </tr>\n",
       "    <tr>\n",
       "      <th>2</th>\n",
       "      <td>100033021</td>\n",
       "      <td>10003302</td>\n",
       "      <td>Lyrica</td>\n",
       "      <td>NaN</td>\n",
       "    </tr>\n",
       "    <tr>\n",
       "      <th>3</th>\n",
       "      <td>100033051</td>\n",
       "      <td>10003305</td>\n",
       "      <td>Lipitor</td>\n",
       "      <td>NaN</td>\n",
       "    </tr>\n",
       "    <tr>\n",
       "      <th>4</th>\n",
       "      <td>100033051</td>\n",
       "      <td>10003305</td>\n",
       "      <td>LISINOPRIL</td>\n",
       "      <td>NaN</td>\n",
       "    </tr>\n",
       "  </tbody>\n",
       "</table>\n",
       "</div>"
      ],
      "text/plain": [
       "   primaryid    caseid    drugname dose_freq\n",
       "0  100033001  10003300      BONIVA       NaN\n",
       "1  100033011  10003301   IBUPROFEN       NaN\n",
       "2  100033021  10003302      Lyrica       NaN\n",
       "3  100033051  10003305     Lipitor       NaN\n",
       "4  100033051  10003305  LISINOPRIL       NaN"
      ]
     },
     "execution_count": 89,
     "metadata": {},
     "output_type": "execute_result"
    }
   ],
   "source": [
    "df2_appended_data2a.head()"
   ]
  },
  {
   "cell_type": "code",
   "execution_count": 35,
   "metadata": {
    "colab": {
     "base_uri": "https://localhost:8080/"
    },
    "id": "QyYJR7ljnzf8",
    "outputId": "22368556-a6a0-4029-8e14-f9bcd60d1f17"
   },
   "outputs": [
    {
     "name": "stdout",
     "output_type": "stream",
     "text": [
      "13\n",
      "1\n"
     ]
    },
    {
     "name": "stderr",
     "output_type": "stream",
     "text": [
      "C:\\Users\\Ahmed.Askar\\Anaconda3\\lib\\site-packages\\IPython\\core\\interactiveshell.py:3146: DtypeWarning: Columns (11) have mixed types.Specify dtype option on import or set low_memory=False.\n",
      "  has_raised = await self.run_ast_nodes(code_ast.body, cell_name,\n",
      "C:\\Users\\Ahmed.Askar\\Anaconda3\\lib\\site-packages\\IPython\\core\\interactiveshell.py:3146: DtypeWarning: Columns (9,10,13,15) have mixed types.Specify dtype option on import or set low_memory=False.\n",
      "  has_raised = await self.run_ast_nodes(code_ast.body, cell_name,\n"
     ]
    },
    {
     "name": "stdout",
     "output_type": "stream",
     "text": [
      "13\n",
      "2\n"
     ]
    },
    {
     "name": "stderr",
     "output_type": "stream",
     "text": [
      "C:\\Users\\Ahmed.Askar\\Anaconda3\\lib\\site-packages\\IPython\\core\\interactiveshell.py:3146: DtypeWarning: Columns (9) have mixed types.Specify dtype option on import or set low_memory=False.\n",
      "  has_raised = await self.run_ast_nodes(code_ast.body, cell_name,\n"
     ]
    },
    {
     "name": "stdout",
     "output_type": "stream",
     "text": [
      "13\n",
      "3\n",
      "13\n",
      "4\n"
     ]
    },
    {
     "name": "stderr",
     "output_type": "stream",
     "text": [
      "C:\\Users\\Ahmed.Askar\\Anaconda3\\lib\\site-packages\\IPython\\core\\interactiveshell.py:3146: DtypeWarning: Columns (11,21) have mixed types.Specify dtype option on import or set low_memory=False.\n",
      "  has_raised = await self.run_ast_nodes(code_ast.body, cell_name,\n",
      "C:\\Users\\Ahmed.Askar\\Anaconda3\\lib\\site-packages\\IPython\\core\\interactiveshell.py:3146: DtypeWarning: Columns (13,15) have mixed types.Specify dtype option on import or set low_memory=False.\n",
      "  has_raised = await self.run_ast_nodes(code_ast.body, cell_name,\n"
     ]
    },
    {
     "name": "stdout",
     "output_type": "stream",
     "text": [
      "done\n"
     ]
    }
   ],
   "source": [
    "df1_appended_data2b = []\n",
    "df2_appended_data2b = []\n",
    "df3_appended_data2b = []\n",
    "#df4_appended_data2b = []\n",
    "df5_appended_data2b = []\n",
    "#df6_appended_data2b = []\n",
    "#df7_appended_data2b = []\n",
    "\n",
    "for i in range(2013,2014):\n",
    "    for j in range (1,5):\n",
    "        ii = str(i)\n",
    "        ii =(ii[-2:])\n",
    "        print(ii)\n",
    "        print(j)\n",
    "        df1_filepath =  r\"D:\\Research\\FAERS_Public_Similarity\\Data\\unzip\\FAERS_\"+str(i)+'q'+str(j)+'\\\\'+'ascii'+'\\\\'+'DEMO'+str(ii)+'Q'+str(j)+'.txt'\n",
    "        df2_filepath =  r\"D:\\Research\\FAERS_Public_Similarity\\Data\\unzip\\FAERS_\"+str(i)+'q'+str(j)+'\\\\'+'ascii'+'\\\\'+'DRUG'+str(ii)+'Q'+str(j)+'.txt'\n",
    "        df3_filepath =  r\"D:\\Research\\FAERS_Public_Similarity\\Data\\unzip\\FAERS_\"+str(i)+'q'+str(j)+'\\\\'+'ascii'+'\\\\'+'INDI'+str(ii)+'Q'+str(j)+'.txt'\n",
    "        #df4_filepath =  '/content/drive/MyDrive/colab_faers_data/Data/unzip/FAERS_'+str(i)+'q'+str(j)+'/'+'ascii'+'/'+'OUTC'+str(ii)+'Q'+str(j)+'.txt'\n",
    "        df5_filepath =  r\"D:\\Research\\FAERS_Public_Similarity\\Data\\unzip\\FAERS_\"+str(i)+'q'+str(j)+'\\\\'+'ascii'+'\\\\'+'REAC'+str(ii)+'Q'+str(j)+'.txt'\n",
    "\n",
    "        #df6_filepath =  '/content/drive/MyDrive/colab_faers_data/Data/unzip/FAERS_'+str(i)+'q'+str(j)+'/'+'ascii'+'/'+'RPSR'+str(ii)+'Q'+str(j)+'.txt'\n",
    "        #df7_filepath =  '/content/drive/MyDrive/colab_faers_data/Data/unzip/FAERS_'+str(i)+'q'+str(j)+'/'+'ascii'+'/'+'THER'+str(ii)+'Q'+str(j)+'.txt'\n",
    "        usecols1=[\"primaryid\",\"caseid\", \"event_dt\",\"occr_country\", 'age', 'sex' ]\n",
    "        usecols2=[\"primaryid\",\"caseid\", \"drugname\",\"prod_ai\"]\n",
    "        usecols3=[\"primaryid\",\"caseid\", \"indi_pt\"]\n",
    "        usecols5=[\"primaryid\",\"caseid\", \"pt\"]\n",
    "\n",
    "\n",
    "        df1 = pd.read_csv(df1_filepath,error_bad_lines=False,delimiter=\"$\" ,encoding='utf-8', usecols=usecols1)\n",
    "        df2 = pd.read_csv(df2_filepath,error_bad_lines=False,delimiter=\"$\" ,encoding=\"cp1252\")\n",
    "        df2 =df2[df2.columns[[0,1,5,-1]]]\n",
    "        df3 = pd.read_csv(df3_filepath,delimiter=\"$\" ,usecols=usecols3)\n",
    "        #df4 = pd.read_csv(df4_filepath,delimiter=\"$\")\n",
    "        df5 = pd.read_csv(df5_filepath,error_bad_lines=False,delimiter=\"$\" ,encoding='utf-8', usecols=usecols5)\n",
    "        #df6 = pd.read_csv(df6_filepath,delimiter=\"$\")\n",
    "        #df7 = pd.read_csv(df7_filepath,delimiter=\"$\")\n",
    "\n",
    "        df1.columns = df1.columns.str.lower()  \n",
    "        df2.columns = df2.columns.str.lower()  \n",
    "        df3.columns = df3.columns.str.lower()  \n",
    "        #df4.columns = df4.columns.str.lower()  \n",
    "        df5.columns = df5.columns.str.lower() \n",
    "        #df6.columns = df6.columns.str.lower()  \n",
    "        #df7.columns = df7.columns.str.lower() \n",
    "\n",
    "        df1_appended_data2b.append(df1)\n",
    "        df2_appended_data2b.append(df2)\n",
    "        df3_appended_data2b.append(df3)\n",
    "      #  df4_appended_data2b.append(df4)\n",
    "        df5_appended_data2b.append(df5)\n",
    "      #  df6_appended_data2b.append(df6)\n",
    "       # df7_appended_data2b.append(df7)\n",
    "\n",
    "# see pd.concat documentation for more info\n",
    "df1_appended_data2b = pd.concat(df1_appended_data2b, axis=0)\n",
    "df2_appended_data2b = pd.concat(df2_appended_data2b, axis=0)\n",
    "\n",
    "df3_appended_data2b = pd.concat(df3_appended_data2b, axis=0)\n",
    "#df4_appended_data2b = pd.concat(df4_appended_data2b, axis=0)\n",
    "df5_appended_data2b = pd.concat(df5_appended_data2b, axis=0)\n",
    "#df6_appended_data2b = pd.concat(df6_appended_data2b, axis=0)\n",
    "#df7_appended_data2b = pd.concat(df7_appended_data2b, axis=0)\n",
    "print('done')"
   ]
  },
  {
   "cell_type": "markdown",
   "metadata": {
    "id": "vN9kkhAqqZJe"
   },
   "source": [
    "### Data management (drugname column)\n",
    "\n",
    "\n"
   ]
  },
  {
   "cell_type": "markdown",
   "metadata": {
    "id": "4mco7mdLq4yM"
   },
   "source": [
    "##### data management (drugname column)"
   ]
  },
  {
   "cell_type": "code",
   "execution_count": 36,
   "metadata": {
    "id": "IECDAShIMdTV"
   },
   "outputs": [],
   "source": [
    "\n",
    "df2_appended_data0['drugname']= df2_appended_data0['drugname'].str.lower()\n",
    "df2_appended_data0b['drugname']= df2_appended_data0b['drugname'].str.lower()\n",
    "df2_appended_data0c['drugname']= df2_appended_data0c['drugname'].str.lower()\n",
    "\n",
    "df2_appended_data1a['drugname']= df2_appended_data1a['drugname'].str.lower()\n",
    "df2_appended_data1b['drugname']= df2_appended_data1b['drugname'].str.lower()\n",
    "df2_appended_data1c['drugname']= df2_appended_data1c['drugname'].str.lower()\n",
    "\n",
    "df2_appended_data2a['drugname']= df2_appended_data2a['drugname'].str.lower()\n",
    "df2_appended_data2b['drugname']= df2_appended_data2b['drugname'].str.lower()\n",
    "\n",
    "#############################\n",
    "\n",
    "df2_appended_data0['drugname'] = df2_appended_data0['drugname'].str.strip()\n",
    "df2_appended_data0['drugname'] = df2_appended_data0['drugname'].str.strip(',')\n",
    "df2_appended_data0['drugname'] = df2_appended_data0['drugname'].str.replace(u\"/\",\", \")\n",
    "df2_appended_data0['drugname'] = df2_appended_data0['drugname'].str.replace(u\"\\\\\\\\\", \", \")\n",
    "df2_appended_data0['drugname'] = df2_appended_data0['drugname'].str.replace(u\"' \",\"'\")\n",
    "df2_appended_data0['drugname'] = df2_appended_data0['drugname'].str.replace('\\n',\"\")\n",
    "df2_appended_data0['drugname'] = df2_appended_data0['drugname'].str.replace('.',\"\")\n",
    "df2_appended_data0['drugname'] = df2_appended_data0['drugname'].str.replace('\\n ',\"\")\n",
    "df2_appended_data0['drugname'] = [''.join(c.split()) for c in df2_appended_data0['drugname'].astype(str)]\n",
    "df2_appended_data0['drugname'] = df2_appended_data0['drugname'].replace({r'\\s+$': '', r'^\\s+': ''}, regex=True).replace(r\"\\n\",  ' ', regex=True)\n",
    "df2_appended_data0['drugname'] = df2_appended_data0['drugname'].str.translate({None: \",!.; ''-@!%^&*)(\"})\n",
    "\n",
    "########################\n",
    "df2_appended_data0b['drugname'] = df2_appended_data0b['drugname'].str.strip()\n",
    "df2_appended_data0b['drugname'] = df2_appended_data0b['drugname'].str.strip(',')\n",
    "df2_appended_data0b['drugname'] = df2_appended_data0b['drugname'].str.replace(u\"/\",\", \")\n",
    "df2_appended_data0b['drugname'] = df2_appended_data0b['drugname'].str.replace(u\"\\\\\\\\\", \", \")\n",
    "df2_appended_data0b['drugname'] = df2_appended_data0b['drugname'].str.replace(u\"' \",\"'\")\n",
    "df2_appended_data0b['drugname'] = df2_appended_data0b['drugname'].str.replace('\\n',\"\")\n",
    "df2_appended_data0b['drugname'] = df2_appended_data0b['drugname'].str.replace('.',\"\")\n",
    "df2_appended_data0b['drugname'] = df2_appended_data0b['drugname'].str.replace('\\n ',\"\")\n",
    "df2_appended_data0b['drugname'] = [''.join(c.split()) for c in df2_appended_data0b['drugname'].astype(str)]\n",
    "df2_appended_data0b['drugname'] = df2_appended_data0b['drugname'].replace({r'\\s+$': '', r'^\\s+': ''}, regex=True).replace(r\"\\n\",  ' ', regex=True)\n",
    "df2_appended_data0b['drugname'] = df2_appended_data0b['drugname'].str.translate({None: \",!.; ''-@!%^&*)(\"})\n",
    "\n",
    "#############################\n",
    "\n",
    "df2_appended_data0c['drugname'] = df2_appended_data0c['drugname'].str.strip()\n",
    "df2_appended_data0c['drugname'] = df2_appended_data0c['drugname'].str.strip(',')\n",
    "df2_appended_data0c['drugname'] = df2_appended_data0c['drugname'].str.replace(u\"/\",\", \")\n",
    "df2_appended_data0c['drugname'] = df2_appended_data0c['drugname'].str.replace(u\"\\\\\\\\\", \", \")\n",
    "df2_appended_data0c['drugname'] = df2_appended_data0c['drugname'].str.replace(u\"' \",\"'\")\n",
    "df2_appended_data0c['drugname'] = df2_appended_data0c['drugname'].str.replace('\\n',\"\")\n",
    "df2_appended_data0c['drugname'] = df2_appended_data0c['drugname'].str.replace('.',\"\")\n",
    "df2_appended_data0c['drugname'] = df2_appended_data0c['drugname'].str.replace('\\n ',\"\")\n",
    "df2_appended_data0c['drugname'] = [''.join(c.split()) for c in df2_appended_data0c['drugname'].astype(str)]\n",
    "df2_appended_data0c['drugname'] = df2_appended_data0c['drugname'].replace({r'\\s+$': '', r'^\\s+': ''}, regex=True).replace(r\"\\n\",  ' ', regex=True)\n",
    "df2_appended_data0c['drugname'] = df2_appended_data0c['drugname'].str.translate({None: \",!.; ''-@!%^&*)(\"})\n",
    "\n",
    "####################\n",
    "\n",
    "df2_appended_data1a['drugname'] = df2_appended_data1a['drugname'].str.strip()\n",
    "df2_appended_data1a['drugname'] = df2_appended_data1a['drugname'].str.strip(',')\n",
    "df2_appended_data1a['drugname'] = df2_appended_data1a['drugname'].str.replace(u\"/\",\", \")\n",
    "df2_appended_data1a['drugname'] = df2_appended_data1a['drugname'].str.replace(u\"\\\\\\\\\", \", \")\n",
    "df2_appended_data1a['drugname'] = df2_appended_data1a['drugname'].str.replace(u\"' \",\"'\")\n",
    "df2_appended_data1a['drugname'] = df2_appended_data1a['drugname'].str.replace('.',\"\")\n",
    "df2_appended_data1a['drugname'] = df2_appended_data1a['drugname'].str.replace(' \\n',\"\")\n",
    "df2_appended_data1a['drugname'] = df2_appended_data1a['drugname'].str.replace('\\n ',\"\")\n",
    "df2_appended_data1a['drugname'] = [''.join(c.split()) for c in df2_appended_data1a['drugname'].astype(str)]\n",
    "df2_appended_data1a['drugname'] = df2_appended_data1a['drugname'].replace({r'\\s+$': '', r'^\\s+': ''}, regex=True).replace(r\"\\n\",  ' ', regex=True)\n",
    "df2_appended_data1a['drugname'] = df2_appended_data1a['drugname'].str.translate({None: \",!.; ''-@!%^&*)(\"})\n",
    "\n",
    "####################\n",
    "\n",
    "df2_appended_data1b['drugname'] = df2_appended_data1b['drugname'].str.strip()\n",
    "df2_appended_data1b['drugname'] = df2_appended_data1b['drugname'].str.strip(',')\n",
    "df2_appended_data1b['drugname'] = df2_appended_data1b['drugname'].str.replace(u\"/\",\", \")\n",
    "df2_appended_data1b['drugname'] = df2_appended_data1b['drugname'].str.replace(u\"\\\\\\\\\", \", \")\n",
    "df2_appended_data1b['drugname'] = df2_appended_data1b['drugname'].str.replace(u\"' \",\"'\")\n",
    "df2_appended_data1b['drugname'] = df2_appended_data1b['drugname'].str.replace('.',\"\")\n",
    "df2_appended_data1b['drugname'] = df2_appended_data1b['drugname'].str.replace(' \\n',\"\")\n",
    "df2_appended_data1b['drugname'] = df2_appended_data1b['drugname'].str.replace('\\n ',\"\")\n",
    "df2_appended_data1b['drugname'] = [''.join(c.split()) for c in df2_appended_data1b['drugname'].astype(str)]\n",
    "df2_appended_data1b['drugname'] = df2_appended_data1b['drugname'].replace({r'\\s+$': '', r'^\\s+': ''}, regex=True).replace(r\"\\n\",  ' ', regex=True)\n",
    "df2_appended_data1b['drugname'] = df2_appended_data1b['drugname'].str.translate({None: \",!.; ''-@!%^&*)(\"})\n",
    "\n",
    "####################\n",
    "\n",
    "df2_appended_data1c['drugname'] = df2_appended_data1c['drugname'].str.strip()\n",
    "df2_appended_data1c['drugname'] = df2_appended_data1c['drugname'].str.strip(',')\n",
    "df2_appended_data1c['drugname'] = df2_appended_data1c['drugname'].str.replace(u\"/\",\", \")\n",
    "df2_appended_data1c['drugname'] = df2_appended_data1c['drugname'].str.replace(u\"\\\\\\\\\", \", \")\n",
    "df2_appended_data1c['drugname'] = df2_appended_data1c['drugname'].str.replace(u\"' \",\"'\")\n",
    "df2_appended_data1c['drugname'] = df2_appended_data1c['drugname'].str.replace('.',\"\")\n",
    "df2_appended_data1c['drugname'] = df2_appended_data1c['drugname'].str.replace(' \\n',\"\")\n",
    "df2_appended_data1c['drugname'] = df2_appended_data1c['drugname'].str.replace('\\n ',\"\")\n",
    "df2_appended_data1c['drugname'] = [''.join(c.split()) for c in df2_appended_data1c['drugname'].astype(str)]\n",
    "df2_appended_data1c['drugname'] = df2_appended_data1c['drugname'].replace({r'\\s+$': '', r'^\\s+': ''}, regex=True).replace(r\"\\n\",  ' ', regex=True)\n",
    "df2_appended_data1c['drugname'] = df2_appended_data1c['drugname'].str.translate({None: \",!.; ''-@!%^&*)(\"})\n",
    "\n",
    "########################\n",
    "df2_appended_data2a['drugname'] = df2_appended_data2a['drugname'].str.strip()\n",
    "df2_appended_data2a['drugname'] = df2_appended_data2a['drugname'].str.strip(',')\n",
    "df2_appended_data2a['drugname'] = df2_appended_data2a['drugname'].str.replace(u\"/\",\", \")\n",
    "df2_appended_data2a['drugname'] = df2_appended_data2a['drugname'].str.replace(u\"\\\\\\\\\", \", \")\n",
    "df2_appended_data2a['drugname'] = df2_appended_data2a['drugname'].str.replace(u\"' \",\"'\")\n",
    "df2_appended_data2a['drugname'] = df2_appended_data2a['drugname'].str.replace('.',\"\")\n",
    "df2_appended_data2a['drugname'] = df2_appended_data2a['drugname'].str.replace(' \\n',\"\")\n",
    "df2_appended_data2a['drugname'] = df2_appended_data2a['drugname'].str.replace('\\n ',\"\")\n",
    "df2_appended_data2a['drugname'] = [''.join(c.split()) for c in df2_appended_data2a['drugname'].astype(str)]\n",
    "df2_appended_data2a['drugname'] = df2_appended_data2a['drugname'].replace({r'\\s+$': '', r'^\\s+': ''}, regex=True).replace(r\"\\n\",  ' ', regex=True)\n",
    "df2_appended_data2a['drugname'] = df2_appended_data2a['drugname'].str.translate({None: \",!.; ''-@!%^&*)(\"})\n",
    "\n",
    "\n",
    "########################\n",
    "df2_appended_data2b['drugname'] = df2_appended_data2b['drugname'].str.strip()\n",
    "df2_appended_data2b['drugname'] = df2_appended_data2b['drugname'].str.strip(',')\n",
    "df2_appended_data2b['drugname'] = df2_appended_data2b['drugname'].str.replace(u\"/\",\", \")\n",
    "df2_appended_data2b['drugname'] = df2_appended_data2b['drugname'].str.replace(u\"\\\\\\\\\", \", \")\n",
    "df2_appended_data2b['drugname'] = df2_appended_data2b['drugname'].str.replace(u\"' \",\"'\")\n",
    "df2_appended_data2b['drugname'] = df2_appended_data2b['drugname'].str.replace('.',\"\")\n",
    "df2_appended_data2b['drugname'] = df2_appended_data2b['drugname'].str.replace(' \\n',\"\")\n",
    "df2_appended_data2b['drugname'] = df2_appended_data2b['drugname'].str.replace('\\n ',\"\")\n",
    "df2_appended_data2b['drugname'] = [''.join(c.split()) for c in df2_appended_data2b['drugname'].astype(str)]\n",
    "df2_appended_data2b['drugname'] = df2_appended_data2b['drugname'].replace({r'\\s+$': '', r'^\\s+': ''}, regex=True).replace(r\"\\n\",  ' ', regex=True)\n",
    "df2_appended_data2b['drugname'] = df2_appended_data2b['drugname'].str.translate({None: \",!.; ''-@!%^&*)(\"})\n",
    "\n"
   ]
  },
  {
   "cell_type": "code",
   "execution_count": 38,
   "metadata": {
    "id": "pFppkXvxkgJ_"
   },
   "outputs": [
    {
     "name": "stdout",
     "output_type": "stream",
     "text": [
      "zipfile download complete\n",
      "world.zip\n",
      "File Name                                             Modified             Size\n",
      "World_Countries__Generalized_.shp              2021-04-14 14:16:52      3823320\n",
      "World_Countries__Generalized_.shx              2021-04-14 14:16:52         2092\n",
      "World_Countries__Generalized_.dbf              2021-04-14 14:16:52        32130\n",
      "World_Countries__Generalized_.cpg              2021-04-14 14:16:52            5\n",
      "World_Countries__Generalized_.prj              2021-04-14 14:16:52          145\n",
      "World_Countries_(Generalized).xml              2021-04-14 14:17:10        84882\n",
      "zipfile unzip complete\n"
     ]
    }
   ],
   "source": [
    "os.chdir(r\"D:\\Research\\FAERS_Public_Similarity\\Data\\helper_dataset\")\n",
    "country_file_url = 'https://opendata.arcgis.com/datasets/2b93b06dc0dc4e809d3c8db5cb96ba69_0.zip'\n",
    "file_name = 'world'+'.zip'\n",
    "\n",
    "with urllib.request.urlopen(country_file_url) as response, open(file_name, 'wb') as out_file:\n",
    "  shutil.copyfileobj(response, out_file)\n",
    "\n",
    "print('zipfile download complete')\n",
    "\n",
    "file_name = 'world'+'.zip'\n",
    "print(file_name)\n",
    "\n",
    "os.chdir(r\"D:\\Research\\FAERS_Public_Similarity\\Data\\helper_dataset\")\n",
    "import zipfile\n",
    "zip_ref = zipfile.ZipFile(file_name)\n",
    "zip_ref.printdir() \n",
    "os.chdir(r\"D:\\Research\\FAERS_Public_Similarity\\Data\\helper_dataset\")\n",
    "zip_ref.extractall('world')\n",
    "zip_ref.close()\n",
    "print('zipfile unzip complete')"
   ]
  },
  {
   "cell_type": "markdown",
   "metadata": {
    "id": "XAJI9GN7q-Ev"
   },
   "source": [
    "#####country shapefile - download and joining"
   ]
  },
  {
   "cell_type": "code",
   "execution_count": 44,
   "metadata": {
    "id": "DndoCH3fMdTX"
   },
   "outputs": [
    {
     "name": "stderr",
     "output_type": "stream",
     "text": [
      "<ipython-input-44-6642a21f4ac0>:9: UserWarning: Geometry is in a geographic CRS. Results from 'centroid' are likely incorrect. Use 'GeoSeries.to_crs()' to re-project geometries to a projected CRS before this operation.\n",
      "\n",
      "  world_shp['centroid'] = world_shp['geometry'].centroid\n",
      "<ipython-input-44-6642a21f4ac0>:14: UserWarning: Geometry is in a geographic CRS. Results from 'centroid' are likely incorrect. Use 'GeoSeries.to_crs()' to re-project geometries to a projected CRS before this operation.\n",
      "\n",
      "  world_shp['Lon'] = world_shp.centroid.x\n",
      "<ipython-input-44-6642a21f4ac0>:15: UserWarning: Geometry is in a geographic CRS. Results from 'centroid' are likely incorrect. Use 'GeoSeries.to_crs()' to re-project geometries to a projected CRS before this operation.\n",
      "\n",
      "  world_shp['Lat'] = world_shp.centroid.y\n"
     ]
    },
    {
     "data": {
      "text/html": [
       "<div>\n",
       "<style scoped>\n",
       "    .dataframe tbody tr th:only-of-type {\n",
       "        vertical-align: middle;\n",
       "    }\n",
       "\n",
       "    .dataframe tbody tr th {\n",
       "        vertical-align: top;\n",
       "    }\n",
       "\n",
       "    .dataframe thead th {\n",
       "        text-align: right;\n",
       "    }\n",
       "</style>\n",
       "<table border=\"1\" class=\"dataframe\">\n",
       "  <thead>\n",
       "    <tr style=\"text-align: right;\">\n",
       "      <th></th>\n",
       "      <th>COUNTRY</th>\n",
       "      <th>ISO</th>\n",
       "      <th>geometry</th>\n",
       "      <th>coords</th>\n",
       "    </tr>\n",
       "  </thead>\n",
       "  <tbody>\n",
       "    <tr>\n",
       "      <th>0</th>\n",
       "      <td>Gibraltar</td>\n",
       "      <td>gi</td>\n",
       "      <td>POLYGON ((-5.33451 36.16256, -5.33748 36.14895...</td>\n",
       "      <td>(-5.34612237843648, 36.13274565100005)</td>\n",
       "    </tr>\n",
       "    <tr>\n",
       "      <th>1</th>\n",
       "      <td>Portugal</td>\n",
       "      <td>pt</td>\n",
       "      <td>MULTIPOLYGON (((-8.64555 41.01858, -8.65722 41...</td>\n",
       "      <td>(-8.288580585891614, 39.56457761450005)</td>\n",
       "    </tr>\n",
       "    <tr>\n",
       "      <th>2</th>\n",
       "      <td>Ireland</td>\n",
       "      <td>ie</td>\n",
       "      <td>MULTIPOLYGON (((-9.00147 53.14559, -9.03965 53...</td>\n",
       "      <td>(-7.967926824330538, 53.412495657500045)</td>\n",
       "    </tr>\n",
       "    <tr>\n",
       "      <th>3</th>\n",
       "      <td>United Kingdom</td>\n",
       "      <td>gb</td>\n",
       "      <td>MULTIPOLYGON (((-4.86416 54.62722, -4.92250 54...</td>\n",
       "      <td>(-1.915954942123481, 54.31166365300004)</td>\n",
       "    </tr>\n",
       "    <tr>\n",
       "      <th>4</th>\n",
       "      <td>Iceland</td>\n",
       "      <td>is</td>\n",
       "      <td>POLYGON ((-22.02473 64.41888, -22.02445 64.443...</td>\n",
       "      <td>(-18.618656978441727, 64.95658608400007)</td>\n",
       "    </tr>\n",
       "  </tbody>\n",
       "</table>\n",
       "</div>"
      ],
      "text/plain": [
       "          COUNTRY ISO                                           geometry  \\\n",
       "0       Gibraltar  gi  POLYGON ((-5.33451 36.16256, -5.33748 36.14895...   \n",
       "1        Portugal  pt  MULTIPOLYGON (((-8.64555 41.01858, -8.65722 41...   \n",
       "2         Ireland  ie  MULTIPOLYGON (((-9.00147 53.14559, -9.03965 53...   \n",
       "3  United Kingdom  gb  MULTIPOLYGON (((-4.86416 54.62722, -4.92250 54...   \n",
       "4         Iceland  is  POLYGON ((-22.02473 64.41888, -22.02445 64.443...   \n",
       "\n",
       "                                     coords  \n",
       "0    (-5.34612237843648, 36.13274565100005)  \n",
       "1   (-8.288580585891614, 39.56457761450005)  \n",
       "2  (-7.967926824330538, 53.412495657500045)  \n",
       "3   (-1.915954942123481, 54.31166365300004)  \n",
       "4  (-18.618656978441727, 64.95658608400007)  "
      ]
     },
     "execution_count": 44,
     "metadata": {},
     "output_type": "execute_result"
    }
   ],
   "source": [
    "\n",
    "world_shp = gpd.read_file(r\"D:\\Research\\FAERS_Public_Similarity\\Data\\helper_dataset\\world\\World_Countries__Generalized_.shp\")\n",
    "world_shp['ISO'] = world_shp['ISO'].str.strip()#ISOSHRTNAM\n",
    "world_shp['ISO'] = world_shp['ISO'].str.lower()\n",
    "europe = ['AL', 'AD', 'AM', 'AT', 'BY', 'BE', 'BA', 'BG', 'CH', 'CY', 'CZ', 'DE',\n",
    "        'DK', 'EE', 'ES', 'FO', 'FI', 'FR', 'GB', 'GE', 'GI', 'GR', 'HU', 'HR',\n",
    "        'IE', 'IS', 'IT', 'LT', 'LU', 'LV', 'MC', 'MK', 'MT', 'NO', 'NL', 'PL',\n",
    "        'PT', 'RO', 'SE', 'SI', 'SK', 'SM', 'TR', 'UA', 'VA']\n",
    "world_shp = world_shp[world_shp['ISO'].str.contains('|'.join(europe),case=False, na=False, regex=True)]\n",
    "world_shp['centroid'] = world_shp['geometry'].centroid\n",
    "world_shp['coords'] = world_shp['geometry'].apply(lambda x: x.representative_point().coords[:])\n",
    "world_shp['coords'] = [coords[0] for coords in world_shp['coords']]\n",
    "world_shp['coords']\n",
    "\n",
    "world_shp['Lon'] = world_shp.centroid.x\n",
    "world_shp['Lat'] = world_shp.centroid.y\n",
    "\n",
    "world_shp = world_shp.reset_index()\n",
    "world_shp.columns\n",
    "#world_shp.head()\n",
    "world_shp[['COUNTRY','ISO','geometry','coords']].head()"
   ]
  },
  {
   "cell_type": "code",
   "execution_count": 45,
   "metadata": {
    "id": "xwwucfj5MdTY"
   },
   "outputs": [],
   "source": [
    "df1_appended_data0['occr_country'] = df1_appended_data0['occr_country'].str.strip()\n",
    "df1_appended_data0['occr_country'] = df1_appended_data0['occr_country'].str.lower()\n",
    "\n",
    "df_e0 =df1_appended_data0.merge(world_shp[['COUNTRY','ISO','geometry','coords']], left_on='occr_country', right_on='ISO', how='inner')"
   ]
  },
  {
   "cell_type": "code",
   "execution_count": 46,
   "metadata": {
    "id": "VUAZsqUUndIO"
   },
   "outputs": [],
   "source": [
    "df1_appended_data0b['occr_country'] = df1_appended_data0b['occr_country'].str.strip()\n",
    "df1_appended_data0b['occr_country'] = df1_appended_data0b['occr_country'].str.lower()\n",
    "\n",
    "df_e0b =df1_appended_data0b.merge(world_shp[['COUNTRY','ISO','geometry','coords']], left_on='occr_country', right_on='ISO', how='inner')"
   ]
  },
  {
   "cell_type": "code",
   "execution_count": 47,
   "metadata": {
    "id": "mnVoZBtlRtzj"
   },
   "outputs": [],
   "source": [
    "df1_appended_data0c['occr_country'] = df1_appended_data0c['occr_country'].str.strip()\n",
    "df1_appended_data0c['occr_country'] = df1_appended_data0c['occr_country'].str.lower()\n",
    "\n",
    "df_e0c =df1_appended_data0.merge(world_shp[['COUNTRY','ISO','geometry','coords']], left_on='occr_country', right_on='ISO', how='inner')"
   ]
  },
  {
   "cell_type": "code",
   "execution_count": 48,
   "metadata": {
    "id": "FF-C_4s3MdTZ"
   },
   "outputs": [],
   "source": [
    "df1_appended_data1a['occr_country'] = df1_appended_data1a['occr_country'].str.strip()\n",
    "df1_appended_data1a['occr_country'] = df1_appended_data1a['occr_country'].str.lower()\n",
    "\n",
    "df_e1a =df1_appended_data1a.merge(world_shp[['COUNTRY','ISO','geometry','coords']], left_on='occr_country', right_on='ISO', how='inner')"
   ]
  },
  {
   "cell_type": "code",
   "execution_count": 49,
   "metadata": {
    "id": "T8ww4ir4RtpL"
   },
   "outputs": [],
   "source": [
    "df1_appended_data1b['occr_country'] = df1_appended_data1b['occr_country'].str.strip()\n",
    "df1_appended_data1b['occr_country'] = df1_appended_data1b['occr_country'].str.lower()\n",
    "\n",
    "df_e1b =df1_appended_data1b.merge(world_shp[['COUNTRY','ISO','geometry','coords']], left_on='occr_country', right_on='ISO', how='inner')"
   ]
  },
  {
   "cell_type": "code",
   "execution_count": 50,
   "metadata": {
    "id": "1Im1_XUTndTr"
   },
   "outputs": [],
   "source": [
    "df1_appended_data1c['occr_country'] = df1_appended_data1c['occr_country'].str.strip()\n",
    "df1_appended_data1c['occr_country'] = df1_appended_data1c['occr_country'].str.lower()\n",
    "\n",
    "df_e1c =df1_appended_data1c.merge(world_shp[['COUNTRY','ISO','geometry','coords']], left_on='occr_country', right_on='ISO', how='inner')"
   ]
  },
  {
   "cell_type": "code",
   "execution_count": 51,
   "metadata": {
    "id": "MckEytWPMdTa"
   },
   "outputs": [],
   "source": [
    "df1_appended_data2a['occr_country'] = df1_appended_data2a['occr_country'].str.strip()\n",
    "df1_appended_data2a['occr_country'] = df1_appended_data2a['occr_country'].str.lower()\n",
    "\n",
    "df_e2a =df1_appended_data2a.merge(world_shp[['COUNTRY','ISO','geometry','coords']], left_on='occr_country', right_on='ISO', how='inner')"
   ]
  },
  {
   "cell_type": "code",
   "execution_count": 52,
   "metadata": {
    "id": "1_FDzK_vS1tA"
   },
   "outputs": [],
   "source": [
    "df1_appended_data2b['occr_country'] = df1_appended_data2b['occr_country'].str.strip()\n",
    "df1_appended_data2b['occr_country'] = df1_appended_data2b['occr_country'].str.lower()\n",
    "\n",
    "df_e2b =df1_appended_data2b.merge(world_shp[['COUNTRY','ISO','geometry','coords']], left_on='occr_country', right_on='ISO', how='inner')"
   ]
  },
  {
   "cell_type": "code",
   "execution_count": 53,
   "metadata": {
    "id": "VTCCinviMdTb"
   },
   "outputs": [
    {
     "name": "stdout",
     "output_type": "stream",
     "text": [
      "Garbage collector: collected 296 objects.\n"
     ]
    }
   ],
   "source": [
    "import gc\n",
    "collected = gc.collect()\n",
    "gc.collect()\n",
    "\n",
    "print (\"Garbage collector: collected %d objects.\" % (collected))"
   ]
  },
  {
   "cell_type": "markdown",
   "metadata": {
    "id": "EV1DkQaerdBd"
   },
   "source": [
    "##### data management (joining all dataframes together)"
   ]
  },
  {
   "cell_type": "code",
   "execution_count": 54,
   "metadata": {
    "id": "hcEIogx7MdTb"
   },
   "outputs": [],
   "source": [
    "data_frames0 = [df_e0, df2_appended_data0,df3_appended_data0,df5_appended_data0]\n",
    "df_merged0 = reduce(lambda  left,right: pd.merge(left,right,on=['primaryid','caseid'],\n",
    "                                            how='inner'), data_frames0)\n",
    "\n",
    "#df_merged0.head()\n",
    "#dd = df_merged0[['caseid_x', 'caseid_y','caseid']]\n",
    "#duplicateRowsDF1 = dd.drop_duplicates(subset=['caseid_x', 'caseid_y','caseid'], keep='last')\n",
    "#duplicateRowsDF = duplicateRowsDF1.drop_duplicates(subset=['caseid_x', 'caseid_y','caseid'], keep=False)\n",
    "#duplicateRowsDF\n",
    "#duplicateRowsDF1 = duplicateRowsDF1.T.drop_duplicates().T\n",
    "#duplicateRowsDF1"
   ]
  },
  {
   "cell_type": "code",
   "execution_count": 56,
   "metadata": {
    "id": "whooEIHyU85D"
   },
   "outputs": [],
   "source": [
    "df_merged0.to_pickle(r\"D:\\Research\\FAERS_Public_Similarity\\Data\\temp_data\\df_merged0.pkl\") "
   ]
  },
  {
   "cell_type": "code",
   "execution_count": 58,
   "metadata": {
    "id": "Y6W2m1UdTPJG"
   },
   "outputs": [],
   "source": [
    "data_frames0b = [df_e0b, df2_appended_data0b,df3_appended_data0b,df5_appended_data0b]\n",
    "df_merged0b = reduce(lambda  left,right: pd.merge(left,right,on=['primaryid','caseid'],\n",
    "                                            how='inner'), data_frames0b)"
   ]
  },
  {
   "cell_type": "code",
   "execution_count": 59,
   "metadata": {
    "id": "AjKM9h-vkdd3"
   },
   "outputs": [],
   "source": [
    "df_merged0b.to_pickle(r\"D:\\Research\\FAERS_Public_Similarity\\Data\\temp_data\\df_merged0b.pkl\") "
   ]
  },
  {
   "cell_type": "code",
   "execution_count": null,
   "metadata": {
    "id": "xrx1dnITUlPc"
   },
   "outputs": [],
   "source": [
    "del(df_e0b, df2_appended_data0b,df3_appended_data0b,df5_appended_data0b,data_frames0b) \n"
   ]
  },
  {
   "cell_type": "code",
   "execution_count": 60,
   "metadata": {
    "id": "sczrADAtTPZW"
   },
   "outputs": [],
   "source": [
    "data_frames0c = [df_e0c, df2_appended_data0c,df3_appended_data0c,df5_appended_data0c]\n",
    "df_merged0c = reduce(lambda  left,right: pd.merge(left,right,on=['primaryid','caseid'],\n",
    "                                            how='inner'), data_frames0c)"
   ]
  },
  {
   "cell_type": "code",
   "execution_count": 61,
   "metadata": {
    "id": "EioYcV2Iky_S"
   },
   "outputs": [],
   "source": [
    "df_merged0c.to_pickle(r\"D:\\Research\\FAERS_Public_Similarity\\Data\\temp_data\\df_merged0c.pkl\") "
   ]
  },
  {
   "cell_type": "code",
   "execution_count": 62,
   "metadata": {
    "id": "jX_mMBgmMdTd"
   },
   "outputs": [],
   "source": [
    "data_frames1a = [df_e1a, df2_appended_data1a,df3_appended_data1a,df5_appended_data1a]\n",
    "\n",
    "df_merged1a = reduce(lambda  left,right: pd.merge(left,right,on=['primaryid','caseid'],\n",
    "                                            how='inner'), data_frames1a)"
   ]
  },
  {
   "cell_type": "code",
   "execution_count": 63,
   "metadata": {
    "id": "l3y7zjQoldNg"
   },
   "outputs": [],
   "source": [
    "df_merged1a.to_pickle(r\"D:\\Research\\FAERS_Public_Similarity\\Data\\temp_data\\df_merged1a.pkl\") "
   ]
  },
  {
   "cell_type": "code",
   "execution_count": 64,
   "metadata": {
    "id": "hq_RJ3Stn43g"
   },
   "outputs": [],
   "source": [
    "data_frames1b = [df_e1b, df2_appended_data1b,df3_appended_data1b,df5_appended_data1b]\n",
    "df_merged1b = reduce(lambda  left,right: pd.merge(left,right,on=['primaryid','caseid'],\n",
    "                                            how='inner'), data_frames1b)"
   ]
  },
  {
   "cell_type": "code",
   "execution_count": 65,
   "metadata": {
    "id": "Dxq-xCldlgIj"
   },
   "outputs": [],
   "source": [
    "df_merged1b.to_pickle(r\"D:\\Research\\FAERS_Public_Similarity\\Data\\temp_data\\df_merged1b.pkl\") "
   ]
  },
  {
   "cell_type": "code",
   "execution_count": 66,
   "metadata": {
    "id": "hhqrZmKgn5EQ"
   },
   "outputs": [],
   "source": [
    "data_frames1c = [df_e1c, df2_appended_data1c,df3_appended_data1c,df5_appended_data1c]\n",
    "df_merged1c = reduce(lambda  left,right: pd.merge(left,right,on=['primaryid','caseid'],\n",
    "                                            how='inner'), data_frames1c)"
   ]
  },
  {
   "cell_type": "code",
   "execution_count": 67,
   "metadata": {
    "id": "WxWmKzNelk91"
   },
   "outputs": [],
   "source": [
    "df_merged1c.to_pickle(r\"D:\\Research\\FAERS_Public_Similarity\\Data\\temp_data\\df_merged1c.pkl\") "
   ]
  },
  {
   "cell_type": "code",
   "execution_count": 68,
   "metadata": {
    "id": "uciZZcNAMdTe"
   },
   "outputs": [],
   "source": [
    "data_frames2a = [df_e2a, df2_appended_data2a,df3_appended_data2a,df5_appended_data2a]\n",
    "df_merged2a = reduce(lambda  left,right: pd.merge(left,right,on=['primaryid','caseid'],\n",
    "                                            how='inner'), data_frames2a)"
   ]
  },
  {
   "cell_type": "code",
   "execution_count": 69,
   "metadata": {
    "id": "bEMMcQMkmnF3"
   },
   "outputs": [],
   "source": [
    "df_merged2a.to_pickle(r\"D:\\Research\\FAERS_Public_Similarity\\Data\\temp_data\\df_merged2a.pkl\") "
   ]
  },
  {
   "cell_type": "code",
   "execution_count": 70,
   "metadata": {
    "id": "P_q1tDNomnoP"
   },
   "outputs": [],
   "source": [
    "data_frames2b = [df_e2b, df2_appended_data2b,df3_appended_data2b,df5_appended_data2b]\n",
    "df_merged2b = reduce(lambda  left,right: pd.merge(left,right,on=['primaryid','caseid'],\n",
    "                                            how='inner'), data_frames2b)"
   ]
  },
  {
   "cell_type": "code",
   "execution_count": 71,
   "metadata": {
    "id": "p1O1EDOimn15"
   },
   "outputs": [],
   "source": [
    "df_merged2b.to_pickle(r\"D:\\Research\\FAERS_Public_Similarity\\Data\\temp_data\\df_merged2b.pkl\") "
   ]
  },
  {
   "cell_type": "code",
   "execution_count": null,
   "metadata": {
    "id": "jmVcFUitnHYT"
   },
   "outputs": [],
   "source": [
    "stop\n",
    "#df_merged2b.info()"
   ]
  },
  {
   "cell_type": "markdown",
   "metadata": {
    "id": "vDWTsXN1rnYO"
   },
   "source": [
    "##### data management (time column)"
   ]
  },
  {
   "cell_type": "code",
   "execution_count": 74,
   "metadata": {
    "id": "q18Vo4voMdTi"
   },
   "outputs": [
    {
     "data": {
      "text/html": [
       "<div>\n",
       "<style scoped>\n",
       "    .dataframe tbody tr th:only-of-type {\n",
       "        vertical-align: middle;\n",
       "    }\n",
       "\n",
       "    .dataframe tbody tr th {\n",
       "        vertical-align: top;\n",
       "    }\n",
       "\n",
       "    .dataframe thead th {\n",
       "        text-align: right;\n",
       "    }\n",
       "</style>\n",
       "<table border=\"1\" class=\"dataframe\">\n",
       "  <thead>\n",
       "    <tr style=\"text-align: right;\">\n",
       "      <th></th>\n",
       "      <th>primaryid</th>\n",
       "      <th>caseid</th>\n",
       "      <th>event_dt</th>\n",
       "      <th>age</th>\n",
       "      <th>sex</th>\n",
       "      <th>occr_country</th>\n",
       "      <th>COUNTRY</th>\n",
       "      <th>ISO</th>\n",
       "      <th>geometry</th>\n",
       "      <th>coords</th>\n",
       "      <th>drugname</th>\n",
       "      <th>prod_ai</th>\n",
       "      <th>indi_pt</th>\n",
       "      <th>pt</th>\n",
       "    </tr>\n",
       "  </thead>\n",
       "  <tbody>\n",
       "    <tr>\n",
       "      <th>0</th>\n",
       "      <td>100373857</td>\n",
       "      <td>10037385</td>\n",
       "      <td>2012-01-01</td>\n",
       "      <td>72.0</td>\n",
       "      <td>F</td>\n",
       "      <td>gb</td>\n",
       "      <td>United Kingdom</td>\n",
       "      <td>gb</td>\n",
       "      <td>(POLYGON ((-4.864163851999933 54.6272180850000...</td>\n",
       "      <td>(-1.915954942123481, 54.31166365300004)</td>\n",
       "      <td>anastrazoleaccord</td>\n",
       "      <td>ANASTROZOLE</td>\n",
       "      <td>Breast cancer</td>\n",
       "      <td>Abdominal mass</td>\n",
       "    </tr>\n",
       "    <tr>\n",
       "      <th>1</th>\n",
       "      <td>100373857</td>\n",
       "      <td>10037385</td>\n",
       "      <td>2012-01-01</td>\n",
       "      <td>72.0</td>\n",
       "      <td>F</td>\n",
       "      <td>gb</td>\n",
       "      <td>United Kingdom</td>\n",
       "      <td>gb</td>\n",
       "      <td>(POLYGON ((-4.864163851999933 54.6272180850000...</td>\n",
       "      <td>(-1.915954942123481, 54.31166365300004)</td>\n",
       "      <td>anastrazoleaccord</td>\n",
       "      <td>ANASTROZOLE</td>\n",
       "      <td>Breast cancer</td>\n",
       "      <td>Abdominal pain</td>\n",
       "    </tr>\n",
       "    <tr>\n",
       "      <th>2</th>\n",
       "      <td>100373857</td>\n",
       "      <td>10037385</td>\n",
       "      <td>2012-01-01</td>\n",
       "      <td>72.0</td>\n",
       "      <td>F</td>\n",
       "      <td>gb</td>\n",
       "      <td>United Kingdom</td>\n",
       "      <td>gb</td>\n",
       "      <td>(POLYGON ((-4.864163851999933 54.6272180850000...</td>\n",
       "      <td>(-1.915954942123481, 54.31166365300004)</td>\n",
       "      <td>anastrazoleaccord</td>\n",
       "      <td>ANASTROZOLE</td>\n",
       "      <td>Breast cancer</td>\n",
       "      <td>Abnormal faeces</td>\n",
       "    </tr>\n",
       "    <tr>\n",
       "      <th>3</th>\n",
       "      <td>100373857</td>\n",
       "      <td>10037385</td>\n",
       "      <td>2012-01-01</td>\n",
       "      <td>72.0</td>\n",
       "      <td>F</td>\n",
       "      <td>gb</td>\n",
       "      <td>United Kingdom</td>\n",
       "      <td>gb</td>\n",
       "      <td>(POLYGON ((-4.864163851999933 54.6272180850000...</td>\n",
       "      <td>(-1.915954942123481, 54.31166365300004)</td>\n",
       "      <td>anastrazoleaccord</td>\n",
       "      <td>ANASTROZOLE</td>\n",
       "      <td>Breast cancer</td>\n",
       "      <td>Alopecia</td>\n",
       "    </tr>\n",
       "    <tr>\n",
       "      <th>4</th>\n",
       "      <td>100373857</td>\n",
       "      <td>10037385</td>\n",
       "      <td>2012-01-01</td>\n",
       "      <td>72.0</td>\n",
       "      <td>F</td>\n",
       "      <td>gb</td>\n",
       "      <td>United Kingdom</td>\n",
       "      <td>gb</td>\n",
       "      <td>(POLYGON ((-4.864163851999933 54.6272180850000...</td>\n",
       "      <td>(-1.915954942123481, 54.31166365300004)</td>\n",
       "      <td>anastrazoleaccord</td>\n",
       "      <td>ANASTROZOLE</td>\n",
       "      <td>Breast cancer</td>\n",
       "      <td>Anal incontinence</td>\n",
       "    </tr>\n",
       "  </tbody>\n",
       "</table>\n",
       "</div>"
      ],
      "text/plain": [
       "   primaryid    caseid   event_dt   age sex occr_country         COUNTRY ISO  \\\n",
       "0  100373857  10037385 2012-01-01  72.0   F           gb  United Kingdom  gb   \n",
       "1  100373857  10037385 2012-01-01  72.0   F           gb  United Kingdom  gb   \n",
       "2  100373857  10037385 2012-01-01  72.0   F           gb  United Kingdom  gb   \n",
       "3  100373857  10037385 2012-01-01  72.0   F           gb  United Kingdom  gb   \n",
       "4  100373857  10037385 2012-01-01  72.0   F           gb  United Kingdom  gb   \n",
       "\n",
       "                                            geometry  \\\n",
       "0  (POLYGON ((-4.864163851999933 54.6272180850000...   \n",
       "1  (POLYGON ((-4.864163851999933 54.6272180850000...   \n",
       "2  (POLYGON ((-4.864163851999933 54.6272180850000...   \n",
       "3  (POLYGON ((-4.864163851999933 54.6272180850000...   \n",
       "4  (POLYGON ((-4.864163851999933 54.6272180850000...   \n",
       "\n",
       "                                    coords           drugname      prod_ai  \\\n",
       "0  (-1.915954942123481, 54.31166365300004)  anastrazoleaccord  ANASTROZOLE   \n",
       "1  (-1.915954942123481, 54.31166365300004)  anastrazoleaccord  ANASTROZOLE   \n",
       "2  (-1.915954942123481, 54.31166365300004)  anastrazoleaccord  ANASTROZOLE   \n",
       "3  (-1.915954942123481, 54.31166365300004)  anastrazoleaccord  ANASTROZOLE   \n",
       "4  (-1.915954942123481, 54.31166365300004)  anastrazoleaccord  ANASTROZOLE   \n",
       "\n",
       "         indi_pt                 pt  \n",
       "0  Breast cancer     Abdominal mass  \n",
       "1  Breast cancer     Abdominal pain  \n",
       "2  Breast cancer    Abnormal faeces  \n",
       "3  Breast cancer           Alopecia  \n",
       "4  Breast cancer  Anal incontinence  "
      ]
     },
     "execution_count": 74,
     "metadata": {},
     "output_type": "execute_result"
    }
   ],
   "source": [
    "df_merged0 = pd.read_pickle(r\"D:\\Research\\FAERS_Public_Similarity\\Data\\temp_data\\df_merged0.pkl\")\n",
    "\n",
    "df_merged0['event_dt'] = df_merged0['event_dt'].astype(str).replace('\\.0', '', regex=True)\n",
    "df_merged0['event_dt'] = df_merged0['event_dt'].astype(str)\n",
    "df_merged0.fillna(0)\n",
    "df_merged0.replace(np.nan, 0, inplace=True)\n",
    "\n",
    "df_merged0['event_dt'] = pd.to_datetime(df_merged0.event_dt, errors='coerce')\n",
    "#df_merged0['event_dt1'] = df_merged0['event_dt'].dt.strftime('%Y%m%d')\n",
    "df_merged0.to_pickle(r\"D:\\Research\\FAERS_Public_Similarity\\Data\\temp_data\\df_merged0.pkl\") \n",
    "\n",
    "df_merged0.head()"
   ]
  },
  {
   "cell_type": "code",
   "execution_count": 75,
   "metadata": {
    "id": "7F4DKYICvmu2"
   },
   "outputs": [
    {
     "data": {
      "text/html": [
       "<div>\n",
       "<style scoped>\n",
       "    .dataframe tbody tr th:only-of-type {\n",
       "        vertical-align: middle;\n",
       "    }\n",
       "\n",
       "    .dataframe tbody tr th {\n",
       "        vertical-align: top;\n",
       "    }\n",
       "\n",
       "    .dataframe thead th {\n",
       "        text-align: right;\n",
       "    }\n",
       "</style>\n",
       "<table border=\"1\" class=\"dataframe\">\n",
       "  <thead>\n",
       "    <tr style=\"text-align: right;\">\n",
       "      <th></th>\n",
       "      <th>primaryid</th>\n",
       "      <th>caseid</th>\n",
       "      <th>event_dt</th>\n",
       "      <th>age</th>\n",
       "      <th>sex</th>\n",
       "      <th>occr_country</th>\n",
       "      <th>COUNTRY</th>\n",
       "      <th>ISO</th>\n",
       "      <th>geometry</th>\n",
       "      <th>coords</th>\n",
       "      <th>drugname</th>\n",
       "      <th>prod_ai</th>\n",
       "      <th>indi_pt</th>\n",
       "      <th>pt</th>\n",
       "    </tr>\n",
       "  </thead>\n",
       "  <tbody>\n",
       "    <tr>\n",
       "      <th>0</th>\n",
       "      <td>100373856</td>\n",
       "      <td>10037385</td>\n",
       "      <td>2012-01-01</td>\n",
       "      <td>72.0</td>\n",
       "      <td>F</td>\n",
       "      <td>gb</td>\n",
       "      <td>United Kingdom</td>\n",
       "      <td>gb</td>\n",
       "      <td>(POLYGON ((-4.864163851999933 54.6272180850000...</td>\n",
       "      <td>(-1.915954942123481, 54.31166365300004)</td>\n",
       "      <td>anastrazoleaccord</td>\n",
       "      <td>ANASTROZOLE</td>\n",
       "      <td>Breast cancer</td>\n",
       "      <td>Abdominal mass</td>\n",
       "    </tr>\n",
       "    <tr>\n",
       "      <th>1</th>\n",
       "      <td>100373856</td>\n",
       "      <td>10037385</td>\n",
       "      <td>2012-01-01</td>\n",
       "      <td>72.0</td>\n",
       "      <td>F</td>\n",
       "      <td>gb</td>\n",
       "      <td>United Kingdom</td>\n",
       "      <td>gb</td>\n",
       "      <td>(POLYGON ((-4.864163851999933 54.6272180850000...</td>\n",
       "      <td>(-1.915954942123481, 54.31166365300004)</td>\n",
       "      <td>anastrazoleaccord</td>\n",
       "      <td>ANASTROZOLE</td>\n",
       "      <td>Breast cancer</td>\n",
       "      <td>Abdominal pain</td>\n",
       "    </tr>\n",
       "    <tr>\n",
       "      <th>2</th>\n",
       "      <td>100373856</td>\n",
       "      <td>10037385</td>\n",
       "      <td>2012-01-01</td>\n",
       "      <td>72.0</td>\n",
       "      <td>F</td>\n",
       "      <td>gb</td>\n",
       "      <td>United Kingdom</td>\n",
       "      <td>gb</td>\n",
       "      <td>(POLYGON ((-4.864163851999933 54.6272180850000...</td>\n",
       "      <td>(-1.915954942123481, 54.31166365300004)</td>\n",
       "      <td>anastrazoleaccord</td>\n",
       "      <td>ANASTROZOLE</td>\n",
       "      <td>Breast cancer</td>\n",
       "      <td>Abnormal faeces</td>\n",
       "    </tr>\n",
       "    <tr>\n",
       "      <th>3</th>\n",
       "      <td>100373856</td>\n",
       "      <td>10037385</td>\n",
       "      <td>2012-01-01</td>\n",
       "      <td>72.0</td>\n",
       "      <td>F</td>\n",
       "      <td>gb</td>\n",
       "      <td>United Kingdom</td>\n",
       "      <td>gb</td>\n",
       "      <td>(POLYGON ((-4.864163851999933 54.6272180850000...</td>\n",
       "      <td>(-1.915954942123481, 54.31166365300004)</td>\n",
       "      <td>anastrazoleaccord</td>\n",
       "      <td>ANASTROZOLE</td>\n",
       "      <td>Breast cancer</td>\n",
       "      <td>Alopecia</td>\n",
       "    </tr>\n",
       "    <tr>\n",
       "      <th>4</th>\n",
       "      <td>100373856</td>\n",
       "      <td>10037385</td>\n",
       "      <td>2012-01-01</td>\n",
       "      <td>72.0</td>\n",
       "      <td>F</td>\n",
       "      <td>gb</td>\n",
       "      <td>United Kingdom</td>\n",
       "      <td>gb</td>\n",
       "      <td>(POLYGON ((-4.864163851999933 54.6272180850000...</td>\n",
       "      <td>(-1.915954942123481, 54.31166365300004)</td>\n",
       "      <td>anastrazoleaccord</td>\n",
       "      <td>ANASTROZOLE</td>\n",
       "      <td>Breast cancer</td>\n",
       "      <td>Anal incontinence</td>\n",
       "    </tr>\n",
       "  </tbody>\n",
       "</table>\n",
       "</div>"
      ],
      "text/plain": [
       "   primaryid    caseid   event_dt   age sex occr_country         COUNTRY ISO  \\\n",
       "0  100373856  10037385 2012-01-01  72.0   F           gb  United Kingdom  gb   \n",
       "1  100373856  10037385 2012-01-01  72.0   F           gb  United Kingdom  gb   \n",
       "2  100373856  10037385 2012-01-01  72.0   F           gb  United Kingdom  gb   \n",
       "3  100373856  10037385 2012-01-01  72.0   F           gb  United Kingdom  gb   \n",
       "4  100373856  10037385 2012-01-01  72.0   F           gb  United Kingdom  gb   \n",
       "\n",
       "                                            geometry  \\\n",
       "0  (POLYGON ((-4.864163851999933 54.6272180850000...   \n",
       "1  (POLYGON ((-4.864163851999933 54.6272180850000...   \n",
       "2  (POLYGON ((-4.864163851999933 54.6272180850000...   \n",
       "3  (POLYGON ((-4.864163851999933 54.6272180850000...   \n",
       "4  (POLYGON ((-4.864163851999933 54.6272180850000...   \n",
       "\n",
       "                                    coords           drugname      prod_ai  \\\n",
       "0  (-1.915954942123481, 54.31166365300004)  anastrazoleaccord  ANASTROZOLE   \n",
       "1  (-1.915954942123481, 54.31166365300004)  anastrazoleaccord  ANASTROZOLE   \n",
       "2  (-1.915954942123481, 54.31166365300004)  anastrazoleaccord  ANASTROZOLE   \n",
       "3  (-1.915954942123481, 54.31166365300004)  anastrazoleaccord  ANASTROZOLE   \n",
       "4  (-1.915954942123481, 54.31166365300004)  anastrazoleaccord  ANASTROZOLE   \n",
       "\n",
       "         indi_pt                 pt  \n",
       "0  Breast cancer     Abdominal mass  \n",
       "1  Breast cancer     Abdominal pain  \n",
       "2  Breast cancer    Abnormal faeces  \n",
       "3  Breast cancer           Alopecia  \n",
       "4  Breast cancer  Anal incontinence  "
      ]
     },
     "execution_count": 75,
     "metadata": {},
     "output_type": "execute_result"
    }
   ],
   "source": [
    "df_merged0b = pd.read_pickle(r\"D:\\Research\\FAERS_Public_Similarity\\Data\\temp_data\\df_merged0b.pkl\")\n",
    "\n",
    "df_merged0b['event_dt'] = df_merged0b['event_dt'].astype(str).replace('\\.0', '', regex=True)\n",
    "df_merged0b['event_dt'] = df_merged0b['event_dt'].astype(str)\n",
    "df_merged0b.fillna(0)\n",
    "df_merged0b.replace(np.nan, 0, inplace=True)\n",
    "\n",
    "df_merged0b['event_dt'] = pd.to_datetime(df_merged0b.event_dt, errors='coerce')\n",
    "#df_merged0b['event_dt1'] = df_merged0b['event_dt'].dt.strftime('%Y%m%d')\n",
    "df_merged0b.to_pickle(r\"D:\\Research\\FAERS_Public_Similarity\\Data\\temp_data\\df_merged0b.pkl\") \n",
    "\n",
    "df_merged0b.head()"
   ]
  },
  {
   "cell_type": "code",
   "execution_count": 76,
   "metadata": {
    "id": "b-axuQCF_9QA"
   },
   "outputs": [
    {
     "data": {
      "text/html": [
       "<div>\n",
       "<style scoped>\n",
       "    .dataframe tbody tr th:only-of-type {\n",
       "        vertical-align: middle;\n",
       "    }\n",
       "\n",
       "    .dataframe tbody tr th {\n",
       "        vertical-align: top;\n",
       "    }\n",
       "\n",
       "    .dataframe thead th {\n",
       "        text-align: right;\n",
       "    }\n",
       "</style>\n",
       "<table border=\"1\" class=\"dataframe\">\n",
       "  <thead>\n",
       "    <tr style=\"text-align: right;\">\n",
       "      <th></th>\n",
       "      <th>primaryid</th>\n",
       "      <th>caseid</th>\n",
       "      <th>event_dt</th>\n",
       "      <th>age</th>\n",
       "      <th>sex</th>\n",
       "      <th>occr_country</th>\n",
       "      <th>COUNTRY</th>\n",
       "      <th>ISO</th>\n",
       "      <th>geometry</th>\n",
       "      <th>coords</th>\n",
       "      <th>drugname</th>\n",
       "      <th>prod_ai</th>\n",
       "      <th>indi_pt</th>\n",
       "      <th>pt</th>\n",
       "    </tr>\n",
       "  </thead>\n",
       "  <tbody>\n",
       "    <tr>\n",
       "      <th>0</th>\n",
       "      <td>139882562</td>\n",
       "      <td>13988256</td>\n",
       "      <td>2017-01-23</td>\n",
       "      <td>0.0</td>\n",
       "      <td>0</td>\n",
       "      <td>gb</td>\n",
       "      <td>United Kingdom</td>\n",
       "      <td>gb</td>\n",
       "      <td>(POLYGON ((-4.864163851999933 54.6272180850000...</td>\n",
       "      <td>(-1.915954942123481, 54.31166365300004)</td>\n",
       "      <td>ibuprofen</td>\n",
       "      <td>IBUPROFEN</td>\n",
       "      <td>Pain</td>\n",
       "      <td>Drug interaction</td>\n",
       "    </tr>\n",
       "    <tr>\n",
       "      <th>1</th>\n",
       "      <td>139882562</td>\n",
       "      <td>13988256</td>\n",
       "      <td>2017-01-23</td>\n",
       "      <td>0.0</td>\n",
       "      <td>0</td>\n",
       "      <td>gb</td>\n",
       "      <td>United Kingdom</td>\n",
       "      <td>gb</td>\n",
       "      <td>(POLYGON ((-4.864163851999933 54.6272180850000...</td>\n",
       "      <td>(-1.915954942123481, 54.31166365300004)</td>\n",
       "      <td>ibuprofen</td>\n",
       "      <td>IBUPROFEN</td>\n",
       "      <td>Pain</td>\n",
       "      <td>Exposure during pregnancy</td>\n",
       "    </tr>\n",
       "    <tr>\n",
       "      <th>2</th>\n",
       "      <td>139882562</td>\n",
       "      <td>13988256</td>\n",
       "      <td>2017-01-23</td>\n",
       "      <td>0.0</td>\n",
       "      <td>0</td>\n",
       "      <td>gb</td>\n",
       "      <td>United Kingdom</td>\n",
       "      <td>gb</td>\n",
       "      <td>(POLYGON ((-4.864163851999933 54.6272180850000...</td>\n",
       "      <td>(-1.915954942123481, 54.31166365300004)</td>\n",
       "      <td>ibuprofen</td>\n",
       "      <td>IBUPROFEN</td>\n",
       "      <td>Pain</td>\n",
       "      <td>Foetal death</td>\n",
       "    </tr>\n",
       "    <tr>\n",
       "      <th>3</th>\n",
       "      <td>139882562</td>\n",
       "      <td>13988256</td>\n",
       "      <td>2017-01-23</td>\n",
       "      <td>0.0</td>\n",
       "      <td>0</td>\n",
       "      <td>gb</td>\n",
       "      <td>United Kingdom</td>\n",
       "      <td>gb</td>\n",
       "      <td>(POLYGON ((-4.864163851999933 54.6272180850000...</td>\n",
       "      <td>(-1.915954942123481, 54.31166365300004)</td>\n",
       "      <td>ibuprofen</td>\n",
       "      <td>IBUPROFEN</td>\n",
       "      <td>Rheumatoid arthritis</td>\n",
       "      <td>Drug interaction</td>\n",
       "    </tr>\n",
       "    <tr>\n",
       "      <th>4</th>\n",
       "      <td>139882562</td>\n",
       "      <td>13988256</td>\n",
       "      <td>2017-01-23</td>\n",
       "      <td>0.0</td>\n",
       "      <td>0</td>\n",
       "      <td>gb</td>\n",
       "      <td>United Kingdom</td>\n",
       "      <td>gb</td>\n",
       "      <td>(POLYGON ((-4.864163851999933 54.6272180850000...</td>\n",
       "      <td>(-1.915954942123481, 54.31166365300004)</td>\n",
       "      <td>ibuprofen</td>\n",
       "      <td>IBUPROFEN</td>\n",
       "      <td>Rheumatoid arthritis</td>\n",
       "      <td>Exposure during pregnancy</td>\n",
       "    </tr>\n",
       "  </tbody>\n",
       "</table>\n",
       "</div>"
      ],
      "text/plain": [
       "   primaryid    caseid   event_dt  age sex occr_country         COUNTRY ISO  \\\n",
       "0  139882562  13988256 2017-01-23  0.0   0           gb  United Kingdom  gb   \n",
       "1  139882562  13988256 2017-01-23  0.0   0           gb  United Kingdom  gb   \n",
       "2  139882562  13988256 2017-01-23  0.0   0           gb  United Kingdom  gb   \n",
       "3  139882562  13988256 2017-01-23  0.0   0           gb  United Kingdom  gb   \n",
       "4  139882562  13988256 2017-01-23  0.0   0           gb  United Kingdom  gb   \n",
       "\n",
       "                                            geometry  \\\n",
       "0  (POLYGON ((-4.864163851999933 54.6272180850000...   \n",
       "1  (POLYGON ((-4.864163851999933 54.6272180850000...   \n",
       "2  (POLYGON ((-4.864163851999933 54.6272180850000...   \n",
       "3  (POLYGON ((-4.864163851999933 54.6272180850000...   \n",
       "4  (POLYGON ((-4.864163851999933 54.6272180850000...   \n",
       "\n",
       "                                    coords   drugname    prod_ai  \\\n",
       "0  (-1.915954942123481, 54.31166365300004)  ibuprofen  IBUPROFEN   \n",
       "1  (-1.915954942123481, 54.31166365300004)  ibuprofen  IBUPROFEN   \n",
       "2  (-1.915954942123481, 54.31166365300004)  ibuprofen  IBUPROFEN   \n",
       "3  (-1.915954942123481, 54.31166365300004)  ibuprofen  IBUPROFEN   \n",
       "4  (-1.915954942123481, 54.31166365300004)  ibuprofen  IBUPROFEN   \n",
       "\n",
       "                indi_pt                         pt  \n",
       "0                  Pain           Drug interaction  \n",
       "1                  Pain  Exposure during pregnancy  \n",
       "2                  Pain               Foetal death  \n",
       "3  Rheumatoid arthritis           Drug interaction  \n",
       "4  Rheumatoid arthritis  Exposure during pregnancy  "
      ]
     },
     "execution_count": 76,
     "metadata": {},
     "output_type": "execute_result"
    }
   ],
   "source": [
    "df_merged0c = pd.read_pickle(r\"D:\\Research\\FAERS_Public_Similarity\\Data\\temp_data\\df_merged0c.pkl\")\n",
    "\n",
    "df_merged0c['event_dt'] = df_merged0c['event_dt'].astype(str).replace('\\.0', '', regex=True)\n",
    "df_merged0c['event_dt'] = df_merged0c['event_dt'].astype(str)\n",
    "df_merged0c.fillna(0)\n",
    "df_merged0c.replace(np.nan, 0, inplace=True)\n",
    "\n",
    "df_merged0c['event_dt'] = pd.to_datetime(df_merged0c.event_dt, errors='coerce')\n",
    "#df_merged0b['event_dt1'] = df_merged0b['event_dt'].dt.strftime('%Y%m%d')\n",
    "df_merged0c.to_pickle(r\"D:\\Research\\FAERS_Public_Similarity\\Data\\temp_data\\df_merged0c.pkl\") \n",
    "\n",
    "df_merged0c.head()\n"
   ]
  },
  {
   "cell_type": "code",
   "execution_count": 77,
   "metadata": {
    "id": "biPQjYktMdTj"
   },
   "outputs": [
    {
     "data": {
      "text/html": [
       "<div>\n",
       "<style scoped>\n",
       "    .dataframe tbody tr th:only-of-type {\n",
       "        vertical-align: middle;\n",
       "    }\n",
       "\n",
       "    .dataframe tbody tr th {\n",
       "        vertical-align: top;\n",
       "    }\n",
       "\n",
       "    .dataframe thead th {\n",
       "        text-align: right;\n",
       "    }\n",
       "</style>\n",
       "<table border=\"1\" class=\"dataframe\">\n",
       "  <thead>\n",
       "    <tr style=\"text-align: right;\">\n",
       "      <th></th>\n",
       "      <th>primaryid</th>\n",
       "      <th>caseid</th>\n",
       "      <th>event_dt</th>\n",
       "      <th>age</th>\n",
       "      <th>sex</th>\n",
       "      <th>occr_country</th>\n",
       "      <th>COUNTRY</th>\n",
       "      <th>ISO</th>\n",
       "      <th>geometry</th>\n",
       "      <th>coords</th>\n",
       "      <th>drugname</th>\n",
       "      <th>prod_ai</th>\n",
       "      <th>indi_pt</th>\n",
       "      <th>pt</th>\n",
       "    </tr>\n",
       "  </thead>\n",
       "  <tbody>\n",
       "    <tr>\n",
       "      <th>0</th>\n",
       "      <td>1001058224</td>\n",
       "      <td>10010582</td>\n",
       "      <td>2014-01-20</td>\n",
       "      <td>64.0</td>\n",
       "      <td>F</td>\n",
       "      <td>de</td>\n",
       "      <td>Germany</td>\n",
       "      <td>de</td>\n",
       "      <td>(POLYGON ((7.697218132000046 47.54332702700003...</td>\n",
       "      <td>(10.548046847781562, 51.152682168500036)</td>\n",
       "      <td>obinutuzumab</td>\n",
       "      <td>OBINUTUZUMAB</td>\n",
       "      <td>Chronic lymphocytic leukaemia</td>\n",
       "      <td>Pancytopenia</td>\n",
       "    </tr>\n",
       "    <tr>\n",
       "      <th>1</th>\n",
       "      <td>1001058224</td>\n",
       "      <td>10010582</td>\n",
       "      <td>2014-01-20</td>\n",
       "      <td>64.0</td>\n",
       "      <td>F</td>\n",
       "      <td>de</td>\n",
       "      <td>Germany</td>\n",
       "      <td>de</td>\n",
       "      <td>(POLYGON ((7.697218132000046 47.54332702700003...</td>\n",
       "      <td>(10.548046847781562, 51.152682168500036)</td>\n",
       "      <td>obinutuzumab</td>\n",
       "      <td>OBINUTUZUMAB</td>\n",
       "      <td>Chronic lymphocytic leukaemia</td>\n",
       "      <td>Sepsis</td>\n",
       "    </tr>\n",
       "    <tr>\n",
       "      <th>2</th>\n",
       "      <td>1001058224</td>\n",
       "      <td>10010582</td>\n",
       "      <td>2014-01-20</td>\n",
       "      <td>64.0</td>\n",
       "      <td>F</td>\n",
       "      <td>de</td>\n",
       "      <td>Germany</td>\n",
       "      <td>de</td>\n",
       "      <td>(POLYGON ((7.697218132000046 47.54332702700003...</td>\n",
       "      <td>(10.548046847781562, 51.152682168500036)</td>\n",
       "      <td>obinutuzumab</td>\n",
       "      <td>OBINUTUZUMAB</td>\n",
       "      <td>Chronic lymphocytic leukaemia</td>\n",
       "      <td>Pancytopenia</td>\n",
       "    </tr>\n",
       "    <tr>\n",
       "      <th>3</th>\n",
       "      <td>1001058224</td>\n",
       "      <td>10010582</td>\n",
       "      <td>2014-01-20</td>\n",
       "      <td>64.0</td>\n",
       "      <td>F</td>\n",
       "      <td>de</td>\n",
       "      <td>Germany</td>\n",
       "      <td>de</td>\n",
       "      <td>(POLYGON ((7.697218132000046 47.54332702700003...</td>\n",
       "      <td>(10.548046847781562, 51.152682168500036)</td>\n",
       "      <td>obinutuzumab</td>\n",
       "      <td>OBINUTUZUMAB</td>\n",
       "      <td>Chronic lymphocytic leukaemia</td>\n",
       "      <td>Sepsis</td>\n",
       "    </tr>\n",
       "    <tr>\n",
       "      <th>4</th>\n",
       "      <td>1001058224</td>\n",
       "      <td>10010582</td>\n",
       "      <td>2014-01-20</td>\n",
       "      <td>64.0</td>\n",
       "      <td>F</td>\n",
       "      <td>de</td>\n",
       "      <td>Germany</td>\n",
       "      <td>de</td>\n",
       "      <td>(POLYGON ((7.697218132000046 47.54332702700003...</td>\n",
       "      <td>(10.548046847781562, 51.152682168500036)</td>\n",
       "      <td>obinutuzumab</td>\n",
       "      <td>OBINUTUZUMAB</td>\n",
       "      <td>Prophylaxis</td>\n",
       "      <td>Pancytopenia</td>\n",
       "    </tr>\n",
       "  </tbody>\n",
       "</table>\n",
       "</div>"
      ],
      "text/plain": [
       "    primaryid    caseid   event_dt   age sex occr_country  COUNTRY ISO  \\\n",
       "0  1001058224  10010582 2014-01-20  64.0   F           de  Germany  de   \n",
       "1  1001058224  10010582 2014-01-20  64.0   F           de  Germany  de   \n",
       "2  1001058224  10010582 2014-01-20  64.0   F           de  Germany  de   \n",
       "3  1001058224  10010582 2014-01-20  64.0   F           de  Germany  de   \n",
       "4  1001058224  10010582 2014-01-20  64.0   F           de  Germany  de   \n",
       "\n",
       "                                            geometry  \\\n",
       "0  (POLYGON ((7.697218132000046 47.54332702700003...   \n",
       "1  (POLYGON ((7.697218132000046 47.54332702700003...   \n",
       "2  (POLYGON ((7.697218132000046 47.54332702700003...   \n",
       "3  (POLYGON ((7.697218132000046 47.54332702700003...   \n",
       "4  (POLYGON ((7.697218132000046 47.54332702700003...   \n",
       "\n",
       "                                     coords      drugname       prod_ai  \\\n",
       "0  (10.548046847781562, 51.152682168500036)  obinutuzumab  OBINUTUZUMAB   \n",
       "1  (10.548046847781562, 51.152682168500036)  obinutuzumab  OBINUTUZUMAB   \n",
       "2  (10.548046847781562, 51.152682168500036)  obinutuzumab  OBINUTUZUMAB   \n",
       "3  (10.548046847781562, 51.152682168500036)  obinutuzumab  OBINUTUZUMAB   \n",
       "4  (10.548046847781562, 51.152682168500036)  obinutuzumab  OBINUTUZUMAB   \n",
       "\n",
       "                         indi_pt            pt  \n",
       "0  Chronic lymphocytic leukaemia  Pancytopenia  \n",
       "1  Chronic lymphocytic leukaemia        Sepsis  \n",
       "2  Chronic lymphocytic leukaemia  Pancytopenia  \n",
       "3  Chronic lymphocytic leukaemia        Sepsis  \n",
       "4                    Prophylaxis  Pancytopenia  "
      ]
     },
     "execution_count": 77,
     "metadata": {},
     "output_type": "execute_result"
    }
   ],
   "source": [
    "df_merged1a = pd.read_pickle(r\"D:\\Research\\FAERS_Public_Similarity\\Data\\temp_data\\df_merged1a.pkl\")\n",
    "\n",
    "df_merged1a['event_dt'] = df_merged1a['event_dt'].astype(str).replace('\\.0', '', regex=True)\n",
    "df_merged1a['event_dt'] = df_merged1a['event_dt'].astype(str)\n",
    "df_merged1a.fillna(0)\n",
    "df_merged1a.replace(np.nan, 0, inplace=True)\n",
    "\n",
    "df_merged1a['event_dt'] = pd.to_datetime(df_merged1a.event_dt, errors='coerce')\n",
    "#df_merged0b['event_dt1'] = df_merged0b['event_dt'].dt.strftime('%Y%m%d')\n",
    "df_merged1a.to_pickle(r\"D:\\Research\\FAERS_Public_Similarity\\Data\\temp_data\\df_merged1a.pkl\") \n",
    "\n",
    "df_merged1a.head()"
   ]
  },
  {
   "cell_type": "code",
   "execution_count": 78,
   "metadata": {
    "id": "XRAfMMWYUr46"
   },
   "outputs": [
    {
     "data": {
      "text/html": [
       "<div>\n",
       "<style scoped>\n",
       "    .dataframe tbody tr th:only-of-type {\n",
       "        vertical-align: middle;\n",
       "    }\n",
       "\n",
       "    .dataframe tbody tr th {\n",
       "        vertical-align: top;\n",
       "    }\n",
       "\n",
       "    .dataframe thead th {\n",
       "        text-align: right;\n",
       "    }\n",
       "</style>\n",
       "<table border=\"1\" class=\"dataframe\">\n",
       "  <thead>\n",
       "    <tr style=\"text-align: right;\">\n",
       "      <th></th>\n",
       "      <th>primaryid</th>\n",
       "      <th>caseid</th>\n",
       "      <th>event_dt</th>\n",
       "      <th>age</th>\n",
       "      <th>sex</th>\n",
       "      <th>occr_country</th>\n",
       "      <th>COUNTRY</th>\n",
       "      <th>ISO</th>\n",
       "      <th>geometry</th>\n",
       "      <th>coords</th>\n",
       "      <th>drugname</th>\n",
       "      <th>prod_ai</th>\n",
       "      <th>indi_pt</th>\n",
       "      <th>pt</th>\n",
       "    </tr>\n",
       "  </thead>\n",
       "  <tbody>\n",
       "    <tr>\n",
       "      <th>0</th>\n",
       "      <td>100083982</td>\n",
       "      <td>10008398</td>\n",
       "      <td>NaT</td>\n",
       "      <td>75.0</td>\n",
       "      <td>M</td>\n",
       "      <td>gb</td>\n",
       "      <td>United Kingdom</td>\n",
       "      <td>gb</td>\n",
       "      <td>(POLYGON ((-4.864163851999933 54.6272180850000...</td>\n",
       "      <td>(-1.915954942123481, 54.31166365300004)</td>\n",
       "      <td>prednisolone</td>\n",
       "      <td>PREDNISOLONE</td>\n",
       "      <td>Product used for unknown indication</td>\n",
       "      <td>Death</td>\n",
       "    </tr>\n",
       "    <tr>\n",
       "      <th>1</th>\n",
       "      <td>100083982</td>\n",
       "      <td>10008398</td>\n",
       "      <td>NaT</td>\n",
       "      <td>75.0</td>\n",
       "      <td>M</td>\n",
       "      <td>gb</td>\n",
       "      <td>United Kingdom</td>\n",
       "      <td>gb</td>\n",
       "      <td>(POLYGON ((-4.864163851999933 54.6272180850000...</td>\n",
       "      <td>(-1.915954942123481, 54.31166365300004)</td>\n",
       "      <td>prednisolone</td>\n",
       "      <td>PREDNISOLONE</td>\n",
       "      <td>Product used for unknown indication</td>\n",
       "      <td>Dyspnoea</td>\n",
       "    </tr>\n",
       "    <tr>\n",
       "      <th>2</th>\n",
       "      <td>100083982</td>\n",
       "      <td>10008398</td>\n",
       "      <td>NaT</td>\n",
       "      <td>75.0</td>\n",
       "      <td>M</td>\n",
       "      <td>gb</td>\n",
       "      <td>United Kingdom</td>\n",
       "      <td>gb</td>\n",
       "      <td>(POLYGON ((-4.864163851999933 54.6272180850000...</td>\n",
       "      <td>(-1.915954942123481, 54.31166365300004)</td>\n",
       "      <td>prednisolone</td>\n",
       "      <td>PREDNISOLONE</td>\n",
       "      <td>Product used for unknown indication</td>\n",
       "      <td>Hypopnoea</td>\n",
       "    </tr>\n",
       "    <tr>\n",
       "      <th>3</th>\n",
       "      <td>100083982</td>\n",
       "      <td>10008398</td>\n",
       "      <td>NaT</td>\n",
       "      <td>75.0</td>\n",
       "      <td>M</td>\n",
       "      <td>gb</td>\n",
       "      <td>United Kingdom</td>\n",
       "      <td>gb</td>\n",
       "      <td>(POLYGON ((-4.864163851999933 54.6272180850000...</td>\n",
       "      <td>(-1.915954942123481, 54.31166365300004)</td>\n",
       "      <td>prednisolone</td>\n",
       "      <td>PREDNISOLONE</td>\n",
       "      <td>Product used for unknown indication</td>\n",
       "      <td>Malaise</td>\n",
       "    </tr>\n",
       "    <tr>\n",
       "      <th>4</th>\n",
       "      <td>100083982</td>\n",
       "      <td>10008398</td>\n",
       "      <td>NaT</td>\n",
       "      <td>75.0</td>\n",
       "      <td>M</td>\n",
       "      <td>gb</td>\n",
       "      <td>United Kingdom</td>\n",
       "      <td>gb</td>\n",
       "      <td>(POLYGON ((-4.864163851999933 54.6272180850000...</td>\n",
       "      <td>(-1.915954942123481, 54.31166365300004)</td>\n",
       "      <td>prednisolone</td>\n",
       "      <td>PREDNISOLONE</td>\n",
       "      <td>Product used for unknown indication</td>\n",
       "      <td>Death</td>\n",
       "    </tr>\n",
       "  </tbody>\n",
       "</table>\n",
       "</div>"
      ],
      "text/plain": [
       "   primaryid    caseid event_dt   age sex occr_country         COUNTRY ISO  \\\n",
       "0  100083982  10008398      NaT  75.0   M           gb  United Kingdom  gb   \n",
       "1  100083982  10008398      NaT  75.0   M           gb  United Kingdom  gb   \n",
       "2  100083982  10008398      NaT  75.0   M           gb  United Kingdom  gb   \n",
       "3  100083982  10008398      NaT  75.0   M           gb  United Kingdom  gb   \n",
       "4  100083982  10008398      NaT  75.0   M           gb  United Kingdom  gb   \n",
       "\n",
       "                                            geometry  \\\n",
       "0  (POLYGON ((-4.864163851999933 54.6272180850000...   \n",
       "1  (POLYGON ((-4.864163851999933 54.6272180850000...   \n",
       "2  (POLYGON ((-4.864163851999933 54.6272180850000...   \n",
       "3  (POLYGON ((-4.864163851999933 54.6272180850000...   \n",
       "4  (POLYGON ((-4.864163851999933 54.6272180850000...   \n",
       "\n",
       "                                    coords      drugname       prod_ai  \\\n",
       "0  (-1.915954942123481, 54.31166365300004)  prednisolone  PREDNISOLONE   \n",
       "1  (-1.915954942123481, 54.31166365300004)  prednisolone  PREDNISOLONE   \n",
       "2  (-1.915954942123481, 54.31166365300004)  prednisolone  PREDNISOLONE   \n",
       "3  (-1.915954942123481, 54.31166365300004)  prednisolone  PREDNISOLONE   \n",
       "4  (-1.915954942123481, 54.31166365300004)  prednisolone  PREDNISOLONE   \n",
       "\n",
       "                               indi_pt         pt  \n",
       "0  Product used for unknown indication      Death  \n",
       "1  Product used for unknown indication   Dyspnoea  \n",
       "2  Product used for unknown indication  Hypopnoea  \n",
       "3  Product used for unknown indication    Malaise  \n",
       "4  Product used for unknown indication      Death  "
      ]
     },
     "execution_count": 78,
     "metadata": {},
     "output_type": "execute_result"
    }
   ],
   "source": [
    "df_merged1b = pd.read_pickle(r\"D:\\Research\\FAERS_Public_Similarity\\Data\\temp_data\\df_merged1b.pkl\")\n",
    "\n",
    "df_merged1b['event_dt'] = df_merged1b['event_dt'].astype(str).replace('\\.0', '', regex=True)\n",
    "df_merged1b['event_dt'] = df_merged1b['event_dt'].astype(str)\n",
    "df_merged1b.fillna(0)\n",
    "df_merged1b.replace(np.nan, 0, inplace=True)\n",
    "\n",
    "df_merged1b['event_dt'] = pd.to_datetime(df_merged1b.event_dt, errors='coerce')\n",
    "#df_merged0b['event_dt1'] = df_merged0b['event_dt'].dt.strftime('%Y%m%d')\n",
    "df_merged1b.to_pickle(r\"D:\\Research\\FAERS_Public_Similarity\\Data\\temp_data\\df_merged1b.pkl\") \n",
    "\n",
    "df_merged1b.head()"
   ]
  },
  {
   "cell_type": "code",
   "execution_count": 79,
   "metadata": {
    "id": "eQ9ALEoDU6RS"
   },
   "outputs": [
    {
     "data": {
      "text/html": [
       "<div>\n",
       "<style scoped>\n",
       "    .dataframe tbody tr th:only-of-type {\n",
       "        vertical-align: middle;\n",
       "    }\n",
       "\n",
       "    .dataframe tbody tr th {\n",
       "        vertical-align: top;\n",
       "    }\n",
       "\n",
       "    .dataframe thead th {\n",
       "        text-align: right;\n",
       "    }\n",
       "</style>\n",
       "<table border=\"1\" class=\"dataframe\">\n",
       "  <thead>\n",
       "    <tr style=\"text-align: right;\">\n",
       "      <th></th>\n",
       "      <th>primaryid</th>\n",
       "      <th>caseid</th>\n",
       "      <th>event_dt</th>\n",
       "      <th>age</th>\n",
       "      <th>sex</th>\n",
       "      <th>occr_country</th>\n",
       "      <th>COUNTRY</th>\n",
       "      <th>ISO</th>\n",
       "      <th>geometry</th>\n",
       "      <th>coords</th>\n",
       "      <th>drugname</th>\n",
       "      <th>prod_ai</th>\n",
       "      <th>indi_pt</th>\n",
       "      <th>pt</th>\n",
       "    </tr>\n",
       "  </thead>\n",
       "  <tbody>\n",
       "    <tr>\n",
       "      <th>0</th>\n",
       "      <td>100041203</td>\n",
       "      <td>10004120</td>\n",
       "      <td>2014-01-17</td>\n",
       "      <td>61.0</td>\n",
       "      <td>M</td>\n",
       "      <td>pl</td>\n",
       "      <td>Poland</td>\n",
       "      <td>pl</td>\n",
       "      <td>POLYGON ((22.68606332100006 49.57709106500005,...</td>\n",
       "      <td>(19.163637144874677, 51.92953154150007)</td>\n",
       "      <td>amn107</td>\n",
       "      <td>NILOTINIB</td>\n",
       "      <td>Chronic myeloid leukaemia</td>\n",
       "      <td>Acute myocardial infarction</td>\n",
       "    </tr>\n",
       "    <tr>\n",
       "      <th>1</th>\n",
       "      <td>100041203</td>\n",
       "      <td>10004120</td>\n",
       "      <td>2014-01-17</td>\n",
       "      <td>61.0</td>\n",
       "      <td>M</td>\n",
       "      <td>pl</td>\n",
       "      <td>Poland</td>\n",
       "      <td>pl</td>\n",
       "      <td>POLYGON ((22.68606332100006 49.57709106500005,...</td>\n",
       "      <td>(19.163637144874677, 51.92953154150007)</td>\n",
       "      <td>amn107</td>\n",
       "      <td>NILOTINIB</td>\n",
       "      <td>Prophylaxis</td>\n",
       "      <td>Acute myocardial infarction</td>\n",
       "    </tr>\n",
       "    <tr>\n",
       "      <th>2</th>\n",
       "      <td>100041203</td>\n",
       "      <td>10004120</td>\n",
       "      <td>2014-01-17</td>\n",
       "      <td>61.0</td>\n",
       "      <td>M</td>\n",
       "      <td>pl</td>\n",
       "      <td>Poland</td>\n",
       "      <td>pl</td>\n",
       "      <td>POLYGON ((22.68606332100006 49.57709106500005,...</td>\n",
       "      <td>(19.163637144874677, 51.92953154150007)</td>\n",
       "      <td>amn107</td>\n",
       "      <td>NILOTINIB</td>\n",
       "      <td>Prophylaxis</td>\n",
       "      <td>Acute myocardial infarction</td>\n",
       "    </tr>\n",
       "    <tr>\n",
       "      <th>3</th>\n",
       "      <td>100041203</td>\n",
       "      <td>10004120</td>\n",
       "      <td>2014-01-17</td>\n",
       "      <td>61.0</td>\n",
       "      <td>M</td>\n",
       "      <td>pl</td>\n",
       "      <td>Poland</td>\n",
       "      <td>pl</td>\n",
       "      <td>POLYGON ((22.68606332100006 49.57709106500005,...</td>\n",
       "      <td>(19.163637144874677, 51.92953154150007)</td>\n",
       "      <td>amn107</td>\n",
       "      <td>NILOTINIB</td>\n",
       "      <td>Hypertension</td>\n",
       "      <td>Acute myocardial infarction</td>\n",
       "    </tr>\n",
       "    <tr>\n",
       "      <th>4</th>\n",
       "      <td>100041203</td>\n",
       "      <td>10004120</td>\n",
       "      <td>2014-01-17</td>\n",
       "      <td>61.0</td>\n",
       "      <td>M</td>\n",
       "      <td>pl</td>\n",
       "      <td>Poland</td>\n",
       "      <td>pl</td>\n",
       "      <td>POLYGON ((22.68606332100006 49.57709106500005,...</td>\n",
       "      <td>(19.163637144874677, 51.92953154150007)</td>\n",
       "      <td>amn107</td>\n",
       "      <td>NILOTINIB</td>\n",
       "      <td>Hypertension</td>\n",
       "      <td>Acute myocardial infarction</td>\n",
       "    </tr>\n",
       "  </tbody>\n",
       "</table>\n",
       "</div>"
      ],
      "text/plain": [
       "   primaryid    caseid   event_dt   age sex occr_country COUNTRY ISO  \\\n",
       "0  100041203  10004120 2014-01-17  61.0   M           pl  Poland  pl   \n",
       "1  100041203  10004120 2014-01-17  61.0   M           pl  Poland  pl   \n",
       "2  100041203  10004120 2014-01-17  61.0   M           pl  Poland  pl   \n",
       "3  100041203  10004120 2014-01-17  61.0   M           pl  Poland  pl   \n",
       "4  100041203  10004120 2014-01-17  61.0   M           pl  Poland  pl   \n",
       "\n",
       "                                            geometry  \\\n",
       "0  POLYGON ((22.68606332100006 49.57709106500005,...   \n",
       "1  POLYGON ((22.68606332100006 49.57709106500005,...   \n",
       "2  POLYGON ((22.68606332100006 49.57709106500005,...   \n",
       "3  POLYGON ((22.68606332100006 49.57709106500005,...   \n",
       "4  POLYGON ((22.68606332100006 49.57709106500005,...   \n",
       "\n",
       "                                    coords drugname    prod_ai  \\\n",
       "0  (19.163637144874677, 51.92953154150007)   amn107  NILOTINIB   \n",
       "1  (19.163637144874677, 51.92953154150007)   amn107  NILOTINIB   \n",
       "2  (19.163637144874677, 51.92953154150007)   amn107  NILOTINIB   \n",
       "3  (19.163637144874677, 51.92953154150007)   amn107  NILOTINIB   \n",
       "4  (19.163637144874677, 51.92953154150007)   amn107  NILOTINIB   \n",
       "\n",
       "                     indi_pt                           pt  \n",
       "0  Chronic myeloid leukaemia  Acute myocardial infarction  \n",
       "1                Prophylaxis  Acute myocardial infarction  \n",
       "2                Prophylaxis  Acute myocardial infarction  \n",
       "3               Hypertension  Acute myocardial infarction  \n",
       "4               Hypertension  Acute myocardial infarction  "
      ]
     },
     "execution_count": 79,
     "metadata": {},
     "output_type": "execute_result"
    }
   ],
   "source": [
    "df_merged1c = pd.read_pickle(r\"D:\\Research\\FAERS_Public_Similarity\\Data\\temp_data\\df_merged1c.pkl\")\n",
    "\n",
    "df_merged1c['event_dt'] = df_merged1c['event_dt'].astype(str).replace('\\.0', '', regex=True)\n",
    "df_merged1c['event_dt'] = df_merged1c['event_dt'].astype(str)\n",
    "df_merged1c.fillna(0)\n",
    "df_merged1c.replace(np.nan, 0, inplace=True)\n",
    "\n",
    "df_merged1c['event_dt'] = pd.to_datetime(df_merged1c.event_dt, errors='coerce')\n",
    "#df_merged1c['event_dt1'] = df_merged0b['event_dt'].dt.strftime('%Y%m%d')\n",
    "df_merged1c.to_pickle(r\"D:\\Research\\FAERS_Public_Similarity\\Data\\temp_data\\df_merged1c.pkl\") \n",
    "\n",
    "df_merged1c.head()"
   ]
  },
  {
   "cell_type": "code",
   "execution_count": 80,
   "metadata": {
    "id": "7DjSr4FVMdTj"
   },
   "outputs": [
    {
     "data": {
      "text/html": [
       "<div>\n",
       "<style scoped>\n",
       "    .dataframe tbody tr th:only-of-type {\n",
       "        vertical-align: middle;\n",
       "    }\n",
       "\n",
       "    .dataframe tbody tr th {\n",
       "        vertical-align: top;\n",
       "    }\n",
       "\n",
       "    .dataframe thead th {\n",
       "        text-align: right;\n",
       "    }\n",
       "</style>\n",
       "<table border=\"1\" class=\"dataframe\">\n",
       "  <thead>\n",
       "    <tr style=\"text-align: right;\">\n",
       "      <th></th>\n",
       "      <th>primaryid</th>\n",
       "      <th>caseid</th>\n",
       "      <th>event_dt</th>\n",
       "      <th>age</th>\n",
       "      <th>sex</th>\n",
       "      <th>occr_country</th>\n",
       "      <th>COUNTRY</th>\n",
       "      <th>ISO</th>\n",
       "      <th>geometry</th>\n",
       "      <th>coords</th>\n",
       "      <th>drugname</th>\n",
       "      <th>dose_freq</th>\n",
       "      <th>indi_pt</th>\n",
       "      <th>pt</th>\n",
       "    </tr>\n",
       "  </thead>\n",
       "  <tbody>\n",
       "    <tr>\n",
       "      <th>0</th>\n",
       "      <td>100033281</td>\n",
       "      <td>10003328</td>\n",
       "      <td>NaT</td>\n",
       "      <td>55.0</td>\n",
       "      <td>F</td>\n",
       "      <td>es</td>\n",
       "      <td>Spain</td>\n",
       "      <td>es</td>\n",
       "      <td>(POLYGON ((-2.914717737999979 35.2736091230000...</td>\n",
       "      <td>(-3.4951066553703187, 39.87235908850005)</td>\n",
       "      <td>paclitaxel</td>\n",
       "      <td>0</td>\n",
       "      <td>Metastases to breast</td>\n",
       "      <td>Arthralgia</td>\n",
       "    </tr>\n",
       "    <tr>\n",
       "      <th>1</th>\n",
       "      <td>100033281</td>\n",
       "      <td>10003328</td>\n",
       "      <td>NaT</td>\n",
       "      <td>55.0</td>\n",
       "      <td>F</td>\n",
       "      <td>es</td>\n",
       "      <td>Spain</td>\n",
       "      <td>es</td>\n",
       "      <td>(POLYGON ((-2.914717737999979 35.2736091230000...</td>\n",
       "      <td>(-3.4951066553703187, 39.87235908850005)</td>\n",
       "      <td>paclitaxel</td>\n",
       "      <td>0</td>\n",
       "      <td>Metastases to breast</td>\n",
       "      <td>Asthenia</td>\n",
       "    </tr>\n",
       "    <tr>\n",
       "      <th>2</th>\n",
       "      <td>100033281</td>\n",
       "      <td>10003328</td>\n",
       "      <td>NaT</td>\n",
       "      <td>55.0</td>\n",
       "      <td>F</td>\n",
       "      <td>es</td>\n",
       "      <td>Spain</td>\n",
       "      <td>es</td>\n",
       "      <td>(POLYGON ((-2.914717737999979 35.2736091230000...</td>\n",
       "      <td>(-3.4951066553703187, 39.87235908850005)</td>\n",
       "      <td>paclitaxel</td>\n",
       "      <td>0</td>\n",
       "      <td>Metastases to breast</td>\n",
       "      <td>Diarrhoea</td>\n",
       "    </tr>\n",
       "    <tr>\n",
       "      <th>3</th>\n",
       "      <td>100033281</td>\n",
       "      <td>10003328</td>\n",
       "      <td>NaT</td>\n",
       "      <td>55.0</td>\n",
       "      <td>F</td>\n",
       "      <td>es</td>\n",
       "      <td>Spain</td>\n",
       "      <td>es</td>\n",
       "      <td>(POLYGON ((-2.914717737999979 35.2736091230000...</td>\n",
       "      <td>(-3.4951066553703187, 39.87235908850005)</td>\n",
       "      <td>paclitaxel</td>\n",
       "      <td>0</td>\n",
       "      <td>Metastases to breast</td>\n",
       "      <td>Myalgia</td>\n",
       "    </tr>\n",
       "    <tr>\n",
       "      <th>4</th>\n",
       "      <td>100033281</td>\n",
       "      <td>10003328</td>\n",
       "      <td>NaT</td>\n",
       "      <td>55.0</td>\n",
       "      <td>F</td>\n",
       "      <td>es</td>\n",
       "      <td>Spain</td>\n",
       "      <td>es</td>\n",
       "      <td>(POLYGON ((-2.914717737999979 35.2736091230000...</td>\n",
       "      <td>(-3.4951066553703187, 39.87235908850005)</td>\n",
       "      <td>paclitaxel</td>\n",
       "      <td>0</td>\n",
       "      <td>Metastases to breast</td>\n",
       "      <td>Nail toxicity</td>\n",
       "    </tr>\n",
       "  </tbody>\n",
       "</table>\n",
       "</div>"
      ],
      "text/plain": [
       "   primaryid    caseid event_dt   age sex occr_country COUNTRY ISO  \\\n",
       "0  100033281  10003328      NaT  55.0   F           es   Spain  es   \n",
       "1  100033281  10003328      NaT  55.0   F           es   Spain  es   \n",
       "2  100033281  10003328      NaT  55.0   F           es   Spain  es   \n",
       "3  100033281  10003328      NaT  55.0   F           es   Spain  es   \n",
       "4  100033281  10003328      NaT  55.0   F           es   Spain  es   \n",
       "\n",
       "                                            geometry  \\\n",
       "0  (POLYGON ((-2.914717737999979 35.2736091230000...   \n",
       "1  (POLYGON ((-2.914717737999979 35.2736091230000...   \n",
       "2  (POLYGON ((-2.914717737999979 35.2736091230000...   \n",
       "3  (POLYGON ((-2.914717737999979 35.2736091230000...   \n",
       "4  (POLYGON ((-2.914717737999979 35.2736091230000...   \n",
       "\n",
       "                                     coords    drugname dose_freq  \\\n",
       "0  (-3.4951066553703187, 39.87235908850005)  paclitaxel         0   \n",
       "1  (-3.4951066553703187, 39.87235908850005)  paclitaxel         0   \n",
       "2  (-3.4951066553703187, 39.87235908850005)  paclitaxel         0   \n",
       "3  (-3.4951066553703187, 39.87235908850005)  paclitaxel         0   \n",
       "4  (-3.4951066553703187, 39.87235908850005)  paclitaxel         0   \n",
       "\n",
       "                indi_pt             pt  \n",
       "0  Metastases to breast     Arthralgia  \n",
       "1  Metastases to breast       Asthenia  \n",
       "2  Metastases to breast      Diarrhoea  \n",
       "3  Metastases to breast        Myalgia  \n",
       "4  Metastases to breast  Nail toxicity  "
      ]
     },
     "execution_count": 80,
     "metadata": {},
     "output_type": "execute_result"
    }
   ],
   "source": [
    "df_merged2a = pd.read_pickle(r\"D:\\Research\\FAERS_Public_Similarity\\Data\\temp_data\\df_merged2a.pkl\")\n",
    "\n",
    "df_merged2a['event_dt'] = df_merged2a['event_dt'].astype(str).replace('\\.0', '', regex=True)\n",
    "df_merged2a['event_dt'] = df_merged2a['event_dt'].astype(str)\n",
    "df_merged2a.fillna(0)\n",
    "df_merged2a.replace(np.nan, 0, inplace=True)\n",
    "\n",
    "df_merged2a['event_dt'] = pd.to_datetime(df_merged2a.event_dt, errors='coerce')\n",
    "#df_merged0b['event_dt1'] = df_merged0b['event_dt'].dt.strftime('%Y%m%d')\n",
    "df_merged2a.to_pickle(r\"D:\\Research\\FAERS_Public_Similarity\\Data\\temp_data\\df_merged2a.pkl\") \n",
    "\n",
    "df_merged2a.head()"
   ]
  },
  {
   "cell_type": "code",
   "execution_count": 81,
   "metadata": {},
   "outputs": [
    {
     "data": {
      "text/html": [
       "<div>\n",
       "<style scoped>\n",
       "    .dataframe tbody tr th:only-of-type {\n",
       "        vertical-align: middle;\n",
       "    }\n",
       "\n",
       "    .dataframe tbody tr th {\n",
       "        vertical-align: top;\n",
       "    }\n",
       "\n",
       "    .dataframe thead th {\n",
       "        text-align: right;\n",
       "    }\n",
       "</style>\n",
       "<table border=\"1\" class=\"dataframe\">\n",
       "  <thead>\n",
       "    <tr style=\"text-align: right;\">\n",
       "      <th></th>\n",
       "      <th>primaryid</th>\n",
       "      <th>caseid</th>\n",
       "      <th>event_dt</th>\n",
       "      <th>age</th>\n",
       "      <th>sex</th>\n",
       "      <th>occr_country</th>\n",
       "      <th>COUNTRY</th>\n",
       "      <th>ISO</th>\n",
       "      <th>geometry</th>\n",
       "      <th>coords</th>\n",
       "      <th>drugname</th>\n",
       "      <th>dose_freq</th>\n",
       "      <th>indi_pt</th>\n",
       "      <th>pt</th>\n",
       "    </tr>\n",
       "  </thead>\n",
       "  <tbody>\n",
       "    <tr>\n",
       "      <th>0</th>\n",
       "      <td>37108102</td>\n",
       "      <td>3710810</td>\n",
       "      <td>2001-08-10</td>\n",
       "      <td>48</td>\n",
       "      <td>F</td>\n",
       "      <td>gr</td>\n",
       "      <td>Greece</td>\n",
       "      <td>gr</td>\n",
       "      <td>(POLYGON ((21.08304512100005 39.05666412000005...</td>\n",
       "      <td>(21.959090090221128, 39.06305398000006)</td>\n",
       "      <td>hovalin</td>\n",
       "      <td>0</td>\n",
       "      <td>Hypercholesterolaemia</td>\n",
       "      <td>Arthralgia</td>\n",
       "    </tr>\n",
       "    <tr>\n",
       "      <th>1</th>\n",
       "      <td>37108102</td>\n",
       "      <td>3710810</td>\n",
       "      <td>2001-08-10</td>\n",
       "      <td>48</td>\n",
       "      <td>F</td>\n",
       "      <td>gr</td>\n",
       "      <td>Greece</td>\n",
       "      <td>gr</td>\n",
       "      <td>(POLYGON ((21.08304512100005 39.05666412000005...</td>\n",
       "      <td>(21.959090090221128, 39.06305398000006)</td>\n",
       "      <td>hovalin</td>\n",
       "      <td>0</td>\n",
       "      <td>Hypercholesterolaemia</td>\n",
       "      <td>Disturbance in attention</td>\n",
       "    </tr>\n",
       "    <tr>\n",
       "      <th>2</th>\n",
       "      <td>37108102</td>\n",
       "      <td>3710810</td>\n",
       "      <td>2001-08-10</td>\n",
       "      <td>48</td>\n",
       "      <td>F</td>\n",
       "      <td>gr</td>\n",
       "      <td>Greece</td>\n",
       "      <td>gr</td>\n",
       "      <td>(POLYGON ((21.08304512100005 39.05666412000005...</td>\n",
       "      <td>(21.959090090221128, 39.06305398000006)</td>\n",
       "      <td>hovalin</td>\n",
       "      <td>0</td>\n",
       "      <td>Hypercholesterolaemia</td>\n",
       "      <td>Dizziness</td>\n",
       "    </tr>\n",
       "    <tr>\n",
       "      <th>3</th>\n",
       "      <td>37108102</td>\n",
       "      <td>3710810</td>\n",
       "      <td>2001-08-10</td>\n",
       "      <td>48</td>\n",
       "      <td>F</td>\n",
       "      <td>gr</td>\n",
       "      <td>Greece</td>\n",
       "      <td>gr</td>\n",
       "      <td>(POLYGON ((21.08304512100005 39.05666412000005...</td>\n",
       "      <td>(21.959090090221128, 39.06305398000006)</td>\n",
       "      <td>hovalin</td>\n",
       "      <td>0</td>\n",
       "      <td>Hypercholesterolaemia</td>\n",
       "      <td>Hepatic function abnormal</td>\n",
       "    </tr>\n",
       "    <tr>\n",
       "      <th>4</th>\n",
       "      <td>37108102</td>\n",
       "      <td>3710810</td>\n",
       "      <td>2001-08-10</td>\n",
       "      <td>48</td>\n",
       "      <td>F</td>\n",
       "      <td>gr</td>\n",
       "      <td>Greece</td>\n",
       "      <td>gr</td>\n",
       "      <td>(POLYGON ((21.08304512100005 39.05666412000005...</td>\n",
       "      <td>(21.959090090221128, 39.06305398000006)</td>\n",
       "      <td>hovalin</td>\n",
       "      <td>0</td>\n",
       "      <td>Hypercholesterolaemia</td>\n",
       "      <td>Muscle spasms</td>\n",
       "    </tr>\n",
       "  </tbody>\n",
       "</table>\n",
       "</div>"
      ],
      "text/plain": [
       "   primaryid   caseid   event_dt age sex occr_country COUNTRY ISO  \\\n",
       "0   37108102  3710810 2001-08-10  48   F           gr  Greece  gr   \n",
       "1   37108102  3710810 2001-08-10  48   F           gr  Greece  gr   \n",
       "2   37108102  3710810 2001-08-10  48   F           gr  Greece  gr   \n",
       "3   37108102  3710810 2001-08-10  48   F           gr  Greece  gr   \n",
       "4   37108102  3710810 2001-08-10  48   F           gr  Greece  gr   \n",
       "\n",
       "                                            geometry  \\\n",
       "0  (POLYGON ((21.08304512100005 39.05666412000005...   \n",
       "1  (POLYGON ((21.08304512100005 39.05666412000005...   \n",
       "2  (POLYGON ((21.08304512100005 39.05666412000005...   \n",
       "3  (POLYGON ((21.08304512100005 39.05666412000005...   \n",
       "4  (POLYGON ((21.08304512100005 39.05666412000005...   \n",
       "\n",
       "                                    coords drugname dose_freq  \\\n",
       "0  (21.959090090221128, 39.06305398000006)  hovalin         0   \n",
       "1  (21.959090090221128, 39.06305398000006)  hovalin         0   \n",
       "2  (21.959090090221128, 39.06305398000006)  hovalin         0   \n",
       "3  (21.959090090221128, 39.06305398000006)  hovalin         0   \n",
       "4  (21.959090090221128, 39.06305398000006)  hovalin         0   \n",
       "\n",
       "                 indi_pt                         pt  \n",
       "0  Hypercholesterolaemia                 Arthralgia  \n",
       "1  Hypercholesterolaemia   Disturbance in attention  \n",
       "2  Hypercholesterolaemia                  Dizziness  \n",
       "3  Hypercholesterolaemia  Hepatic function abnormal  \n",
       "4  Hypercholesterolaemia              Muscle spasms  "
      ]
     },
     "execution_count": 81,
     "metadata": {},
     "output_type": "execute_result"
    }
   ],
   "source": [
    "df_merged2b = pd.read_pickle(r\"D:\\Research\\FAERS_Public_Similarity\\Data\\temp_data\\df_merged2b.pkl\")\n",
    "\n",
    "df_merged2b['event_dt'] = df_merged2b['event_dt'].astype(str).replace('\\.0', '', regex=True)\n",
    "df_merged2b['event_dt'] = df_merged2b['event_dt'].astype(str)\n",
    "df_merged2b.fillna(0)\n",
    "df_merged2b.replace(np.nan, 0, inplace=True)\n",
    "\n",
    "df_merged2b['event_dt'] = pd.to_datetime(df_merged2b.event_dt, errors='coerce')\n",
    "#df_merged2b['event_dt1'] = df_merged0b['event_dt'].dt.strftime('%Y%m%d')\n",
    "df_merged2b.to_pickle(r\"D:\\Research\\FAERS_Public_Similarity\\Data\\temp_data\\df_merged2b.pkl\") \n",
    "\n",
    "df_merged2b.head()"
   ]
  },
  {
   "cell_type": "code",
   "execution_count": 6,
   "metadata": {},
   "outputs": [],
   "source": [
    "import pandas as pd\n",
    "import os\n",
    "df_merged0 = pd.read_pickle(r\"D:\\Research\\FAERS_Public_Similarity\\Data\\temp_data\\df_merged0.pkl\")\n",
    "df_merged0b = pd.read_pickle(r\"D:\\Research\\FAERS_Public_Similarity\\Data\\temp_data\\df_merged0b.pkl\")\n",
    "df_merged0c = pd.read_pickle(r\"D:\\Research\\FAERS_Public_Similarity\\Data\\temp_data\\df_merged0c.pkl\")\n",
    "\n",
    "df_merged1a = pd.read_pickle(r\"D:\\Research\\FAERS_Public_Similarity\\Data\\temp_data\\df_merged1a.pkl\")\n",
    "df_merged1b = pd.read_pickle(r\"D:\\Research\\FAERS_Public_Similarity\\Data\\temp_data\\df_merged1b.pkl\")\n",
    "\n",
    "df_merged1c = pd.read_pickle(r\"D:\\Research\\FAERS_Public_Similarity\\Data\\temp_data\\df_merged1c.pkl\")\n"
   ]
  },
  {
   "cell_type": "markdown",
   "metadata": {
    "id": "HWcN0z9Qr7Eu"
   },
   "source": [
    "##### brining all frames together"
   ]
  },
  {
   "cell_type": "code",
   "execution_count": 8,
   "metadata": {
    "id": "yR8OV1WLMdTm"
   },
   "outputs": [],
   "source": [
    "df_merged0_=df_merged0\n",
    "df_merged0b_=df_merged0b\n",
    "df_merged0c_=df_merged0c\n",
    "\n",
    "\n",
    "df_merged1a_=df_merged1a\n",
    "df_merged1b_=df_merged1b\n",
    "df_merged1c_=df_merged1c\n",
    "\n",
    "#df_merged2a_=df_merged2a\n",
    "#df_merged2b_=df_merged2b\n"
   ]
  },
  {
   "cell_type": "code",
   "execution_count": 19,
   "metadata": {
    "id": "tns-4UfcMdTn"
   },
   "outputs": [],
   "source": [
    "\n",
    "df_merged0=df_merged0_\n",
    "df_merged0b=df_merged0b_\n",
    "df_merged0c=df_merged0c_\n",
    "\n",
    "df_merged1a=df_merged1a_\n",
    "df_merged1b=df_merged1b_\n",
    "df_merged1c=df_merged1c_\n",
    "\n",
    "##df_merged2a=df_merged2a_\n",
    "#df_merged2b=df_merged2b_\n",
    "\n",
    "frames = [df_merged0,df_merged0b,df_merged0c,df_merged1a,df_merged1b,df_merged1c]\n",
    "\n",
    "df_joined_drug = pd.concat(frames)"
   ]
  },
  {
   "cell_type": "code",
   "execution_count": 20,
   "metadata": {
    "id": "Up8C152jMdTn"
   },
   "outputs": [],
   "source": [
    "df_joined_drug=df_joined_drug['drugname'].groupby([df_joined_drug.primaryid,df_joined_drug.caseid,df_joined_drug.age,df_joined_drug.sex, df_joined_drug.event_dt, \n",
    "                                                           df_joined_drug.occr_country, df_joined_drug.pt,\n",
    "                        df_joined_drug.prod_ai,df_joined_drug.COUNTRY,df_joined_drug.indi_pt]).apply(list).reset_index()\n"
   ]
  },
  {
   "cell_type": "code",
   "execution_count": 23,
   "metadata": {},
   "outputs": [],
   "source": [
    "df_joined_drug_.to_pickle(r\"D:\\Research\\FAERS_Public_Similarity\\Data\\temp_data\\df_joined_drug.pkl\") \n"
   ]
  },
  {
   "cell_type": "code",
   "execution_count": 7,
   "metadata": {},
   "outputs": [
    {
     "data": {
      "text/html": [
       "<div>\n",
       "<style scoped>\n",
       "    .dataframe tbody tr th:only-of-type {\n",
       "        vertical-align: middle;\n",
       "    }\n",
       "\n",
       "    .dataframe tbody tr th {\n",
       "        vertical-align: top;\n",
       "    }\n",
       "\n",
       "    .dataframe thead th {\n",
       "        text-align: right;\n",
       "    }\n",
       "</style>\n",
       "<table border=\"1\" class=\"dataframe\">\n",
       "  <thead>\n",
       "    <tr style=\"text-align: right;\">\n",
       "      <th></th>\n",
       "      <th>primaryid</th>\n",
       "      <th>caseid</th>\n",
       "      <th>age</th>\n",
       "      <th>sex</th>\n",
       "      <th>occr_country</th>\n",
       "      <th>COUNTRY</th>\n",
       "      <th>event_dt</th>\n",
       "      <th>pt</th>\n",
       "      <th>prod_ai</th>\n",
       "      <th>drugname</th>\n",
       "      <th>indi_pt</th>\n",
       "    </tr>\n",
       "  </thead>\n",
       "  <tbody>\n",
       "    <tr>\n",
       "      <th>0</th>\n",
       "      <td>33538582</td>\n",
       "      <td>3353858</td>\n",
       "      <td>31.0</td>\n",
       "      <td>M</td>\n",
       "      <td>fr</td>\n",
       "      <td>France</td>\n",
       "      <td>2008-11-26</td>\n",
       "      <td>[Escherichia sepsis, Escherichia sepsis, Esche...</td>\n",
       "      <td>[CYTARABINE, DAUNORUBICIN HYDROCHLORIDE, GEMTU...</td>\n",
       "      <td>[[aracytine, aracytine, aracytine], [cerubidin...</td>\n",
       "      <td>[Acute myeloid leukaemia, Acute myeloid leukae...</td>\n",
       "    </tr>\n",
       "    <tr>\n",
       "      <th>1</th>\n",
       "      <td>33568652</td>\n",
       "      <td>3356865</td>\n",
       "      <td>34.0</td>\n",
       "      <td>F</td>\n",
       "      <td>fr</td>\n",
       "      <td>France</td>\n",
       "      <td>2008-01-13</td>\n",
       "      <td>[Cardiac failure, Cardiac failure, Cardiac fai...</td>\n",
       "      <td>[CYTARABINE, CYTARABINE, CYTARABINE, DAUNORUBI...</td>\n",
       "      <td>[[aracytine, aracytine], [aracytine, aracytine...</td>\n",
       "      <td>[Acute leukaemia, Leukaemia, Product used for ...</td>\n",
       "    </tr>\n",
       "    <tr>\n",
       "      <th>2</th>\n",
       "      <td>33612122</td>\n",
       "      <td>3361212</td>\n",
       "      <td>55.0</td>\n",
       "      <td>F</td>\n",
       "      <td>fr</td>\n",
       "      <td>France</td>\n",
       "      <td>2010-03-29</td>\n",
       "      <td>[Leukopenia, Leukopenia, Leukopenia]</td>\n",
       "      <td>[CYTARABINE, DAUNORUBICIN HYDROCHLORIDE, GEMTU...</td>\n",
       "      <td>[[aracytine, aracytine, aracytine], [cerubidin...</td>\n",
       "      <td>[Acute leukaemia, Acute leukaemia, Acute leuka...</td>\n",
       "    </tr>\n",
       "    <tr>\n",
       "      <th>3</th>\n",
       "      <td>34795972</td>\n",
       "      <td>3479597</td>\n",
       "      <td>27.0</td>\n",
       "      <td>M</td>\n",
       "      <td>fr</td>\n",
       "      <td>France</td>\n",
       "      <td>2007-11-05</td>\n",
       "      <td>[Bone marrow failure, Bone marrow failure]</td>\n",
       "      <td>[CYTARABINE, DAUNORUBICIN HYDROCHLORIDE]</td>\n",
       "      <td>[[aracytine, aracytine], [cerubidine, cerubidi...</td>\n",
       "      <td>[Acute myeloid leukaemia, Acute myeloid leukae...</td>\n",
       "    </tr>\n",
       "    <tr>\n",
       "      <th>4</th>\n",
       "      <td>34835022</td>\n",
       "      <td>3483502</td>\n",
       "      <td>51.0</td>\n",
       "      <td>F</td>\n",
       "      <td>fr</td>\n",
       "      <td>France</td>\n",
       "      <td>2007-12-06</td>\n",
       "      <td>[Bone marrow failure, Bone marrow failure, Bon...</td>\n",
       "      <td>[CYTARABINE, DAUNORUBICIN HYDROCHLORIDE, GEMTU...</td>\n",
       "      <td>[[aracytine, aracytine, aracytine], [cerubidin...</td>\n",
       "      <td>[Acute myeloid leukaemia, Acute myeloid leukae...</td>\n",
       "    </tr>\n",
       "  </tbody>\n",
       "</table>\n",
       "</div>"
      ],
      "text/plain": [
       "   primaryid   caseid   age sex occr_country COUNTRY   event_dt  \\\n",
       "0   33538582  3353858  31.0   M           fr  France 2008-11-26   \n",
       "1   33568652  3356865  34.0   F           fr  France 2008-01-13   \n",
       "2   33612122  3361212  55.0   F           fr  France 2010-03-29   \n",
       "3   34795972  3479597  27.0   M           fr  France 2007-11-05   \n",
       "4   34835022  3483502  51.0   F           fr  France 2007-12-06   \n",
       "\n",
       "                                                  pt  \\\n",
       "0  [Escherichia sepsis, Escherichia sepsis, Esche...   \n",
       "1  [Cardiac failure, Cardiac failure, Cardiac fai...   \n",
       "2               [Leukopenia, Leukopenia, Leukopenia]   \n",
       "3         [Bone marrow failure, Bone marrow failure]   \n",
       "4  [Bone marrow failure, Bone marrow failure, Bon...   \n",
       "\n",
       "                                             prod_ai  \\\n",
       "0  [CYTARABINE, DAUNORUBICIN HYDROCHLORIDE, GEMTU...   \n",
       "1  [CYTARABINE, CYTARABINE, CYTARABINE, DAUNORUBI...   \n",
       "2  [CYTARABINE, DAUNORUBICIN HYDROCHLORIDE, GEMTU...   \n",
       "3           [CYTARABINE, DAUNORUBICIN HYDROCHLORIDE]   \n",
       "4  [CYTARABINE, DAUNORUBICIN HYDROCHLORIDE, GEMTU...   \n",
       "\n",
       "                                            drugname  \\\n",
       "0  [[aracytine, aracytine, aracytine], [cerubidin...   \n",
       "1  [[aracytine, aracytine], [aracytine, aracytine...   \n",
       "2  [[aracytine, aracytine, aracytine], [cerubidin...   \n",
       "3  [[aracytine, aracytine], [cerubidine, cerubidi...   \n",
       "4  [[aracytine, aracytine, aracytine], [cerubidin...   \n",
       "\n",
       "                                             indi_pt  \n",
       "0  [Acute myeloid leukaemia, Acute myeloid leukae...  \n",
       "1  [Acute leukaemia, Leukaemia, Product used for ...  \n",
       "2  [Acute leukaemia, Acute leukaemia, Acute leuka...  \n",
       "3  [Acute myeloid leukaemia, Acute myeloid leukae...  \n",
       "4  [Acute myeloid leukaemia, Acute myeloid leukae...  "
      ]
     },
     "execution_count": 7,
     "metadata": {},
     "output_type": "execute_result"
    }
   ],
   "source": [
    "import pandas as pd\n",
    "df_joined_drug=pd.read_pickle(r\"D:\\Research\\FAERS_Public_Similarity\\Data\\temp_data\\df_joined_drug.pkl\") \n",
    "df_joined_drug.head()"
   ]
  },
  {
   "cell_type": "code",
   "execution_count": 8,
   "metadata": {},
   "outputs": [
    {
     "name": "stdout",
     "output_type": "stream",
     "text": [
      "<class 'pandas.core.frame.DataFrame'>\n",
      "Int64Index: 599664 entries, 0 to 599663\n",
      "Data columns (total 11 columns):\n",
      " #   Column        Non-Null Count   Dtype         \n",
      "---  ------        --------------   -----         \n",
      " 0   primaryid     599664 non-null  int64         \n",
      " 1   caseid        599664 non-null  int64         \n",
      " 2   age           599664 non-null  float64       \n",
      " 3   sex           599664 non-null  object        \n",
      " 4   occr_country  599664 non-null  object        \n",
      " 5   COUNTRY       599664 non-null  object        \n",
      " 6   event_dt      599664 non-null  datetime64[ns]\n",
      " 7   pt            599664 non-null  object        \n",
      " 8   prod_ai       599664 non-null  object        \n",
      " 9   drugname      599664 non-null  object        \n",
      " 10  indi_pt       599664 non-null  object        \n",
      "dtypes: datetime64[ns](1), float64(1), int64(2), object(7)\n",
      "memory usage: 54.9+ MB\n"
     ]
    }
   ],
   "source": [
    "df_joined_drug.info()"
   ]
  },
  {
   "cell_type": "code",
   "execution_count": 9,
   "metadata": {},
   "outputs": [],
   "source": [
    "df_joined_drug_1 = df_joined_drug.groupby(['primaryid', 'caseid','age', 'sex','occr_country','COUNTRY', 'event_dt'],as_index=False).agg({ 'pt': lambda x: list(x)})\n",
    "df_joined_drug_2 = df_joined_drug.groupby(['primaryid', 'caseid','age', 'sex','occr_country','COUNTRY', 'event_dt'],as_index=False).agg({'prod_ai': lambda x: list(x)})\n",
    "df_joined_drug_3 = df_joined_drug.groupby(['primaryid', 'caseid','age', 'sex','occr_country','COUNTRY', 'event_dt'],as_index=False).agg({'drugname': lambda x: list(x)})\n",
    "df_joined_drug_4 = df_joined_drug.groupby(['primaryid', 'caseid','age', 'sex','occr_country','COUNTRY', 'event_dt'],as_index=False).agg({'indi_pt': lambda x: list(x)})\n"
   ]
  },
  {
   "cell_type": "code",
   "execution_count": 10,
   "metadata": {},
   "outputs": [
    {
     "name": "stdout",
     "output_type": "stream",
     "text": [
      "<class 'pandas.core.frame.DataFrame'>\n",
      "Int64Index: 599664 entries, 0 to 599663\n",
      "Data columns (total 11 columns):\n",
      " #   Column        Non-Null Count   Dtype         \n",
      "---  ------        --------------   -----         \n",
      " 0   primaryid     599664 non-null  int64         \n",
      " 1   caseid        599664 non-null  int64         \n",
      " 2   age           599664 non-null  float64       \n",
      " 3   sex           599664 non-null  object        \n",
      " 4   occr_country  599664 non-null  object        \n",
      " 5   COUNTRY       599664 non-null  object        \n",
      " 6   event_dt      599664 non-null  datetime64[ns]\n",
      " 7   pt            599664 non-null  object        \n",
      " 8   prod_ai       599664 non-null  object        \n",
      " 9   drugname      599664 non-null  object        \n",
      " 10  indi_pt       599664 non-null  object        \n",
      "dtypes: datetime64[ns](1), float64(1), int64(2), object(7)\n",
      "memory usage: 54.9+ MB\n"
     ]
    }
   ],
   "source": [
    "from functools import reduce\n",
    "dfs = [df_joined_drug_1, df_joined_drug_2, df_joined_drug_3, df_joined_drug_4]\n",
    "df_joined_drug_final = reduce(lambda left,right: pd.merge(left,right,on=['primaryid', 'caseid','age', 'sex','occr_country','COUNTRY', 'event_dt']), dfs)\n",
    "df_joined_drug_final.info()"
   ]
  },
  {
   "cell_type": "code",
   "execution_count": 11,
   "metadata": {},
   "outputs": [
    {
     "name": "stdout",
     "output_type": "stream",
     "text": [
      "<class 'pandas.core.frame.DataFrame'>\n",
      "Int64Index: 599664 entries, 0 to 599663\n",
      "Data columns (total 11 columns):\n",
      " #   Column        Non-Null Count   Dtype         \n",
      "---  ------        --------------   -----         \n",
      " 0   primaryid     599664 non-null  int64         \n",
      " 1   caseid        599664 non-null  int64         \n",
      " 2   age           599664 non-null  float64       \n",
      " 3   sex           599664 non-null  object        \n",
      " 4   occr_country  599664 non-null  object        \n",
      " 5   COUNTRY       599664 non-null  object        \n",
      " 6   event_dt      599664 non-null  datetime64[ns]\n",
      " 7   pt            599664 non-null  object        \n",
      " 8   prod_ai       599664 non-null  object        \n",
      " 9   drugname      599664 non-null  object        \n",
      " 10  indi_pt       599664 non-null  object        \n",
      "dtypes: datetime64[ns](1), float64(1), int64(2), object(7)\n",
      "memory usage: 54.9+ MB\n"
     ]
    },
    {
     "name": "stderr",
     "output_type": "stream",
     "text": [
      "C:\\Users\\Ahmed.Askar\\Anaconda3\\lib\\site-packages\\numpy\\core\\_asarray.py:136: VisibleDeprecationWarning: Creating an ndarray from ragged nested sequences (which is a list-or-tuple of lists-or-tuples-or ndarrays with different lengths or shapes) is deprecated. If you meant to do this, you must specify 'dtype=object' when creating the ndarray\n",
      "  return array(a, dtype, copy=False, order=order, subok=True)\n"
     ]
    },
    {
     "data": {
      "text/html": [
       "<div>\n",
       "<style scoped>\n",
       "    .dataframe tbody tr th:only-of-type {\n",
       "        vertical-align: middle;\n",
       "    }\n",
       "\n",
       "    .dataframe tbody tr th {\n",
       "        vertical-align: top;\n",
       "    }\n",
       "\n",
       "    .dataframe thead th {\n",
       "        text-align: right;\n",
       "    }\n",
       "</style>\n",
       "<table border=\"1\" class=\"dataframe\">\n",
       "  <thead>\n",
       "    <tr style=\"text-align: right;\">\n",
       "      <th></th>\n",
       "      <th>primaryid</th>\n",
       "      <th>caseid</th>\n",
       "      <th>age</th>\n",
       "      <th>sex</th>\n",
       "      <th>occr_country</th>\n",
       "      <th>COUNTRY</th>\n",
       "      <th>event_dt</th>\n",
       "      <th>pt</th>\n",
       "      <th>prod_ai</th>\n",
       "      <th>drugname</th>\n",
       "      <th>indi_pt</th>\n",
       "      <th>drugname_unique</th>\n",
       "      <th>pt_unique</th>\n",
       "      <th>prod_ai_unique</th>\n",
       "      <th>indi_pt_unique</th>\n",
       "    </tr>\n",
       "  </thead>\n",
       "  <tbody>\n",
       "    <tr>\n",
       "      <th>0</th>\n",
       "      <td>33538582</td>\n",
       "      <td>3353858</td>\n",
       "      <td>31.0</td>\n",
       "      <td>M</td>\n",
       "      <td>fr</td>\n",
       "      <td>France</td>\n",
       "      <td>2008-11-26</td>\n",
       "      <td>[[Escherichia sepsis, Escherichia sepsis, Esch...</td>\n",
       "      <td>[[CYTARABINE, DAUNORUBICIN HYDROCHLORIDE, GEMT...</td>\n",
       "      <td>[[aracytine, aracytine, aracytine], [cerubidin...</td>\n",
       "      <td>[[Acute myeloid leukaemia, Acute myeloid leuka...</td>\n",
       "      <td>[aracytine, cerubidine, mylotarg]</td>\n",
       "      <td>[Escherichia sepsis]</td>\n",
       "      <td>[CYTARABINE, DAUNORUBICIN HYDROCHLORIDE, GEMTU...</td>\n",
       "      <td>[Acute myeloid leukaemia]</td>\n",
       "    </tr>\n",
       "    <tr>\n",
       "      <th>1</th>\n",
       "      <td>33568652</td>\n",
       "      <td>3356865</td>\n",
       "      <td>34.0</td>\n",
       "      <td>F</td>\n",
       "      <td>fr</td>\n",
       "      <td>France</td>\n",
       "      <td>2008-01-13</td>\n",
       "      <td>[[Cardiac failure, Cardiac failure, Cardiac fa...</td>\n",
       "      <td>[[CYTARABINE, CYTARABINE, CYTARABINE, DAUNORUB...</td>\n",
       "      <td>[[aracytine, aracytine], [aracytine, aracytine...</td>\n",
       "      <td>[[Acute leukaemia, Leukaemia, Product used for...</td>\n",
       "      <td>[[aracytine, aracytine], [cerubidine, cerubidi...</td>\n",
       "      <td>[Cardiac failure]</td>\n",
       "      <td>[CYTARABINE, DAUNORUBICIN HYDROCHLORIDE, RITUX...</td>\n",
       "      <td>[Acute leukaemia, Leukaemia, Product used for ...</td>\n",
       "    </tr>\n",
       "    <tr>\n",
       "      <th>2</th>\n",
       "      <td>33612122</td>\n",
       "      <td>3361212</td>\n",
       "      <td>55.0</td>\n",
       "      <td>F</td>\n",
       "      <td>fr</td>\n",
       "      <td>France</td>\n",
       "      <td>2010-03-29</td>\n",
       "      <td>[[Leukopenia, Leukopenia, Leukopenia]]</td>\n",
       "      <td>[[CYTARABINE, DAUNORUBICIN HYDROCHLORIDE, GEMT...</td>\n",
       "      <td>[[aracytine, aracytine, aracytine], [cerubidin...</td>\n",
       "      <td>[[Acute leukaemia, Acute leukaemia, Acute leuk...</td>\n",
       "      <td>[aracytine, cerubidine, mylotarg]</td>\n",
       "      <td>[Leukopenia]</td>\n",
       "      <td>[CYTARABINE, DAUNORUBICIN HYDROCHLORIDE, GEMTU...</td>\n",
       "      <td>[Acute leukaemia]</td>\n",
       "    </tr>\n",
       "    <tr>\n",
       "      <th>3</th>\n",
       "      <td>34795972</td>\n",
       "      <td>3479597</td>\n",
       "      <td>27.0</td>\n",
       "      <td>M</td>\n",
       "      <td>fr</td>\n",
       "      <td>France</td>\n",
       "      <td>2007-11-05</td>\n",
       "      <td>[[Bone marrow failure, Bone marrow failure]]</td>\n",
       "      <td>[[CYTARABINE, DAUNORUBICIN HYDROCHLORIDE]]</td>\n",
       "      <td>[[aracytine, aracytine], [cerubidine, cerubidi...</td>\n",
       "      <td>[[Acute myeloid leukaemia, Acute myeloid leuka...</td>\n",
       "      <td>[aracytine, cerubidine]</td>\n",
       "      <td>[Bone marrow failure]</td>\n",
       "      <td>[CYTARABINE, DAUNORUBICIN HYDROCHLORIDE]</td>\n",
       "      <td>[Acute myeloid leukaemia]</td>\n",
       "    </tr>\n",
       "    <tr>\n",
       "      <th>4</th>\n",
       "      <td>34835022</td>\n",
       "      <td>3483502</td>\n",
       "      <td>51.0</td>\n",
       "      <td>F</td>\n",
       "      <td>fr</td>\n",
       "      <td>France</td>\n",
       "      <td>2007-12-06</td>\n",
       "      <td>[[Bone marrow failure, Bone marrow failure, Bo...</td>\n",
       "      <td>[[CYTARABINE, DAUNORUBICIN HYDROCHLORIDE, GEMT...</td>\n",
       "      <td>[[aracytine, aracytine, aracytine], [cerubidin...</td>\n",
       "      <td>[[Acute myeloid leukaemia, Acute myeloid leuka...</td>\n",
       "      <td>[aracytine, cerubidine, mylotarg]</td>\n",
       "      <td>[Bone marrow failure]</td>\n",
       "      <td>[CYTARABINE, DAUNORUBICIN HYDROCHLORIDE, GEMTU...</td>\n",
       "      <td>[Acute myeloid leukaemia]</td>\n",
       "    </tr>\n",
       "  </tbody>\n",
       "</table>\n",
       "</div>"
      ],
      "text/plain": [
       "   primaryid   caseid   age sex occr_country COUNTRY   event_dt  \\\n",
       "0   33538582  3353858  31.0   M           fr  France 2008-11-26   \n",
       "1   33568652  3356865  34.0   F           fr  France 2008-01-13   \n",
       "2   33612122  3361212  55.0   F           fr  France 2010-03-29   \n",
       "3   34795972  3479597  27.0   M           fr  France 2007-11-05   \n",
       "4   34835022  3483502  51.0   F           fr  France 2007-12-06   \n",
       "\n",
       "                                                  pt  \\\n",
       "0  [[Escherichia sepsis, Escherichia sepsis, Esch...   \n",
       "1  [[Cardiac failure, Cardiac failure, Cardiac fa...   \n",
       "2             [[Leukopenia, Leukopenia, Leukopenia]]   \n",
       "3       [[Bone marrow failure, Bone marrow failure]]   \n",
       "4  [[Bone marrow failure, Bone marrow failure, Bo...   \n",
       "\n",
       "                                             prod_ai  \\\n",
       "0  [[CYTARABINE, DAUNORUBICIN HYDROCHLORIDE, GEMT...   \n",
       "1  [[CYTARABINE, CYTARABINE, CYTARABINE, DAUNORUB...   \n",
       "2  [[CYTARABINE, DAUNORUBICIN HYDROCHLORIDE, GEMT...   \n",
       "3         [[CYTARABINE, DAUNORUBICIN HYDROCHLORIDE]]   \n",
       "4  [[CYTARABINE, DAUNORUBICIN HYDROCHLORIDE, GEMT...   \n",
       "\n",
       "                                            drugname  \\\n",
       "0  [[aracytine, aracytine, aracytine], [cerubidin...   \n",
       "1  [[aracytine, aracytine], [aracytine, aracytine...   \n",
       "2  [[aracytine, aracytine, aracytine], [cerubidin...   \n",
       "3  [[aracytine, aracytine], [cerubidine, cerubidi...   \n",
       "4  [[aracytine, aracytine, aracytine], [cerubidin...   \n",
       "\n",
       "                                             indi_pt  \\\n",
       "0  [[Acute myeloid leukaemia, Acute myeloid leuka...   \n",
       "1  [[Acute leukaemia, Leukaemia, Product used for...   \n",
       "2  [[Acute leukaemia, Acute leukaemia, Acute leuk...   \n",
       "3  [[Acute myeloid leukaemia, Acute myeloid leuka...   \n",
       "4  [[Acute myeloid leukaemia, Acute myeloid leuka...   \n",
       "\n",
       "                                     drugname_unique              pt_unique  \\\n",
       "0                  [aracytine, cerubidine, mylotarg]   [Escherichia sepsis]   \n",
       "1  [[aracytine, aracytine], [cerubidine, cerubidi...      [Cardiac failure]   \n",
       "2                  [aracytine, cerubidine, mylotarg]           [Leukopenia]   \n",
       "3                            [aracytine, cerubidine]  [Bone marrow failure]   \n",
       "4                  [aracytine, cerubidine, mylotarg]  [Bone marrow failure]   \n",
       "\n",
       "                                      prod_ai_unique  \\\n",
       "0  [CYTARABINE, DAUNORUBICIN HYDROCHLORIDE, GEMTU...   \n",
       "1  [CYTARABINE, DAUNORUBICIN HYDROCHLORIDE, RITUX...   \n",
       "2  [CYTARABINE, DAUNORUBICIN HYDROCHLORIDE, GEMTU...   \n",
       "3           [CYTARABINE, DAUNORUBICIN HYDROCHLORIDE]   \n",
       "4  [CYTARABINE, DAUNORUBICIN HYDROCHLORIDE, GEMTU...   \n",
       "\n",
       "                                      indi_pt_unique  \n",
       "0                          [Acute myeloid leukaemia]  \n",
       "1  [Acute leukaemia, Leukaemia, Product used for ...  \n",
       "2                                  [Acute leukaemia]  \n",
       "3                          [Acute myeloid leukaemia]  \n",
       "4                          [Acute myeloid leukaemia]  "
      ]
     },
     "execution_count": 11,
     "metadata": {},
     "output_type": "execute_result"
    }
   ],
   "source": [
    "df_joined_drug_final_ = df_joined_drug_final\n",
    "df_joined_drug_final_.info()\n",
    "cols = ['drugname']\n",
    "df_joined_drug_final_[cols] = df_joined_drug_final_[cols].applymap(lambda x: [z for y in x for z in y])\n",
    "\n",
    "import numpy as np\n",
    "df_joined_drug_final_['drugname_unique'] = [np.unique(item) for item in df_joined_drug_final_['drugname'].values]\n",
    "df_joined_drug_final_['pt_unique'] = [np.unique(item) for item in df_joined_drug_final_['pt'].values]\n",
    "df_joined_drug_final_['prod_ai_unique'] = [np.unique(item) for item in df_joined_drug_final_['prod_ai'].values]\n",
    "df_joined_drug_final_['indi_pt_unique'] = [np.unique(item) for item in df_joined_drug_final_['indi_pt'].values]\n",
    "\n",
    "df_joined_drug_final_.head()\n"
   ]
  },
  {
   "cell_type": "code",
   "execution_count": 12,
   "metadata": {
    "id": "v4UQsz-cMdTo"
   },
   "outputs": [],
   "source": [
    "#len(df_1.pt.iloc[5])\n",
    "#df_1.pt.iloc[5]\n",
    "\n",
    "df_joined_drug_final_[\"count_drugs\"] = np.nan\n",
    "lenghts = []\n",
    "for index, row in df_joined_drug_final_.iterrows():\n",
    "        #print(row[[\"geometry\",\"GaugeLID\"]])\n",
    "\n",
    "    length = len(df_joined_drug_final_.drugname_unique.iloc[index])\n",
    "    lenghts.append(length)\n",
    "df_joined_drug_final_['count_drugs'] = lenghts   "
   ]
  },
  {
   "cell_type": "code",
   "execution_count": 19,
   "metadata": {},
   "outputs": [
    {
     "name": "stderr",
     "output_type": "stream",
     "text": [
      "<ipython-input-19-485fe69b2322>:2: SettingWithCopyWarning: \n",
      "A value is trying to be set on a copy of a slice from a DataFrame.\n",
      "Try using .loc[row_indexer,col_indexer] = value instead\n",
      "\n",
      "See the caveats in the documentation: https://pandas.pydata.org/pandas-docs/stable/user_guide/indexing.html#returning-a-view-versus-a-copy\n",
      "  df_joined_drug_final_count1['drugname_unique_string'] = df_joined_drug_final_count1['drugname_unique'].agg(lambda x: ','.join(map(str, x)))\n"
     ]
    },
    {
     "data": {
      "text/html": [
       "<div>\n",
       "<style scoped>\n",
       "    .dataframe tbody tr th:only-of-type {\n",
       "        vertical-align: middle;\n",
       "    }\n",
       "\n",
       "    .dataframe tbody tr th {\n",
       "        vertical-align: top;\n",
       "    }\n",
       "\n",
       "    .dataframe thead th {\n",
       "        text-align: right;\n",
       "    }\n",
       "</style>\n",
       "<table border=\"1\" class=\"dataframe\">\n",
       "  <thead>\n",
       "    <tr style=\"text-align: right;\">\n",
       "      <th></th>\n",
       "      <th>primaryid</th>\n",
       "      <th>caseid</th>\n",
       "      <th>age</th>\n",
       "      <th>sex</th>\n",
       "      <th>occr_country</th>\n",
       "      <th>COUNTRY</th>\n",
       "      <th>event_dt</th>\n",
       "      <th>pt</th>\n",
       "      <th>prod_ai</th>\n",
       "      <th>drugname</th>\n",
       "      <th>indi_pt</th>\n",
       "      <th>drugname_unique</th>\n",
       "      <th>pt_unique</th>\n",
       "      <th>prod_ai_unique</th>\n",
       "      <th>indi_pt_unique</th>\n",
       "      <th>count_drugs</th>\n",
       "      <th>drugname_unique_string</th>\n",
       "    </tr>\n",
       "  </thead>\n",
       "  <tbody>\n",
       "    <tr>\n",
       "      <th>107236</th>\n",
       "      <td>119856021</td>\n",
       "      <td>11985602</td>\n",
       "      <td>16.0</td>\n",
       "      <td>F</td>\n",
       "      <td>de</td>\n",
       "      <td>Germany</td>\n",
       "      <td>2015-11-27</td>\n",
       "      <td>[[Aggression, Emotional poverty, Fatigue, Hall...</td>\n",
       "      <td>[[QUETIAPINE FUMARATE, QUETIAPINE FUMARATE, QU...</td>\n",
       "      <td>[[seroquel], [seroquel], [seroquel], [seroquel...</td>\n",
       "      <td>[[Mood swings, Mood swings, Mood swings, Mood ...</td>\n",
       "      <td>[seroquel]</td>\n",
       "      <td>[Aggression, Emotional poverty, Fatigue, Hallu...</td>\n",
       "      <td>[QUETIAPINE FUMARATE]</td>\n",
       "      <td>[Mood swings]</td>\n",
       "      <td>1</td>\n",
       "      <td>seroquel</td>\n",
       "    </tr>\n",
       "    <tr>\n",
       "      <th>133955</th>\n",
       "      <td>123723431</td>\n",
       "      <td>12372343</td>\n",
       "      <td>36.0</td>\n",
       "      <td>M</td>\n",
       "      <td>de</td>\n",
       "      <td>Germany</td>\n",
       "      <td>2015-10-11</td>\n",
       "      <td>[[Drug abuse, Epilepsy, Suicidal ideation, Tre...</td>\n",
       "      <td>[[INTERFERON BETA-1A, INTERFERON BETA-1A, INTE...</td>\n",
       "      <td>[[avonex], [avonex], [avonex], [avonex], [avon...</td>\n",
       "      <td>[[Multiple sclerosis, Multiple sclerosis, Mult...</td>\n",
       "      <td>[avonex]</td>\n",
       "      <td>[Drug abuse, Epilepsy, Suicidal ideation, Trem...</td>\n",
       "      <td>[INTERFERON BETA-1A]</td>\n",
       "      <td>[Multiple sclerosis]</td>\n",
       "      <td>1</td>\n",
       "      <td>avonex</td>\n",
       "    </tr>\n",
       "    <tr>\n",
       "      <th>209581</th>\n",
       "      <td>133017301</td>\n",
       "      <td>13301730</td>\n",
       "      <td>52.0</td>\n",
       "      <td>F</td>\n",
       "      <td>es</td>\n",
       "      <td>Spain</td>\n",
       "      <td>2016-01-01</td>\n",
       "      <td>[[Depressed mood, Fall, Insomnia, Irritability]]</td>\n",
       "      <td>[[APREMILAST, APREMILAST, APREMILAST, APREMILA...</td>\n",
       "      <td>[[otezla], [otezla], [otezla], [otezla]]</td>\n",
       "      <td>[[Psoriasis, Psoriasis, Psoriasis, Psoriasis]]</td>\n",
       "      <td>[otezla]</td>\n",
       "      <td>[Depressed mood, Fall, Insomnia, Irritability]</td>\n",
       "      <td>[APREMILAST]</td>\n",
       "      <td>[Psoriasis]</td>\n",
       "      <td>1</td>\n",
       "      <td>otezla</td>\n",
       "    </tr>\n",
       "    <tr>\n",
       "      <th>450121</th>\n",
       "      <td>171243981</td>\n",
       "      <td>17124398</td>\n",
       "      <td>45.0</td>\n",
       "      <td>F</td>\n",
       "      <td>es</td>\n",
       "      <td>Spain</td>\n",
       "      <td>2019-09-30</td>\n",
       "      <td>[[Cerebral venous sinus thrombosis, Jugular ve...</td>\n",
       "      <td>[[BARICITINIB, BARICITINIB, BARICITINIB]]</td>\n",
       "      <td>[[olumiant], [olumiant], [olumiant]]</td>\n",
       "      <td>[[Rheumatoid arthritis, Rheumatoid arthritis, ...</td>\n",
       "      <td>[olumiant]</td>\n",
       "      <td>[Cerebral venous sinus thrombosis, Jugular vei...</td>\n",
       "      <td>[BARICITINIB]</td>\n",
       "      <td>[Rheumatoid arthritis]</td>\n",
       "      <td>1</td>\n",
       "      <td>olumiant</td>\n",
       "    </tr>\n",
       "    <tr>\n",
       "      <th>374327</th>\n",
       "      <td>164198241</td>\n",
       "      <td>16419824</td>\n",
       "      <td>78.0</td>\n",
       "      <td>F</td>\n",
       "      <td>es</td>\n",
       "      <td>Spain</td>\n",
       "      <td>2019-05-09</td>\n",
       "      <td>[[Abdominal pain upper, Haematochezia, Muscle ...</td>\n",
       "      <td>[[CELECOXIB, CELECOXIB, CELECOXIB, CELECOXIB]]</td>\n",
       "      <td>[[celecoxib], [celecoxib], [celecoxib], [celec...</td>\n",
       "      <td>[[Ligament sprain, Ligament sprain, Ligament s...</td>\n",
       "      <td>[celecoxib]</td>\n",
       "      <td>[Abdominal pain upper, Haematochezia, Muscle s...</td>\n",
       "      <td>[CELECOXIB]</td>\n",
       "      <td>[Ligament sprain]</td>\n",
       "      <td>1</td>\n",
       "      <td>celecoxib</td>\n",
       "    </tr>\n",
       "  </tbody>\n",
       "</table>\n",
       "</div>"
      ],
      "text/plain": [
       "        primaryid    caseid   age sex occr_country  COUNTRY   event_dt  \\\n",
       "107236  119856021  11985602  16.0   F           de  Germany 2015-11-27   \n",
       "133955  123723431  12372343  36.0   M           de  Germany 2015-10-11   \n",
       "209581  133017301  13301730  52.0   F           es    Spain 2016-01-01   \n",
       "450121  171243981  17124398  45.0   F           es    Spain 2019-09-30   \n",
       "374327  164198241  16419824  78.0   F           es    Spain 2019-05-09   \n",
       "\n",
       "                                                       pt  \\\n",
       "107236  [[Aggression, Emotional poverty, Fatigue, Hall...   \n",
       "133955  [[Drug abuse, Epilepsy, Suicidal ideation, Tre...   \n",
       "209581   [[Depressed mood, Fall, Insomnia, Irritability]]   \n",
       "450121  [[Cerebral venous sinus thrombosis, Jugular ve...   \n",
       "374327  [[Abdominal pain upper, Haematochezia, Muscle ...   \n",
       "\n",
       "                                                  prod_ai  \\\n",
       "107236  [[QUETIAPINE FUMARATE, QUETIAPINE FUMARATE, QU...   \n",
       "133955  [[INTERFERON BETA-1A, INTERFERON BETA-1A, INTE...   \n",
       "209581  [[APREMILAST, APREMILAST, APREMILAST, APREMILA...   \n",
       "450121          [[BARICITINIB, BARICITINIB, BARICITINIB]]   \n",
       "374327     [[CELECOXIB, CELECOXIB, CELECOXIB, CELECOXIB]]   \n",
       "\n",
       "                                                 drugname  \\\n",
       "107236  [[seroquel], [seroquel], [seroquel], [seroquel...   \n",
       "133955  [[avonex], [avonex], [avonex], [avonex], [avon...   \n",
       "209581           [[otezla], [otezla], [otezla], [otezla]]   \n",
       "450121               [[olumiant], [olumiant], [olumiant]]   \n",
       "374327  [[celecoxib], [celecoxib], [celecoxib], [celec...   \n",
       "\n",
       "                                                  indi_pt drugname_unique  \\\n",
       "107236  [[Mood swings, Mood swings, Mood swings, Mood ...      [seroquel]   \n",
       "133955  [[Multiple sclerosis, Multiple sclerosis, Mult...        [avonex]   \n",
       "209581     [[Psoriasis, Psoriasis, Psoriasis, Psoriasis]]        [otezla]   \n",
       "450121  [[Rheumatoid arthritis, Rheumatoid arthritis, ...      [olumiant]   \n",
       "374327  [[Ligament sprain, Ligament sprain, Ligament s...     [celecoxib]   \n",
       "\n",
       "                                                pt_unique  \\\n",
       "107236  [Aggression, Emotional poverty, Fatigue, Hallu...   \n",
       "133955  [Drug abuse, Epilepsy, Suicidal ideation, Trem...   \n",
       "209581     [Depressed mood, Fall, Insomnia, Irritability]   \n",
       "450121  [Cerebral venous sinus thrombosis, Jugular vei...   \n",
       "374327  [Abdominal pain upper, Haematochezia, Muscle s...   \n",
       "\n",
       "               prod_ai_unique          indi_pt_unique  count_drugs  \\\n",
       "107236  [QUETIAPINE FUMARATE]           [Mood swings]            1   \n",
       "133955   [INTERFERON BETA-1A]    [Multiple sclerosis]            1   \n",
       "209581           [APREMILAST]             [Psoriasis]            1   \n",
       "450121          [BARICITINIB]  [Rheumatoid arthritis]            1   \n",
       "374327            [CELECOXIB]       [Ligament sprain]            1   \n",
       "\n",
       "       drugname_unique_string  \n",
       "107236               seroquel  \n",
       "133955                 avonex  \n",
       "209581                 otezla  \n",
       "450121               olumiant  \n",
       "374327              celecoxib  "
      ]
     },
     "execution_count": 19,
     "metadata": {},
     "output_type": "execute_result"
    }
   ],
   "source": [
    "\n",
    "df_joined_drug_final_count1 =df_joined_drug_final_[df_joined_drug_final_['count_drugs']<=1]\n",
    "df_joined_drug_final_count1['drugname_unique_string'] = df_joined_drug_final_count1['drugname_unique'].agg(lambda x: ','.join(map(str, x)))\n",
    "df_joined_drug_final_count1.sample(5)\n"
   ]
  },
  {
   "cell_type": "code",
   "execution_count": 20,
   "metadata": {
    "id": "sVdep1TJMdTq"
   },
   "outputs": [
    {
     "data": {
      "text/plain": [
       "duodopa       4204\n",
       "aranesp       4110\n",
       "humira        3902\n",
       "clozaril      3800\n",
       "gilenya       2215\n",
       "novothyrox    2170\n",
       "xgeva         2064\n",
       "stelara       1875\n",
       "nivolumab     1731\n",
       "mirena        1634\n",
       "simponi       1599\n",
       "eligard       1586\n",
       "xarelto       1562\n",
       "sertraline    1536\n",
       "tysabri       1528\n",
       "enbrel        1499\n",
       "ibuprofen     1486\n",
       "tecfidera     1477\n",
       "pradaxa       1356\n",
       "cosentyx      1191\n",
       "Name: drugname_unique_string, dtype: int64"
      ]
     },
     "execution_count": 20,
     "metadata": {},
     "output_type": "execute_result"
    }
   ],
   "source": [
    "df_joined_drug_final_count1.drugname_unique_string.value_counts().head(20)\n"
   ]
  },
  {
   "cell_type": "code",
   "execution_count": 21,
   "metadata": {
    "id": "fUZk4SoCMdTr"
   },
   "outputs": [
    {
     "name": "stdout",
     "output_type": "stream",
     "text": [
      "<class 'pandas.core.frame.DataFrame'>\n",
      "Int64Index: 161376 entries, 30 to 599610\n",
      "Data columns (total 17 columns):\n",
      " #   Column                  Non-Null Count   Dtype         \n",
      "---  ------                  --------------   -----         \n",
      " 0   primaryid               161376 non-null  int64         \n",
      " 1   caseid                  161376 non-null  int64         \n",
      " 2   age                     161376 non-null  float64       \n",
      " 3   sex                     161376 non-null  object        \n",
      " 4   occr_country            161376 non-null  object        \n",
      " 5   COUNTRY                 161376 non-null  object        \n",
      " 6   event_dt                161376 non-null  datetime64[ns]\n",
      " 7   pt                      161376 non-null  object        \n",
      " 8   prod_ai                 161376 non-null  object        \n",
      " 9   drugname                161376 non-null  object        \n",
      " 10  indi_pt                 161376 non-null  object        \n",
      " 11  drugname_unique         161376 non-null  object        \n",
      " 12  pt_unique               161376 non-null  object        \n",
      " 13  prod_ai_unique          161376 non-null  object        \n",
      " 14  indi_pt_unique          161376 non-null  object        \n",
      " 15  count_drugs             161376 non-null  int64         \n",
      " 16  drugname_unique_string  161376 non-null  object        \n",
      "dtypes: datetime64[ns](1), float64(1), int64(3), object(12)\n",
      "memory usage: 22.2+ MB\n"
     ]
    }
   ],
   "source": [
    "df_joined_drug_final_count1.info()\n"
   ]
  },
  {
   "cell_type": "code",
   "execution_count": 59,
   "metadata": {
    "id": "QwwAj7MlMdTs"
   },
   "outputs": [],
   "source": [
    "df_x= df_joined_drug_final_count1[df_joined_drug_final_count1['drugname_unique_string'].isin(['xarelto'])]\n",
    "df_p= df_joined_drug_final_count1[df_joined_drug_final_count1['drugname_unique_string'].isin(['pradaxa'])]\n",
    "df_e= df_joined_drug_final_count1[df_joined_drug_final_count1['drugname_unique_string'].isin(['eliquis'])]\n",
    "\n",
    "#df_joined_drug_.head()"
   ]
  },
  {
   "cell_type": "code",
   "execution_count": 25,
   "metadata": {
    "id": "HALBn6ijMdTs"
   },
   "outputs": [
    {
     "data": {
      "text/plain": [
       "Germany           484\n",
       "France            297\n",
       "United Kingdom    180\n",
       "Italy             114\n",
       "Canarias           47\n",
       "Spain              47\n",
       "Sweden             46\n",
       "Austria            40\n",
       "Turkey             33\n",
       "Switzerland        24\n",
       "Ireland            23\n",
       "Netherlands        23\n",
       "Finland            22\n",
       "Poland             19\n",
       "Slovenia           19\n",
       "Hungary            19\n",
       "Greece             17\n",
       "Belgium            17\n",
       "Norway             13\n",
       "Denmark            11\n",
       "Name: COUNTRY, dtype: int64"
      ]
     },
     "execution_count": 25,
     "metadata": {},
     "output_type": "execute_result"
    }
   ],
   "source": [
    "#df_joined_drug.drugname.value_counts()\n",
    "#df_ = df_.filter(['primaryid','caseid','lot_num', 'nda_num','pt','drugname','prod_ai','reporter_country','occr_country','event_dt','CNTRY_NAME','fda_dt', 'geometry'])\n",
    "\n",
    "df_x.COUNTRY.value_counts().head(20)\n",
    "#df_p.COUNTRY.value_counts().head(20)\n",
    "#df_e.COUNTRY.value_counts().head(20)\n",
    "\n",
    "\n",
    "#df_.prod_ai"
   ]
  },
  {
   "cell_type": "code",
   "execution_count": 60,
   "metadata": {
    "id": "Ys9SknHrMdTu"
   },
   "outputs": [
    {
     "name": "stderr",
     "output_type": "stream",
     "text": [
      "<ipython-input-60-bc11382f82ab>:2: SettingWithCopyWarning: \n",
      "A value is trying to be set on a copy of a slice from a DataFrame.\n",
      "Try using .loc[row_indexer,col_indexer] = value instead\n",
      "\n",
      "See the caveats in the documentation: https://pandas.pydata.org/pandas-docs/stable/user_guide/indexing.html#returning-a-view-versus-a-copy\n",
      "  df_x['one'] = int(1)\n",
      "<ipython-input-60-bc11382f82ab>:3: SettingWithCopyWarning: \n",
      "A value is trying to be set on a copy of a slice from a DataFrame.\n",
      "Try using .loc[row_indexer,col_indexer] = value instead\n",
      "\n",
      "See the caveats in the documentation: https://pandas.pydata.org/pandas-docs/stable/user_guide/indexing.html#returning-a-view-versus-a-copy\n",
      "  df_x['year'] = pd.DatetimeIndex(df_x['event_dt']).year\n",
      "<ipython-input-60-bc11382f82ab>:4: SettingWithCopyWarning: \n",
      "A value is trying to be set on a copy of a slice from a DataFrame.\n",
      "Try using .loc[row_indexer,col_indexer] = value instead\n",
      "\n",
      "See the caveats in the documentation: https://pandas.pydata.org/pandas-docs/stable/user_guide/indexing.html#returning-a-view-versus-a-copy\n",
      "  df_x['quarter'] = pd.DatetimeIndex(df_x['event_dt']).quarter\n",
      "<ipython-input-60-bc11382f82ab>:6: SettingWithCopyWarning: \n",
      "A value is trying to be set on a copy of a slice from a DataFrame.\n",
      "Try using .loc[row_indexer,col_indexer] = value instead\n",
      "\n",
      "See the caveats in the documentation: https://pandas.pydata.org/pandas-docs/stable/user_guide/indexing.html#returning-a-view-versus-a-copy\n",
      "  df_p['one'] = int(1)\n",
      "<ipython-input-60-bc11382f82ab>:7: SettingWithCopyWarning: \n",
      "A value is trying to be set on a copy of a slice from a DataFrame.\n",
      "Try using .loc[row_indexer,col_indexer] = value instead\n",
      "\n",
      "See the caveats in the documentation: https://pandas.pydata.org/pandas-docs/stable/user_guide/indexing.html#returning-a-view-versus-a-copy\n",
      "  df_p['year'] = pd.DatetimeIndex(df_p['event_dt']).year\n",
      "<ipython-input-60-bc11382f82ab>:8: SettingWithCopyWarning: \n",
      "A value is trying to be set on a copy of a slice from a DataFrame.\n",
      "Try using .loc[row_indexer,col_indexer] = value instead\n",
      "\n",
      "See the caveats in the documentation: https://pandas.pydata.org/pandas-docs/stable/user_guide/indexing.html#returning-a-view-versus-a-copy\n",
      "  df_p['quarter'] = pd.DatetimeIndex(df_p['event_dt']).quarter\n",
      "<ipython-input-60-bc11382f82ab>:9: SettingWithCopyWarning: \n",
      "A value is trying to be set on a copy of a slice from a DataFrame.\n",
      "Try using .loc[row_indexer,col_indexer] = value instead\n",
      "\n",
      "See the caveats in the documentation: https://pandas.pydata.org/pandas-docs/stable/user_guide/indexing.html#returning-a-view-versus-a-copy\n",
      "  df_e['one'] = int(1)\n",
      "<ipython-input-60-bc11382f82ab>:10: SettingWithCopyWarning: \n",
      "A value is trying to be set on a copy of a slice from a DataFrame.\n",
      "Try using .loc[row_indexer,col_indexer] = value instead\n",
      "\n",
      "See the caveats in the documentation: https://pandas.pydata.org/pandas-docs/stable/user_guide/indexing.html#returning-a-view-versus-a-copy\n",
      "  df_e['year'] = pd.DatetimeIndex(df_e['event_dt']).year\n",
      "<ipython-input-60-bc11382f82ab>:11: SettingWithCopyWarning: \n",
      "A value is trying to be set on a copy of a slice from a DataFrame.\n",
      "Try using .loc[row_indexer,col_indexer] = value instead\n",
      "\n",
      "See the caveats in the documentation: https://pandas.pydata.org/pandas-docs/stable/user_guide/indexing.html#returning-a-view-versus-a-copy\n",
      "  df_e['quarter'] = pd.DatetimeIndex(df_e['event_dt']).quarter\n"
     ]
    }
   ],
   "source": [
    "#df_natalizumab.drop(['fda_dt'], axis=1,inplace=True)\n",
    "df_x['one'] = int(1)\n",
    "df_x['year'] = pd.DatetimeIndex(df_x['event_dt']).year\n",
    "df_x['quarter'] = pd.DatetimeIndex(df_x['event_dt']).quarter\n",
    "\n",
    "df_p['one'] = int(1)\n",
    "df_p['year'] = pd.DatetimeIndex(df_p['event_dt']).year\n",
    "df_p['quarter'] = pd.DatetimeIndex(df_p['event_dt']).quarter\n",
    "df_e['one'] = int(1)\n",
    "df_e['year'] = pd.DatetimeIndex(df_e['event_dt']).year\n",
    "df_e['quarter'] = pd.DatetimeIndex(df_e['event_dt']).quarter\n",
    "\n",
    "\n",
    "\n",
    "df_e = df_e[(df_e['year'] >= 2015) & (df_e['year'] <= 2019)]\n",
    "df_p = df_p[(df_p['year'] >= 2015) & (df_p['year'] <= 2019)]\n",
    "df_x = df_x[(df_x['year'] >= 2015) & (df_x['year'] <= 2019)]\n"
   ]
  },
  {
   "cell_type": "code",
   "execution_count": 61,
   "metadata": {
    "id": "5oUuvDMvMdTt"
   },
   "outputs": [
    {
     "name": "stdout",
     "output_type": "stream",
     "text": [
      "total rows:  1054\n"
     ]
    }
   ],
   "source": [
    "total_rows = df_p['primaryid'].count()\n",
    "#print(total_rows2+1)\n",
    "print('total rows: ', total_rows+1)"
   ]
  },
  {
   "cell_type": "code",
   "execution_count": 62,
   "metadata": {
    "id": "c21wj5_aMdTt"
   },
   "outputs": [
    {
     "name": "stdout",
     "output_type": "stream",
     "text": [
      "total rows:  1327\n"
     ]
    }
   ],
   "source": [
    "total_rows = df_x['primaryid'].count()\n",
    "print('total rows: ',total_rows+1)"
   ]
  },
  {
   "cell_type": "code",
   "execution_count": 63,
   "metadata": {},
   "outputs": [
    {
     "name": "stdout",
     "output_type": "stream",
     "text": [
      "total rows:  757\n"
     ]
    }
   ],
   "source": [
    "total_rows = df_e['primaryid'].count()\n",
    "print('total rows: ',total_rows+1)"
   ]
  },
  {
   "cell_type": "code",
   "execution_count": 71,
   "metadata": {
    "id": "ShX3feSpMdTu"
   },
   "outputs": [
    {
     "data": {
      "image/png": "[encoded data removed]",
      "text/plain": [
       "<Figure size 1200x1200 with 1 Axes>"
      ]
     },
     "metadata": {},
     "output_type": "display_data"
    }
   ],
   "source": [
    "import matplotlib.pyplot as plt\n",
    "%matplotlib inline\n",
    "\n",
    "plt.style.use(['dark_background'])\n",
    "plt.style.use('ggplot')\n",
    "plt.figure(num=None, figsize=(15, 15), dpi=80, facecolor='w', edgecolor='k')\n",
    "plt.rc('xtick', labelsize=20) \n",
    "plt.rc('ytick', labelsize=20) \n",
    "df_x['event_dt'].groupby(df_x[\"event_dt\"].dt.year).count().plot(kind=\"bar\")\n",
    "plt.xlabel(\"\")\n",
    "#plt.ylabel(\" \")\n",
    "plt.savefig(r\"D:\\Research\\FAERS_Public_Similarity\\Results\\Tables\\xarelt\\xarelto_hist_2015-2019.jpg\", bbox_inches='tight', pad_inches=0)\n"
   ]
  },
  {
   "cell_type": "code",
   "execution_count": 72,
   "metadata": {},
   "outputs": [
    {
     "data": {
      "image/png": "[encoded data removed]",
      "text/plain": [
       "<Figure size 1200x1200 with 1 Axes>"
      ]
     },
     "metadata": {},
     "output_type": "display_data"
    }
   ],
   "source": [
    "import matplotlib.pyplot as plt\n",
    "%matplotlib inline\n",
    "\n",
    "plt.style.use(['dark_background'])\n",
    "plt.style.use('ggplot')\n",
    "plt.figure(num=None, figsize=(15, 15), dpi=80, facecolor='w', edgecolor='k')\n",
    "plt.rc('xtick', labelsize=20) \n",
    "plt.rc('ytick', labelsize=20) \n",
    "\n",
    "\n",
    "\n",
    "df_p['event_dt'].groupby(df_p[\"event_dt\"].dt.year).count().plot(kind=\"bar\")\n",
    "plt.xlabel(\"\")\n",
    "#plt.ylabel(\" \")\n",
    "\n",
    "plt.savefig(r\"D:\\Research\\FAERS_Public_Similarity\\Results\\Tables\\pradax\\pradaxa_hist_2015-2019.jpg\", bbox_inches='tight', pad_inches=0)\n"
   ]
  },
  {
   "cell_type": "code",
   "execution_count": 73,
   "metadata": {},
   "outputs": [
    {
     "data": {
      "image/png": "[encoded data removed]",
      "text/plain": [
       "<Figure size 1200x1200 with 1 Axes>"
      ]
     },
     "metadata": {},
     "output_type": "display_data"
    }
   ],
   "source": [
    "import matplotlib.pyplot as plt\n",
    "%matplotlib inline\n",
    "\n",
    "plt.style.use(['dark_background'])\n",
    "plt.style.use('ggplot')\n",
    "plt.figure(num=None, figsize=(15, 15), dpi=80, facecolor='w', edgecolor='k')\n",
    "plt.rc('xtick', labelsize=20) \n",
    "plt.rc('ytick', labelsize=20) \n",
    "df_e['event_dt'].groupby(df_e[\"event_dt\"].dt.year).count().plot(kind=\"bar\")\n",
    "plt.xlabel(\"\")\n",
    "#plt.ylabel(\" \")\n",
    "plt.savefig(r\"D:\\Research\\FAERS_Public_Similarity\\Results\\Tables\\eliqui\\eliquis_hist_2015-2019.jpg\", bbox_inches='tight', pad_inches=0)\n"
   ]
  },
  {
   "cell_type": "code",
   "execution_count": 74,
   "metadata": {
    "id": "bOwslOiVMdTu"
   },
   "outputs": [],
   "source": [
    "\n",
    "df_p.to_csv(r\"D:\\Research\\FAERS_Public_Similarity\\Data\\analysis_ready\\df_pradaxa_europe.csv\")\n",
    "df_e.to_csv(r\"D:\\Research\\FAERS_Public_Similarity\\Data\\analysis_ready\\df_eliquis_europe.csv\")\n",
    "df_x.to_csv(r\"D:\\Research\\FAERS_Public_Similarity\\Data\\analysis_ready\\df_xarelto_europe.csv\")\n",
    "\n",
    "#xarelto\n"
   ]
  },
  {
   "cell_type": "code",
   "execution_count": 75,
   "metadata": {
    "id": "-f7HQp1BMdTy"
   },
   "outputs": [
    {
     "name": "stdout",
     "output_type": "stream",
     "text": [
      "done\n"
     ]
    }
   ],
   "source": [
    "print('done')"
   ]
  },
  {
   "cell_type": "code",
   "execution_count": null,
   "metadata": {
    "id": "fxbDmepBMdTz"
   },
   "outputs": [],
   "source": []
  }
 ],
 "metadata": {
  "accelerator": "TPU",
  "colab": {
   "machine_shape": "hm",
   "name": "Copy of FAERS_download_datamanagement_part1_final1.ipynb",
   "provenance": [],
   "toc_visible": true
  },
  "kernelspec": {
   "display_name": "Python 3",
   "language": "python",
   "name": "python3"
  },
  "language_info": {
   "codemirror_mode": {
    "name": "ipython",
    "version": 3
   },
   "file_extension": ".py",
   "mimetype": "text/x-python",
   "name": "python",
   "nbconvert_exporter": "python",
   "pygments_lexer": "ipython3",
   "version": "3.8.5"
  }
 },
 "nbformat": 4,
 "nbformat_minor": 4
}
